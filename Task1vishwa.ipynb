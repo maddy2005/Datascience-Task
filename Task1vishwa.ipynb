{
  "nbformat": 4,
  "nbformat_minor": 0,
  "metadata": {
    "colab": {
      "provenance": [],
      "authorship_tag": "ABX9TyNy085B0A5vpVqbTkYMxl3e",
      "include_colab_link": true
    },
    "kernelspec": {
      "name": "python3",
      "display_name": "Python 3"
    },
    "language_info": {
      "name": "python"
    }
  },
  "cells": [
    {
      "cell_type": "markdown",
      "metadata": {
        "id": "view-in-github",
        "colab_type": "text"
      },
      "source": [
        "<a href=\"https://colab.research.google.com/github/maddy2005/Datascience-Task/blob/main/Task1vishwa.ipynb\" target=\"_parent\"><img src=\"https://colab.research.google.com/assets/colab-badge.svg\" alt=\"Open In Colab\"/></a>"
      ]
    },
    {
      "cell_type": "markdown",
      "source": [
        "**creating a array**"
      ],
      "metadata": {
        "id": "WsHnB0sJyIIm"
      }
    },
    {
      "cell_type": "markdown",
      "source": [
        "**TASK 1**"
      ],
      "metadata": {
        "id": "Sz4jRYXWkkIe"
      }
    },
    {
      "cell_type": "code",
      "source": [
        "import numpy as np\n",
        "a=np.array([1,2,3,4])  #creating a new array\n",
        "print(a)\n",
        "print(type(a))"
      ],
      "metadata": {
        "colab": {
          "base_uri": "https://localhost:8080/"
        },
        "id": "h_TjlT-884Q3",
        "outputId": "e1ed776e-9901-4606-c3bb-ddfbe221a939"
      },
      "execution_count": null,
      "outputs": [
        {
          "output_type": "stream",
          "name": "stdout",
          "text": [
            "[1 2 3 4]\n",
            "<class 'numpy.ndarray'>\n"
          ]
        }
      ]
    },
    {
      "cell_type": "markdown",
      "source": [
        "**printing the dimension of the array**"
      ],
      "metadata": {
        "id": "xMBGg4Utkz0G"
      }
    },
    {
      "cell_type": "code",
      "source": [
        "import numpy as np #print the dimension\n",
        "a=np.array(42)\n",
        "b=np.array([1,2,3])\n",
        "c=np.array([[[1,2,3],[4,5,6]],[[3,2,1],[4,5,7]]])\n",
        "print(b.ndim)"
      ],
      "metadata": {
        "colab": {
          "base_uri": "https://localhost:8080/"
        },
        "id": "bFN7uHuK9Qos",
        "outputId": "171d900e-8993-45a4-eaa9-3409012038a2"
      },
      "execution_count": null,
      "outputs": [
        {
          "output_type": "stream",
          "name": "stdout",
          "text": [
            "1\n"
          ]
        }
      ]
    },
    {
      "cell_type": "markdown",
      "source": [
        "**slicing the array**"
      ],
      "metadata": {
        "id": "1E3KPCJtlBj8"
      }
    },
    {
      "cell_type": "code",
      "source": [
        "import numpy as np      #split the array\n",
        "c=np.array([[[1,2,3],[4,5,6]],[[3,2,1],[4,5,7]]])\n",
        "print(c[1,1])\n",
        "a=np.array([[1,2,3],[4,5,6],[3,2,1],[4,5,7]])\n",
        "print(a[1,1])"
      ],
      "metadata": {
        "colab": {
          "base_uri": "https://localhost:8080/"
        },
        "id": "8hz25dJL9TX5",
        "outputId": "c1738e75-e495-41e1-f836-dbec8b12cd77"
      },
      "execution_count": null,
      "outputs": [
        {
          "output_type": "stream",
          "name": "stdout",
          "text": [
            "[4 5 7]\n",
            "5\n"
          ]
        }
      ]
    },
    {
      "cell_type": "markdown",
      "source": [
        "**sorting**"
      ],
      "metadata": {
        "id": "ly0Wb0ZOlK2-"
      }
    },
    {
      "cell_type": "code",
      "source": [
        "import numpy as np\n",
        "a=np.array([1,2,3]) #sort the array\n",
        "print(a[2])"
      ],
      "metadata": {
        "colab": {
          "base_uri": "https://localhost:8080/"
        },
        "id": "iQ5fIguQ9x_A",
        "outputId": "0c7a33eb-42fa-4287-f123-10d5d0bc07f0"
      },
      "execution_count": null,
      "outputs": [
        {
          "output_type": "stream",
          "name": "stdout",
          "text": [
            "3\n"
          ]
        }
      ]
    },
    {
      "cell_type": "code",
      "source": [
        "import numpy as np\n",
        "b=np.array([1,2,3,4,5,6])\n",
        "print(b[1:5])"
      ],
      "metadata": {
        "colab": {
          "base_uri": "https://localhost:8080/"
        },
        "id": "DE6TbiKQ9zNU",
        "outputId": "813d181c-c100-457f-9ebb-2176d181000f"
      },
      "execution_count": null,
      "outputs": [
        {
          "output_type": "stream",
          "name": "stdout",
          "text": [
            "[2 3 4 5]\n"
          ]
        }
      ]
    },
    {
      "cell_type": "code",
      "source": [
        "# Python program to demonstrate\n",
        "# indexing in numpy array\n",
        "import numpy as np\n",
        "\n",
        "# Initial Array\n",
        "a= np.array([[-1, 2, 0, 4],\n",
        "                [4, -0.5, 6, 0],\n",
        "                [2.6, 0, 7, 8],\n",
        "                [3, -7, 4, 2.0]])\n",
        "print(\"Initial Array: \")\n",
        "print(a)\n",
        "\n",
        "# Printing a range of Array\n",
        "# with the use of slicing method\n",
        "sliced_a = a[:2, ::2]\n",
        "print (\"Array with first 2 rows and\"\n",
        "    \" alternate columns(0 and 2):\\n\", sliced_a)\n",
        "\n",
        "# Printing elements at\n",
        "# specific Indices\n",
        "Index_a = a[[1, 1, 0, 3],\n",
        "                [3, 2, 1, 0]]\n",
        "print (\"\\nElements at indices (1, 3), \"\n",
        "    \"(1, 2), (0, 1), (3, 0):\\n\", Index_a)"
      ],
      "metadata": {
        "colab": {
          "base_uri": "https://localhost:8080/"
        },
        "id": "ieiwvCpm96jT",
        "outputId": "ff4b54e5-2645-405c-8418-b518e76f3152"
      },
      "execution_count": null,
      "outputs": [
        {
          "output_type": "stream",
          "name": "stdout",
          "text": [
            "Initial Array: \n",
            "[[-1.   2.   0.   4. ]\n",
            " [ 4.  -0.5  6.   0. ]\n",
            " [ 2.6  0.   7.   8. ]\n",
            " [ 3.  -7.   4.   2. ]]\n",
            "Array with first 2 rows and alternate columns(0 and 2):\n",
            " [[-1.  0.]\n",
            " [ 4.  6.]]\n",
            "\n",
            "Elements at indices (1, 3), (1, 2), (0, 1), (3, 0):\n",
            " [0. 6. 2. 3.]\n"
          ]
        }
      ]
    },
    {
      "cell_type": "code",
      "source": [
        "# Python program to demonstrate\n",
        "# basic operations on single array\n",
        "import numpy as np\n",
        "\n",
        "# Defining Array 1\n",
        "a = np.array([[1, 2],\n",
        "              [3, 4]])\n",
        "\n",
        "# Defining Array 2\n",
        "b = np.array([[4, 3],\n",
        "              [2, 1]])\n",
        "\n",
        "# Adding 1 to every element\n",
        "print (\"Adding 1 to every element:\", a + 1)\n",
        "\n",
        "# Subtracting 2 from each element\n",
        "print (\"\\nSubtracting 2 from each element:\", b - 2)\n",
        "\n",
        "# sum of array elements\n",
        "# Performing Unary operations\n",
        "print (\"\\nSum of all array \"\n",
        "       \"elements: \", a.sum())\n",
        "\n",
        "# Adding two arrays\n",
        "# Performing Binary operations\n",
        "print (\"\\nArray sum:\\n\", a + b)"
      ],
      "metadata": {
        "colab": {
          "base_uri": "https://localhost:8080/"
        },
        "id": "DvIgcYFI-BcS",
        "outputId": "37a994ab-04f3-4440-c396-bd99947e2281"
      },
      "execution_count": null,
      "outputs": [
        {
          "output_type": "stream",
          "name": "stdout",
          "text": [
            "Adding 1 to every element: [[2 3]\n",
            " [4 5]]\n",
            "\n",
            "Subtracting 2 from each element: [[ 2  1]\n",
            " [ 0 -1]]\n",
            "\n",
            "Sum of all array elements:  10\n",
            "\n",
            "Array sum:\n",
            " [[5 5]\n",
            " [5 5]]\n"
          ]
        }
      ]
    },
    {
      "cell_type": "code",
      "source": [
        "# Python Program to create\n",
        "# a data type object\n",
        "import numpy as np\n",
        "\n",
        "# Integer datatype\n",
        "# guessed by Numpy\n",
        "x = np.array([1, 2])\n",
        "print(\"Integer Datatype: \")\n",
        "print(x.dtype)\n",
        "\n",
        "# Float datatype\n",
        "# guessed by Numpy\n",
        "x = np.array([1.0, 2.0])\n",
        "print(\"\\nFloat Datatype: \")\n",
        "print(x.dtype)\n",
        "\n",
        "# Forced Datatype\n",
        "x = np.array([1, 2], dtype = np.int64)\n",
        "print(\"\\nForcing a Datatype: \")\n",
        "print(x.dtype)"
      ],
      "metadata": {
        "colab": {
          "base_uri": "https://localhost:8080/"
        },
        "id": "O_tI2GFR-Fju",
        "outputId": "0cfcda5e-146a-4596-b5ed-edcf0bb75228"
      },
      "execution_count": null,
      "outputs": [
        {
          "output_type": "stream",
          "name": "stdout",
          "text": [
            "Integer Datatype: \n",
            "int64\n",
            "\n",
            "Float Datatype: \n",
            "float64\n",
            "\n",
            "Forcing a Datatype: \n",
            "int64\n"
          ]
        }
      ]
    },
    {
      "cell_type": "code",
      "source": [
        "import numpy as np\n",
        "\n",
        "# First Array\n",
        "a = np.array([[4, 7], [2, 6]],\n",
        "                 dtype = np.float64)\n",
        "\n",
        "# Second Array\n",
        "b = np.array([[3, 6], [2, 8]],\n",
        "                 dtype = np.float64)\n",
        "\n",
        "# Addition of two Arrays\n",
        "Sum = np.add(a, b)\n",
        "print(\"Addition of Two Arrays: \")\n",
        "print(Sum)\n",
        "\n",
        "# Addition of all Array elements\n",
        "# using predefined sum method\n",
        "Sum1 = np.sum(a)\n",
        "print(\"\\nAddition of Array elements: \")\n",
        "print(Sum1)\n",
        "\n",
        "# Square root of Array\n",
        "Sqrt = np.sqrt(a)\n",
        "print(\"\\nSquare root of Array1 elements: \")\n",
        "print(Sqrt)\n",
        "\n",
        "# Transpose of Array\n",
        "# using In-built function 'T'\n",
        "Trans_arr = a.T\n",
        "print(\"\\nTranspose of Array: \")\n",
        "print(Trans_arr)"
      ],
      "metadata": {
        "colab": {
          "base_uri": "https://localhost:8080/"
        },
        "id": "xvqQM46X-PKI",
        "outputId": "ef438714-b901-4870-801d-df9d5ec2ce3b"
      },
      "execution_count": null,
      "outputs": [
        {
          "output_type": "stream",
          "name": "stdout",
          "text": [
            "Addition of Two Arrays: \n",
            "[[ 7. 13.]\n",
            " [ 4. 14.]]\n",
            "\n",
            "Addition of Array elements: \n",
            "19.0\n",
            "\n",
            "Square root of Array1 elements: \n",
            "[[2.         2.64575131]\n",
            " [1.41421356 2.44948974]]\n",
            "\n",
            "Transpose of Array: \n",
            "[[4. 2.]\n",
            " [7. 6.]]\n"
          ]
        }
      ]
    },
    {
      "cell_type": "code",
      "source": [
        "import numpy as np\n",
        "in_num1 = 10\n",
        "in_num2 = 11\n",
        "\n",
        "print (\"Input  number1 : \", in_num1)\n",
        "print (\"Input  number2 : \", in_num2)\n",
        "\n",
        "out_num = np.bitwise_and(in_num1, in_num2)\n",
        "print (\"bitwise_and of 10 and 11 : \", out_num)"
      ],
      "metadata": {
        "colab": {
          "base_uri": "https://localhost:8080/"
        },
        "id": "7_fULvTc-Upn",
        "outputId": "b8b0dad7-7cf4-4975-f18a-d20fa225f81f"
      },
      "execution_count": null,
      "outputs": [
        {
          "output_type": "stream",
          "name": "stdout",
          "text": [
            "Input  number1 :  10\n",
            "Input  number2 :  11\n",
            "bitwise_and of 10 and 11 :  10\n"
          ]
        }
      ]
    },
    {
      "cell_type": "code",
      "source": [
        "import numpy as np\n",
        "\n",
        "in_arr1 = [2, 8, 125]\n",
        "in_arr2 = [3, 3, 115]\n",
        "\n",
        "print (\"Input array1 : \", in_arr1)\n",
        "print (\"Input array2 : \", in_arr2)\n",
        "\n",
        "out_arr = np.bitwise_and(in_arr1, in_arr2)\n",
        "print (\"Output array after bitwise_and: \", out_arr)"
      ],
      "metadata": {
        "colab": {
          "base_uri": "https://localhost:8080/"
        },
        "id": "mP8WvRZ--YKi",
        "outputId": "cdec82fb-a448-41d5-f592-7578ffb7c6a3"
      },
      "execution_count": null,
      "outputs": [
        {
          "output_type": "stream",
          "name": "stdout",
          "text": [
            "Input array1 :  [2, 8, 125]\n",
            "Input array2 :  [3, 3, 115]\n",
            "Output array after bitwise_and:  [  2   0 113]\n"
          ]
        }
      ]
    },
    {
      "cell_type": "code",
      "source": [
        "# Python program explaining\n",
        "# invert() function\n",
        "\n",
        "import numpy as geek\n",
        "in_num = 10\n",
        "print (\"Input  number : \", in_num)\n",
        "\n",
        "out_num = geek.invert(in_num)\n",
        "print (\"inversion of 10 : \", out_num)"
      ],
      "metadata": {
        "colab": {
          "base_uri": "https://localhost:8080/"
        },
        "id": "EJUDSqQQ-gOc",
        "outputId": "40edb56e-a343-4467-dc27-96c7e6aa1e1d"
      },
      "execution_count": null,
      "outputs": [
        {
          "output_type": "stream",
          "name": "stdout",
          "text": [
            "Input  number :  10\n",
            "inversion of 10 :  -11\n"
          ]
        }
      ]
    },
    {
      "cell_type": "code",
      "source": [
        "import numpy as np\n",
        "\n",
        "arr = np.array([41, 42, 43, 44])\n",
        "\n",
        "# Create an empty list\n",
        "filter_arr = []\n",
        "\n",
        "# go through each element in arr\n",
        "for element in arr:\n",
        "  # if the element is higher than 42, set the value to True, otherwise False:\n",
        "  if element > 42:\n",
        "    filter_arr.append(True)\n",
        "  else:\n",
        "    filter_arr.append(False)\n",
        "\n",
        "newarr = arr[filter_arr]\n",
        "\n",
        "print(filter_arr)\n",
        "print(newarr)"
      ],
      "metadata": {
        "colab": {
          "base_uri": "https://localhost:8080/"
        },
        "id": "XtMMNjVG-hZD",
        "outputId": "71da22a0-c6ef-42f6-8ce5-545e463fd5a5"
      },
      "execution_count": null,
      "outputs": [
        {
          "output_type": "stream",
          "name": "stdout",
          "text": [
            "[False, False, True, True]\n",
            "[43 44]\n"
          ]
        }
      ]
    },
    {
      "cell_type": "code",
      "source": [
        "import numpy as np\n",
        "#filtering the array\n",
        "arr = np.array([1, 2, 3, 4, 5, 6, 7])\n",
        "\n",
        "filter_arr = arr % 2 == 0\n",
        "\n",
        "newarr = arr[filter_arr]\n",
        "\n",
        "print(filter_arr)\n",
        "print(newarr)"
      ],
      "metadata": {
        "colab": {
          "base_uri": "https://localhost:8080/"
        },
        "id": "7sDmiIzI-pEU",
        "outputId": "90048fa0-4375-4aec-b221-f2473bf68ff3"
      },
      "execution_count": null,
      "outputs": [
        {
          "output_type": "stream",
          "name": "stdout",
          "text": [
            "[False  True False  True False  True False]\n",
            "[2 4 6]\n"
          ]
        }
      ]
    },
    {
      "cell_type": "code",
      "source": [
        "import numpy as np\n",
        "\n",
        "arr = np.array([1, 2, 3, 4, 5, 6, 7, 8])\n",
        "\n",
        "x = np.where(arr%2 == 0)\n",
        "#print the even numbers\n",
        "print(x)"
      ],
      "metadata": {
        "colab": {
          "base_uri": "https://localhost:8080/"
        },
        "id": "LbJjLCsX-1Ux",
        "outputId": "b9894457-0d7b-4d17-d685-9206e824bafd"
      },
      "execution_count": null,
      "outputs": [
        {
          "output_type": "stream",
          "name": "stdout",
          "text": [
            "(array([1, 3, 5, 7]),)\n"
          ]
        }
      ]
    },
    {
      "cell_type": "code",
      "source": [
        "import numpy as np\n",
        "\n",
        "arr = np.array([1, 2, 3, 4, 5, 6, 7, 8, 9, 10, 11, 12])\n",
        "\n",
        "newarr = arr.reshape(2, 3, 2)\n",
        "#changing the array into matrices\n",
        "print(newarr)"
      ],
      "metadata": {
        "colab": {
          "base_uri": "https://localhost:8080/"
        },
        "id": "9HWkzJeM-4iV",
        "outputId": "dc1ee21e-4af4-4b13-c658-67dee3c7a74a"
      },
      "execution_count": null,
      "outputs": [
        {
          "output_type": "stream",
          "name": "stdout",
          "text": [
            "[[[ 1  2]\n",
            "  [ 3  4]\n",
            "  [ 5  6]]\n",
            "\n",
            " [[ 7  8]\n",
            "  [ 9 10]\n",
            "  [11 12]]]\n"
          ]
        }
      ]
    },
    {
      "cell_type": "code",
      "source": [
        "import numpy as np\n",
        "\n",
        "arr = np.array([1, 2, 3, 4, 5])\n",
        "x = arr.view()\n",
        "arr[0] = 42\n",
        "#insert the element into the array\n",
        "print(arr)\n",
        "print(x)"
      ],
      "metadata": {
        "colab": {
          "base_uri": "https://localhost:8080/"
        },
        "id": "RNX012Lo-9Gp",
        "outputId": "ad1b8821-e2b5-4502-b042-2b61a66b656e"
      },
      "execution_count": null,
      "outputs": [
        {
          "output_type": "stream",
          "name": "stdout",
          "text": [
            "[42  2  3  4  5]\n",
            "[42  2  3  4  5]\n"
          ]
        }
      ]
    },
    {
      "cell_type": "code",
      "source": [
        "from numpy import random  #import random\n",
        "import numpy as np\n",
        "\n",
        "arr = np.array([1, 2, 3, 4, 5])\n",
        "\n",
        "random.shuffle(arr)\n",
        "#Shuffling the array\n",
        "print(arr)"
      ],
      "metadata": {
        "colab": {
          "base_uri": "https://localhost:8080/"
        },
        "id": "XIyWQ9y2ARGx",
        "outputId": "c33a92a5-7a06-4e09-f975-0a41991eb882"
      },
      "execution_count": null,
      "outputs": [
        {
          "output_type": "stream",
          "name": "stdout",
          "text": [
            "[1 2 5 4 3]\n"
          ]
        }
      ]
    },
    {
      "cell_type": "code",
      "source": [
        "import matplotlib.pyplot as plt\n",
        "import seaborn as sns\n",
        "sns.distplot([0, 1, 2, 3, 4, 5])\n",
        "#print the graph\n",
        "plt.show()"
      ],
      "metadata": {
        "colab": {
          "base_uri": "https://localhost:8080/",
          "height": 621
        },
        "id": "N9U_wHOQATdo",
        "outputId": "817e24c8-4d40-47bf-cf6b-449fc8f218f7"
      },
      "execution_count": null,
      "outputs": [
        {
          "output_type": "stream",
          "name": "stderr",
          "text": [
            "<ipython-input-23-65e7c1a72974>:3: UserWarning: \n",
            "\n",
            "`distplot` is a deprecated function and will be removed in seaborn v0.14.0.\n",
            "\n",
            "Please adapt your code to use either `displot` (a figure-level function with\n",
            "similar flexibility) or `histplot` (an axes-level function for histograms).\n",
            "\n",
            "For a guide to updating your code to use the new functions, please see\n",
            "https://gist.github.com/mwaskom/de44147ed2974457ad6372750bbe5751\n",
            "\n",
            "  sns.distplot([0, 1, 2, 3, 4, 5])\n"
          ]
        },
        {
          "output_type": "display_data",
          "data": {
            "text/plain": [
              "<Figure size 640x480 with 1 Axes>"
            ],
            "image/png": "[encoded data removed]"
          },
          "metadata": {}
        }
      ]
    },
    {
      "cell_type": "code",
      "source": [
        "from numpy import random #import random\n",
        "x = random.normal(size=(2, 3)) #print the size\n",
        "print(x)"
      ],
      "metadata": {
        "colab": {
          "base_uri": "https://localhost:8080/"
        },
        "id": "l2MH2582AV20",
        "outputId": "0d8c0b7e-93d4-4d85-ef3d-664ec1fab46b"
      },
      "execution_count": null,
      "outputs": [
        {
          "output_type": "stream",
          "name": "stdout",
          "text": [
            "[[-0.47301054  1.29849617  0.22441396]\n",
            " [ 0.02444063 -1.45493936  0.36150841]]\n"
          ]
        }
      ]
    },
    {
      "cell_type": "code",
      "source": [
        "from numpy import random\n",
        "x = random.normal(loc=1, scale=2, size=(2, 3))\n",
        "print(x)"
      ],
      "metadata": {
        "colab": {
          "base_uri": "https://localhost:8080/"
        },
        "id": "quvdzgZTAanm",
        "outputId": "b863eb92-06ef-4ba8-d0e0-ec72ff2932f0"
      },
      "execution_count": null,
      "outputs": [
        {
          "output_type": "stream",
          "name": "stdout",
          "text": [
            "[[ 1.32536589  2.41305818 -0.04559139]\n",
            " [ 1.35045443  1.87861545  0.12345779]]\n"
          ]
        }
      ]
    },
    {
      "cell_type": "code",
      "source": [
        "from numpy import random\n",
        "\n",
        "x = random.binomial(n=10, p=0.5, size=10)\n",
        "\n",
        "print(x)"
      ],
      "metadata": {
        "colab": {
          "base_uri": "https://localhost:8080/"
        },
        "id": "uXJnOWjzAdHf",
        "outputId": "f71d18eb-993f-45e2-e199-98d9ac6a4ffb"
      },
      "execution_count": null,
      "outputs": [
        {
          "output_type": "stream",
          "name": "stdout",
          "text": [
            "[6 3 6 4 5 5 4 6 7 7]\n"
          ]
        }
      ]
    },
    {
      "cell_type": "code",
      "source": [
        "from numpy import random\n",
        "import matplotlib.pyplot as plt\n",
        "import seaborn as sns\n",
        "#using the matplot and seaborn library function\n",
        "sns.distplot(random.binomial(n=10, p=0.5, size=1000), hist=True, kde=False)\n",
        "#print the graph\n",
        "plt.show()"
      ],
      "metadata": {
        "colab": {
          "base_uri": "https://localhost:8080/",
          "height": 621
        },
        "id": "mzrQJtixAiWB",
        "outputId": "d291dc8f-7ea2-4b3b-ce12-70c8d4ea1de1"
      },
      "execution_count": null,
      "outputs": [
        {
          "output_type": "stream",
          "name": "stderr",
          "text": [
            "<ipython-input-27-44129edc786e>:5: UserWarning: \n",
            "\n",
            "`distplot` is a deprecated function and will be removed in seaborn v0.14.0.\n",
            "\n",
            "Please adapt your code to use either `displot` (a figure-level function with\n",
            "similar flexibility) or `histplot` (an axes-level function for histograms).\n",
            "\n",
            "For a guide to updating your code to use the new functions, please see\n",
            "https://gist.github.com/mwaskom/de44147ed2974457ad6372750bbe5751\n",
            "\n",
            "  sns.distplot(random.binomial(n=10, p=0.5, size=1000), hist=True, kde=False)\n"
          ]
        },
        {
          "output_type": "display_data",
          "data": {
            "text/plain": [
              "<Figure size 640x480 with 1 Axes>"
            ],
            "image/png": "[encoded data removed]"
          },
          "metadata": {}
        }
      ]
    },
    {
      "cell_type": "code",
      "source": [
        "from numpy import random\n",
        "#using the poisson function\n",
        "x = random.poisson(lam=2, size=10)\n",
        "print(x)"
      ],
      "metadata": {
        "colab": {
          "base_uri": "https://localhost:8080/"
        },
        "id": "fEb-wJ3qAkfX",
        "outputId": "29775591-1a7d-417c-c414-82bf0e80de3b"
      },
      "execution_count": null,
      "outputs": [
        {
          "output_type": "stream",
          "name": "stdout",
          "text": [
            "[1 3 1 2 1 3 1 3 0 2]\n"
          ]
        }
      ]
    },
    {
      "cell_type": "code",
      "source": [
        "from numpy import random\n",
        "#using the chisquare function\n",
        "x = random.chisquare(df=2, size=(2, 3))\n",
        "print(x)"
      ],
      "metadata": {
        "colab": {
          "base_uri": "https://localhost:8080/"
        },
        "id": "2i5XEwSVAmRQ",
        "outputId": "35059a72-f3cd-4222-d47b-e7579dbb4e08"
      },
      "execution_count": null,
      "outputs": [
        {
          "output_type": "stream",
          "name": "stdout",
          "text": [
            "[[2.56934597 0.60548779 2.44375611]\n",
            " [2.59629581 2.05217369 0.06955744]]\n"
          ]
        }
      ]
    },
    {
      "cell_type": "markdown",
      "source": [
        "**creating array**"
      ],
      "metadata": {
        "id": "Khazpgk9lcWm"
      }
    },
    {
      "cell_type": "code",
      "source": [
        "import numpy as np"
      ],
      "metadata": {
        "id": "MAa0HsZKApmC"
      },
      "execution_count": null,
      "outputs": []
    },
    {
      "cell_type": "code",
      "source": [
        "a=np.array([1,3,4])\n",
        "print(a)     #Create an array\n",
        "print(\"--------------------------------\")\n",
        "print(np.zeros(a))    #create an array of zeros\n",
        "print(\"---------------------------------\")\n",
        "print(np.ones(a))      #create an array of ones\n",
        "print(\"---------------------------------\")\n",
        "print(np.arange(5))     #create an array with a reange of values\n",
        "print(\"---------------------------------------\")\n",
        "print(np.arange(2,10,2))\n",
        "print(\"------------------------------------------\")\n",
        "#Create an array with evenly spaced values\n",
        "arr1 = np.linspace(0, 1)\n",
        "print(\"Example 1:\", arr1)\n",
        "\n",
        "arr2 = np.linspace(0, 1, num=10)\n",
        "print(\"Example 2:\", arr2)\n",
        "\n",
        "arr3 = np.linspace(0, 1, num=5, endpoint=False)\n",
        "print(\"Example 3:\", arr3)\n",
        "\n",
        "arr4, step_size = np.linspace(0, 1, num=5, retstep=True)\n",
        "print(\"Example 4 - Array:\", arr4)\n",
        "print(\"Example 4 - Step Size:\", step_size)\n",
        "print(\"------------------------------------------------\")\n",
        "\n",
        "# Example 1: Creating a 3x3 identity matrix\n",
        "identity_matrix_3x3 = np.eye(3)\n",
        "print(\"Example 1:\")\n",
        "print(identity_matrix_3x3)\n",
        "\n",
        "# Example 2: Creating a 4x5 identity matrix\n",
        "identity_matrix_4x5 = np.eye(4, 5)\n",
        "print(\"\\nExample 2:\")\n",
        "print(identity_matrix_4x5)\n",
        "\n",
        "# Example 3: Creating a 3x3 identity matrix with ones on the kth diagonal\n",
        "identity_matrix_k_diagonal = np.eye(3, k=1)\n",
        "print(\"\\nExample 3:\")\n",
        "print(identity_matrix_k_diagonal)\n"
      ],
      "metadata": {
        "colab": {
          "base_uri": "https://localhost:8080/"
        },
        "id": "7SNG0XvkAtAO",
        "outputId": "c749d2c2-6af7-45a1-dff2-831568dd03c7"
      },
      "execution_count": null,
      "outputs": [
        {
          "output_type": "stream",
          "name": "stdout",
          "text": [
            "[1 3 4]\n",
            "--------------------------------\n",
            "[[[0. 0. 0. 0.]\n",
            "  [0. 0. 0. 0.]\n",
            "  [0. 0. 0. 0.]]]\n",
            "---------------------------------\n",
            "[[[1. 1. 1. 1.]\n",
            "  [1. 1. 1. 1.]\n",
            "  [1. 1. 1. 1.]]]\n",
            "---------------------------------\n",
            "[0 1 2 3 4]\n",
            "---------------------------------------\n",
            "[2 4 6 8]\n",
            "------------------------------------------\n",
            "Example 1: [0.         0.02040816 0.04081633 0.06122449 0.08163265 0.10204082\n",
            " 0.12244898 0.14285714 0.16326531 0.18367347 0.20408163 0.2244898\n",
            " 0.24489796 0.26530612 0.28571429 0.30612245 0.32653061 0.34693878\n",
            " 0.36734694 0.3877551  0.40816327 0.42857143 0.44897959 0.46938776\n",
            " 0.48979592 0.51020408 0.53061224 0.55102041 0.57142857 0.59183673\n",
            " 0.6122449  0.63265306 0.65306122 0.67346939 0.69387755 0.71428571\n",
            " 0.73469388 0.75510204 0.7755102  0.79591837 0.81632653 0.83673469\n",
            " 0.85714286 0.87755102 0.89795918 0.91836735 0.93877551 0.95918367\n",
            " 0.97959184 1.        ]\n",
            "Example 2: [0.         0.11111111 0.22222222 0.33333333 0.44444444 0.55555556\n",
            " 0.66666667 0.77777778 0.88888889 1.        ]\n",
            "Example 3: [0.  0.2 0.4 0.6 0.8]\n",
            "Example 4 - Array: [0.   0.25 0.5  0.75 1.  ]\n",
            "Example 4 - Step Size: 0.25\n",
            "------------------------------------------------\n",
            "Example 1:\n",
            "[[1. 0. 0.]\n",
            " [0. 1. 0.]\n",
            " [0. 0. 1.]]\n",
            "\n",
            "Example 2:\n",
            "[[1. 0. 0. 0. 0.]\n",
            " [0. 1. 0. 0. 0.]\n",
            " [0. 0. 1. 0. 0.]\n",
            " [0. 0. 0. 1. 0.]]\n",
            "\n",
            "Example 3:\n",
            "[[0. 1. 0.]\n",
            " [0. 0. 1.]\n",
            " [0. 0. 0.]]\n"
          ]
        }
      ]
    },
    {
      "cell_type": "markdown",
      "source": [
        "**array information**"
      ],
      "metadata": {
        "id": "0ECMA8-xllIm"
      }
    },
    {
      "cell_type": "code",
      "source": [
        "c=np.array([[1,2,3],[4,5,6],[3,2,1],[4,5,7]])\n",
        "print(c.shape)    #Returns the dimensions of the array\n",
        "print(c.ndim)      #Returns the number of dimensions\n",
        "print(c.size)      #Returns the total number of elements\n",
        "print(c.dtype)      #Returns the data type of elements\n",
        "print(\"__________________________________\")\n",
        "\n",
        "c=np.array([[[1,2,3],[4,5,6]],[[3,2,1],[4,5,7]]])\n",
        "print(c.shape)\n",
        "print(c.ndim)\n",
        "print(c.size)\n",
        "print(c.dtype)"
      ],
      "metadata": {
        "colab": {
          "base_uri": "https://localhost:8080/"
        },
        "id": "M8OYCO7GAwVG",
        "outputId": "20974394-8189-4417-a5e2-bbb6e204bcac"
      },
      "execution_count": null,
      "outputs": [
        {
          "output_type": "stream",
          "name": "stdout",
          "text": [
            "(4, 3)\n",
            "2\n",
            "12\n",
            "int64\n",
            "__________________________________\n",
            "(2, 2, 3)\n",
            "3\n",
            "12\n",
            "int64\n"
          ]
        }
      ]
    },
    {
      "cell_type": "markdown",
      "source": [
        "**array operations**"
      ],
      "metadata": {
        "id": "P7f3D8QOw39Q"
      }
    },
    {
      "cell_type": "code",
      "source": [
        "c=np.array([2,4,6,11])\n",
        "d=np.array([1,5,3,70])\n",
        "print(np.add(c,d))         #element-wise addition\n",
        "print(np.subtract(c,d))    #element-wise subtraction\n",
        "print(np.multiply(c,d))    #element-wise multiplication\n",
        "print(np.divide(c,d))      #Dot product of 2 arrays\n",
        "print(np.dot(c,d))"
      ],
      "metadata": {
        "colab": {
          "base_uri": "https://localhost:8080/"
        },
        "id": "XUMAcsGVAyiQ",
        "outputId": "2f6424e5-08d7-4c36-b4bc-6590e492745a"
      },
      "execution_count": null,
      "outputs": [
        {
          "output_type": "stream",
          "name": "stdout",
          "text": [
            "[ 3  9  9 81]\n",
            "[  1  -1   3 -59]\n",
            "[  2  20  18 770]\n",
            "[2.         0.8        2.         0.15714286]\n",
            "810\n"
          ]
        }
      ]
    },
    {
      "cell_type": "markdown",
      "source": [
        "**array manipulation**"
      ],
      "metadata": {
        "id": "k8m8i2Y6xA8B"
      }
    },
    {
      "cell_type": "code",
      "source": [
        "r = np.array([1, 2, 3, 4, 5, 6, 7, 8, 9, 10, 11, 12])\n",
        "q=np.array([3,40,50,70])\n",
        "s=np.reshape(r,(3,4))\n",
        "print(s)\n",
        "print(np.transpose(s))     #transpose the array\n",
        "print(np.concatenate((r,q)))  #concatenate the two array\n",
        "print(np.split(r,3))"
      ],
      "metadata": {
        "colab": {
          "base_uri": "https://localhost:8080/"
        },
        "id": "gQtzyPB2A1kW",
        "outputId": "34699524-9926-465e-925f-ef0c156d73ab"
      },
      "execution_count": null,
      "outputs": [
        {
          "output_type": "stream",
          "name": "stdout",
          "text": [
            "[[ 1  2  3  4]\n",
            " [ 5  6  7  8]\n",
            " [ 9 10 11 12]]\n",
            "[[ 1  5  9]\n",
            " [ 2  6 10]\n",
            " [ 3  7 11]\n",
            " [ 4  8 12]]\n",
            "[ 1  2  3  4  5  6  7  8  9 10 11 12  3 40 50 70]\n",
            "[array([1, 2, 3, 4]), array([5, 6, 7, 8]), array([ 9, 10, 11, 12])]\n"
          ]
        }
      ]
    },
    {
      "cell_type": "markdown",
      "source": [
        "**mathematical functions**"
      ],
      "metadata": {
        "id": "5MAUFy5hxH_D"
      }
    },
    {
      "cell_type": "code",
      "source": [
        "r = np.array([1, 2,3, 3, 4, 5, 6, 7, 8, 9, 10, 11, 12])\n",
        "print(np.sum(r))  #adding the elements in the array\n",
        "print(np.mean(r)) #taking mean for the array\n",
        "print(np.median(r))# taking median for the array\n",
        "print(np.std(r))  #taking standard deviation for the array\n",
        "print(np.min(r))  #print the minimum element of the array\n",
        "print(np.max(r))  #print the maximum element of the array"
      ],
      "metadata": {
        "colab": {
          "base_uri": "https://localhost:8080/"
        },
        "id": "xTSuUmoEA7EL",
        "outputId": "cd6a45c3-e9f8-4b1f-cec5-46bdc32cf4e3"
      },
      "execution_count": null,
      "outputs": [
        {
          "output_type": "stream",
          "name": "stdout",
          "text": [
            "81\n",
            "6.230769230769231\n",
            "6.0\n",
            "3.445260873316722\n",
            "1\n",
            "12\n"
          ]
        }
      ]
    },
    {
      "cell_type": "markdown",
      "source": [
        "**trignometric functions**"
      ],
      "metadata": {
        "id": "Xsow3q8LxVr0"
      }
    },
    {
      "cell_type": "code",
      "source": [
        "r = np.array([1, 2, 3, 11, 12])\n",
        "print(np.sin(r))    #print the sin value for the element of the array\n",
        "print(np.cos(r))    #print the cos value for the element of the array\n",
        "print(np.tan(r))    #print the tan value for the element of the array\n",
        "print(np.arcsin(r))\n",
        "print(np.arccos(r))\n",
        "print(np.arctan(r))"
      ],
      "metadata": {
        "colab": {
          "base_uri": "https://localhost:8080/"
        },
        "id": "EdIGtyEnA84y",
        "outputId": "ccee92ea-2d8b-42d3-9dce-fc4cd7b213c7"
      },
      "execution_count": null,
      "outputs": [
        {
          "output_type": "stream",
          "name": "stdout",
          "text": [
            "[ 0.84147098  0.90929743  0.14112001 -0.99999021 -0.53657292]\n",
            "[ 0.54030231 -0.41614684 -0.9899925   0.0044257   0.84385396]\n",
            "[ 1.55740772e+00 -2.18503986e+00 -1.42546543e-01 -2.25950846e+02\n",
            " -6.35859929e-01]\n",
            "[1.57079633        nan        nan        nan        nan]\n",
            "[ 0. nan nan nan nan]\n",
            "[0.78539816 1.10714872 1.24904577 1.48013644 1.48765509]\n"
          ]
        },
        {
          "output_type": "stream",
          "name": "stderr",
          "text": [
            "<ipython-input-36-715afa0f2095>:5: RuntimeWarning: invalid value encountered in arcsin\n",
            "  print(np.arcsin(r))\n",
            "<ipython-input-36-715afa0f2095>:6: RuntimeWarning: invalid value encountered in arccos\n",
            "  print(np.arccos(r))\n"
          ]
        }
      ]
    },
    {
      "cell_type": "markdown",
      "source": [
        "**random**"
      ],
      "metadata": {
        "id": "yKrjQHIBxa03"
      }
    },
    {
      "cell_type": "code",
      "source": [
        "print(np.random.rand())\n",
        "print(\"Random values in a given shape:\") #print the random values in a given shape\n",
        "random_array = np.random.rand(3, 2)\n",
        "print(random_array)\n",
        "#print the random values from a standard normal distribution\n",
        "print(\"Random values from a standard normal distribution:\")\n",
        "random_array = np.random.randn(3, 2)\n",
        "print(random_array)\n",
        "#print the random integers\n",
        "print(\"Random Integers:\")\n",
        "random_integers = np.random.randint(1, 10, size=(3, 4))\n",
        "print(random_integers)\n",
        "#print the shuffle an array\n",
        "print(\"Shuffle an array:\")\n",
        "a=np.array([1,2,3,5,4])\n",
        "np.random.shuffle(a)\n",
        "print(a)"
      ],
      "metadata": {
        "colab": {
          "base_uri": "https://localhost:8080/"
        },
        "id": "-hbZy0njA-1G",
        "outputId": "65af550f-c9a0-41cf-f2b9-82ea9a0b2ba8"
      },
      "execution_count": null,
      "outputs": [
        {
          "output_type": "stream",
          "name": "stdout",
          "text": [
            "0.23093689885312096\n",
            "Random values in a given shape:\n",
            "[[0.37622286 0.55776287]\n",
            " [0.83563071 0.73859048]\n",
            " [0.91460116 0.94359708]]\n",
            "Random values from a standard normal distribution:\n",
            "[[-1.42157453 -1.58085043]\n",
            " [ 0.96464494 -0.50676632]\n",
            " [ 1.66885542  0.92696875]]\n",
            "Random Integers:\n",
            "[[8 4 5 8]\n",
            " [6 5 9 2]\n",
            " [2 9 1 8]]\n",
            "Shuffle an array:\n",
            "[1 5 2 3 4]\n"
          ]
        }
      ]
    },
    {
      "cell_type": "markdown",
      "source": [
        "**statistical functions**"
      ],
      "metadata": {
        "id": "5Vdc3tS5xefx"
      }
    },
    {
      "cell_type": "code",
      "source": [
        "# Percentiles are a measure used in statistics to indicate the relative standing of a particular value within a dataset.\n",
        "\n",
        "data = np.array([1, 2, 3, 4, 5, 6, 7, 8, 9, 10])\n",
        "\n",
        "# Compute the 25th and 75th percentiles\n",
        "percentile_25 = np.percentile(data, 25)\n",
        "percentile_75 = np.percentile(data, 75)\n",
        "\n",
        "print(\"25th percentile:\", percentile_25)\n",
        "print(\"75th percentile:\", percentile_75)\n",
        "\n",
        "#This means that 25% of the values in the dataset are less than or equal to 3.25, and 75% of the values are less than or equal to 7.75.\n"
      ],
      "metadata": {
        "colab": {
          "base_uri": "https://localhost:8080/"
        },
        "id": "WNvpry-WBBVK",
        "outputId": "be39588b-3602-46d0-c056-36ecfad1bd33"
      },
      "execution_count": null,
      "outputs": [
        {
          "output_type": "stream",
          "name": "stdout",
          "text": [
            "25th percentile: 3.25\n",
            "75th percentile: 7.75\n"
          ]
        }
      ]
    },
    {
      "cell_type": "code",
      "source": [
        "#The numpy.corrcoef() function in Python's NumPy library is used to compute the Pearson correlation coefficient between two or more arrays. The Pearson correlation coefficient is a measure of the linear relationship between two variables. It ranges from -1 to 1, where:\n",
        "\n",
        "#1 indicates a perfect positive linear relationship.\n",
        "#-1 indicates a perfect negative linear relationship.\n",
        "#0 indicates no linear relationship.\n",
        "import numpy as np\n",
        "\n",
        "x = np.array([1, 2, 3, 4, 5])\n",
        "y = np.array([2, 3, 4, 5, 6])\n",
        "\n",
        "# Compute the correlation coefficient\n",
        "correlation_matrix = np.corrcoef(x, y)\n",
        "\n",
        "# The correlation coefficient is in the (0, 1) position of the matrix for two variables\n",
        "correlation_coefficient = correlation_matrix[0, 1]\n",
        "\n",
        "print(\"Correlation Coefficient:\", correlation_coefficient)"
      ],
      "metadata": {
        "colab": {
          "base_uri": "https://localhost:8080/"
        },
        "id": "hd0dV1r6BEPa",
        "outputId": "67c2aa98-2524-4f03-e576-8f71cb1637f5"
      },
      "execution_count": null,
      "outputs": [
        {
          "output_type": "stream",
          "name": "stdout",
          "text": [
            "Correlation Coefficient: 0.9999999999999999\n"
          ]
        }
      ]
    },
    {
      "cell_type": "markdown",
      "source": [
        "**logical operations**"
      ],
      "metadata": {
        "id": "Xadr6Mx2xmPP"
      }
    },
    {
      "cell_type": "code",
      "source": [
        "arr1 = np.array([True, False, True])\n",
        "arr2 = np.array([False, True, True])\n",
        "\n",
        "# Perform element-wise logical AND\n",
        "result = np.logical_and(arr1, arr2)\n",
        "result1 = np.logical_or(arr1, arr2)\n",
        "result2 = np.logical_not(arr1, arr2)\n",
        "print(result)\n",
        "print(result1)\n",
        "print(result2)"
      ],
      "metadata": {
        "colab": {
          "base_uri": "https://localhost:8080/"
        },
        "id": "BrZCzCsYBIGc",
        "outputId": "a747fe5d-57f8-457d-dbaa-99dd3e4c5b43"
      },
      "execution_count": null,
      "outputs": [
        {
          "output_type": "stream",
          "name": "stdout",
          "text": [
            "[False False  True]\n",
            "[ True  True  True]\n",
            "[False  True False]\n"
          ]
        }
      ]
    },
    {
      "cell_type": "markdown",
      "source": [
        "**linear algebra**"
      ],
      "metadata": {
        "id": "0iUL09j3xtfn"
      }
    },
    {
      "cell_type": "code",
      "source": [
        "A = np.array([[2, 1],\n",
        "              [7, 4]])\n",
        "\n",
        "# Compute the inverse of the matrix\n",
        "A_inv = np.linalg.inv(A)\n",
        "\n",
        "print(\"Original matrix:\")\n",
        "print(A)\n",
        "\n",
        "print(\"\\nInverse matrix:\")\n",
        "print(A_inv)\n",
        "\n",
        "# Verify the inverse property: A.dot(A_inv) should be the identity matrix\n",
        "identity_matrix = A.dot(A_inv)\n",
        "print(\"\\nProduct of A and A_inv (should be the identity matrix):\")\n",
        "print(identity_matrix)"
      ],
      "metadata": {
        "colab": {
          "base_uri": "https://localhost:8080/"
        },
        "id": "fa5Ntmd2BKku",
        "outputId": "d1ba3c68-da64-4793-e8c5-1297a92d38ce"
      },
      "execution_count": null,
      "outputs": [
        {
          "output_type": "stream",
          "name": "stdout",
          "text": [
            "Original matrix:\n",
            "[[2 1]\n",
            " [7 4]]\n",
            "\n",
            "Inverse matrix:\n",
            "[[ 4. -1.]\n",
            " [-7.  2.]]\n",
            "\n",
            "Product of A and A_inv (should be the identity matrix):\n",
            "[[1. 0.]\n",
            " [0. 1.]]\n"
          ]
        }
      ]
    },
    {
      "cell_type": "code",
      "source": [
        "A = np.array([[4, 7],\n",
        "              [2, 6]])\n",
        "\n",
        "# Compute the determinant of the matrix\n",
        "det_A = np.linalg.det(A)\n",
        "\n",
        "print(\"Matrix:\")\n",
        "print(A)\n",
        "\n",
        "print(\"\\nDeterminant:\", det_A)"
      ],
      "metadata": {
        "colab": {
          "base_uri": "https://localhost:8080/"
        },
        "id": "TZiDTcUcBNzU",
        "outputId": "fac8d0a3-2359-4286-c77b-441518434a83"
      },
      "execution_count": null,
      "outputs": [
        {
          "output_type": "stream",
          "name": "stdout",
          "text": [
            "Matrix:\n",
            "[[4 7]\n",
            " [2 6]]\n",
            "\n",
            "Determinant: 10.000000000000002\n"
          ]
        }
      ]
    },
    {
      "cell_type": "code",
      "source": [
        "A = np.array([[4, -2],\n",
        "              [1,  1]])\n",
        "\n",
        "# Compute the eigenvalues and eigenvectors\n",
        "eigenvalues, eigenvectors = np.linalg.eig(A)\n",
        "\n",
        "print(\"Matrix:\")\n",
        "print(A)\n",
        "\n",
        "print(\"\\nEigenvalues:\")\n",
        "print(eigenvalues)\n",
        "\n",
        "print(\"\\nEigenvectors:\")\n",
        "print(eigenvectors)"
      ],
      "metadata": {
        "colab": {
          "base_uri": "https://localhost:8080/"
        },
        "id": "SPFGf_q2BQzj",
        "outputId": "a17c7671-f143-4d3d-96c4-8fdf2bf6ba17"
      },
      "execution_count": null,
      "outputs": [
        {
          "output_type": "stream",
          "name": "stdout",
          "text": [
            "Matrix:\n",
            "[[ 4 -2]\n",
            " [ 1  1]]\n",
            "\n",
            "Eigenvalues:\n",
            "[3. 2.]\n",
            "\n",
            "Eigenvectors:\n",
            "[[0.89442719 0.70710678]\n",
            " [0.4472136  0.70710678]]\n"
          ]
        }
      ]
    },
    {
      "cell_type": "markdown",
      "source": [
        "**sort an array**"
      ],
      "metadata": {
        "id": "B95jutivxzHn"
      }
    },
    {
      "cell_type": "code",
      "source": [
        "arr = np.array([3, 1, 4, 1, 5, 9, 2, 6, 5, 3, 5])\n",
        "\n",
        "# Sort the array\n",
        "sorted_arr = np.sort(arr)\n",
        "\n",
        "print(\"Original array:\", arr)\n",
        "print(\"Sorted array:\", sorted_arr)\n",
        "\n",
        "\n",
        "# Create a 2D array\n",
        "arr_2d = np.array([[3, 1, 4],\n",
        "                   [1, 5, 9],\n",
        "                   [2, 6, 5]])\n",
        "\n",
        "# Sort along the last axis\n",
        "sorted_arr_2d = np.sort(arr_2d, axis=-1)\n",
        "\n",
        "print(\"Original 2D array:\")\n",
        "print(arr_2d)\n",
        "\n",
        "print(\"\\nSorted 2D array along the last axis:\")\n",
        "print(sorted_arr_2d)"
      ],
      "metadata": {
        "colab": {
          "base_uri": "https://localhost:8080/"
        },
        "id": "rgiZK2mFBUq_",
        "outputId": "66006599-34da-4380-8dc3-622ca4839c57"
      },
      "execution_count": null,
      "outputs": [
        {
          "output_type": "stream",
          "name": "stdout",
          "text": [
            "Original array: [3 1 4 1 5 9 2 6 5 3 5]\n",
            "Sorted array: [1 1 2 3 3 4 5 5 5 6 9]\n",
            "Original 2D array:\n",
            "[[3 1 4]\n",
            " [1 5 9]\n",
            " [2 6 5]]\n",
            "\n",
            "Sorted 2D array along the last axis:\n",
            "[[1 3 4]\n",
            " [1 5 9]\n",
            " [2 5 6]]\n"
          ]
        }
      ]
    },
    {
      "cell_type": "markdown",
      "source": [
        "**save an array to a binary file**"
      ],
      "metadata": {
        "id": "wZOpjAgnx6GL"
      }
    },
    {
      "cell_type": "code",
      "source": [
        "import numpy as np\n",
        "\n",
        "# Create an array\n",
        "arr = np.array([1, 2, 3, 4, 5])\n",
        "\n",
        "# Save the array to a file\n",
        "np.save('saved_array.npy', arr)"
      ],
      "metadata": {
        "id": "1lNPxuM9BYAP"
      },
      "execution_count": null,
      "outputs": []
    },
    {
      "cell_type": "markdown",
      "source": [
        "**load an array from a binary file**"
      ],
      "metadata": {
        "id": "pG8vN7Mqx_qv"
      }
    },
    {
      "cell_type": "code",
      "source": [
        "# Load the saved array\n",
        "loaded_arr = np.load('saved_array.npy')\n",
        "\n",
        "print(\"Loaded array:\", loaded_arr)"
      ],
      "metadata": {
        "colab": {
          "base_uri": "https://localhost:8080/"
        },
        "id": "VGMTaclHBaIA",
        "outputId": "4d42bf20-5ae5-4592-b586-d6f907ac8617"
      },
      "execution_count": null,
      "outputs": [
        {
          "output_type": "stream",
          "name": "stdout",
          "text": [
            "Loaded array: [1 2 3 4 5]\n"
          ]
        }
      ]
    }
  ]
}