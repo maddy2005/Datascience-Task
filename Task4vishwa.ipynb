{
  "cells": [
    {
      "cell_type": "markdown",
      "metadata": {
        "id": "view-in-github",
        "colab_type": "text"
      },
      "source": [
        "<a href=\"https://colab.research.google.com/github/maddy2005/Datascience-Task/blob/main/Task4vishwa.ipynb\" target=\"_parent\"><img src=\"https://colab.research.google.com/assets/colab-badge.svg\" alt=\"Open In Colab\"/></a>"
      ]
    },
    {
      "cell_type": "markdown",
      "metadata": {
        "id": "96443564"
      },
      "source": [
        "#### 1. Import the numpy package under the name `np` (★☆☆)"
      ],
      "id": "96443564"
    },
    {
      "cell_type": "code",
      "execution_count": null,
      "metadata": {
        "id": "ffe1047e"
      },
      "outputs": [],
      "source": [
        "import numpy as np"
      ],
      "id": "ffe1047e"
    },
    {
      "cell_type": "markdown",
      "metadata": {
        "id": "c807bf1d"
      },
      "source": [
        "#### 2. Print the numpy version and the configuration (★☆☆)"
      ],
      "id": "c807bf1d"
    },
    {
      "cell_type": "code",
      "execution_count": null,
      "metadata": {
        "colab": {
          "base_uri": "https://localhost:8080/"
        },
        "id": "f396b717",
        "outputId": "f420509b-0c03-41ad-ffe6-ef52fbb6a991"
      },
      "outputs": [
        {
          "output_type": "stream",
          "name": "stdout",
          "text": [
            "1.23.5\n",
            "openblas64__info:\n",
            "    libraries = ['openblas64_', 'openblas64_']\n",
            "    library_dirs = ['/usr/local/lib']\n",
            "    language = c\n",
            "    define_macros = [('HAVE_CBLAS', None), ('BLAS_SYMBOL_SUFFIX', '64_'), ('HAVE_BLAS_ILP64', None)]\n",
            "    runtime_library_dirs = ['/usr/local/lib']\n",
            "blas_ilp64_opt_info:\n",
            "    libraries = ['openblas64_', 'openblas64_']\n",
            "    library_dirs = ['/usr/local/lib']\n",
            "    language = c\n",
            "    define_macros = [('HAVE_CBLAS', None), ('BLAS_SYMBOL_SUFFIX', '64_'), ('HAVE_BLAS_ILP64', None)]\n",
            "    runtime_library_dirs = ['/usr/local/lib']\n",
            "openblas64__lapack_info:\n",
            "    libraries = ['openblas64_', 'openblas64_']\n",
            "    library_dirs = ['/usr/local/lib']\n",
            "    language = c\n",
            "    define_macros = [('HAVE_CBLAS', None), ('BLAS_SYMBOL_SUFFIX', '64_'), ('HAVE_BLAS_ILP64', None), ('HAVE_LAPACKE', None)]\n",
            "    runtime_library_dirs = ['/usr/local/lib']\n",
            "lapack_ilp64_opt_info:\n",
            "    libraries = ['openblas64_', 'openblas64_']\n",
            "    library_dirs = ['/usr/local/lib']\n",
            "    language = c\n",
            "    define_macros = [('HAVE_CBLAS', None), ('BLAS_SYMBOL_SUFFIX', '64_'), ('HAVE_BLAS_ILP64', None), ('HAVE_LAPACKE', None)]\n",
            "    runtime_library_dirs = ['/usr/local/lib']\n",
            "Supported SIMD extensions in this NumPy install:\n",
            "    baseline = SSE,SSE2,SSE3\n",
            "    found = SSSE3,SSE41,POPCNT,SSE42,AVX,F16C,FMA3,AVX2\n",
            "    not found = AVX512F,AVX512CD,AVX512_KNL,AVX512_KNM,AVX512_SKX,AVX512_CLX,AVX512_CNL,AVX512_ICL\n"
          ]
        }
      ],
      "source": [
        "print(np.__version__)\n",
        "np.__config__.show()"
      ],
      "id": "f396b717"
    },
    {
      "cell_type": "markdown",
      "metadata": {
        "id": "572c1bdb"
      },
      "source": [
        "#### 3. Create a null vector of size 10 (★☆☆)"
      ],
      "id": "572c1bdb"
    },
    {
      "cell_type": "code",
      "execution_count": null,
      "metadata": {
        "colab": {
          "base_uri": "https://localhost:8080/"
        },
        "id": "31c9f6a5",
        "outputId": "024351bd-d82a-4fc1-ca22-08b9bb8a3043"
      },
      "outputs": [
        {
          "output_type": "stream",
          "name": "stdout",
          "text": [
            "[0. 0. 0. 0. 0. 0. 0. 0. 0. 0.]\n"
          ]
        }
      ],
      "source": [
        "A=np.zeros(10)\n",
        "print(A)"
      ],
      "id": "31c9f6a5"
    },
    {
      "cell_type": "markdown",
      "metadata": {
        "id": "337e6e36"
      },
      "source": [
        "#### 4. How to find the memory size of any array (★☆☆)"
      ],
      "id": "337e6e36"
    },
    {
      "cell_type": "code",
      "execution_count": null,
      "metadata": {
        "colab": {
          "base_uri": "https://localhost:8080/"
        },
        "id": "31e8ec2e",
        "outputId": "6a5114d0-7405-45d0-d5d2-837517a3ea35"
      },
      "outputs": [
        {
          "output_type": "execute_result",
          "data": {
            "text/plain": [
              "24"
            ]
          },
          "metadata": {},
          "execution_count": 4
        }
      ],
      "source": [
        "a=np.array([1,2,3])\n",
        "a.size * a.itemsize"
      ],
      "id": "31e8ec2e"
    },
    {
      "cell_type": "markdown",
      "metadata": {
        "id": "166079c8"
      },
      "source": [
        "#### 5. How to get the documentation of the numpy add function from the command line? (★☆☆)"
      ],
      "id": "166079c8"
    },
    {
      "cell_type": "code",
      "execution_count": null,
      "metadata": {
        "colab": {
          "base_uri": "https://localhost:8080/"
        },
        "id": "593cd80f",
        "outputId": "c412ddfb-3fe8-4f58-818e-4adde83c3b87"
      },
      "outputs": [
        {
          "output_type": "stream",
          "name": "stdout",
          "text": [
            "add(x1, x2, /, out=None, *, where=True, casting='same_kind', order='K', dtype=None, subok=True[, signature, extobj])\n",
            "\n",
            "Add arguments element-wise.\n",
            "\n",
            "Parameters\n",
            "----------\n",
            "x1, x2 : array_like\n",
            "    The arrays to be added.\n",
            "    If ``x1.shape != x2.shape``, they must be broadcastable to a common\n",
            "    shape (which becomes the shape of the output).\n",
            "out : ndarray, None, or tuple of ndarray and None, optional\n",
            "    A location into which the result is stored. If provided, it must have\n",
            "    a shape that the inputs broadcast to. If not provided or None,\n",
            "    a freshly-allocated array is returned. A tuple (possible only as a\n",
            "    keyword argument) must have length equal to the number of outputs.\n",
            "where : array_like, optional\n",
            "    This condition is broadcast over the input. At locations where the\n",
            "    condition is True, the `out` array will be set to the ufunc result.\n",
            "    Elsewhere, the `out` array will retain its original value.\n",
            "    Note that if an uninitialized `out` array is created via the default\n",
            "    ``out=None``, locations within it where the condition is False will\n",
            "    remain uninitialized.\n",
            "**kwargs\n",
            "    For other keyword-only arguments, see the\n",
            "    :ref:`ufunc docs <ufuncs.kwargs>`.\n",
            "\n",
            "Returns\n",
            "-------\n",
            "add : ndarray or scalar\n",
            "    The sum of `x1` and `x2`, element-wise.\n",
            "    This is a scalar if both `x1` and `x2` are scalars.\n",
            "\n",
            "Notes\n",
            "-----\n",
            "Equivalent to `x1` + `x2` in terms of array broadcasting.\n",
            "\n",
            "Examples\n",
            "--------\n",
            ">>> np.add(1.0, 4.0)\n",
            "5.0\n",
            ">>> x1 = np.arange(9.0).reshape((3, 3))\n",
            ">>> x2 = np.arange(3.0)\n",
            ">>> np.add(x1, x2)\n",
            "array([[  0.,   2.,   4.],\n",
            "       [  3.,   5.,   7.],\n",
            "       [  6.,   8.,  10.]])\n",
            "\n",
            "The ``+`` operator can be used as a shorthand for ``np.add`` on ndarrays.\n",
            "\n",
            ">>> x1 = np.arange(9.0).reshape((3, 3))\n",
            ">>> x2 = np.arange(3.0)\n",
            ">>> x1 + x2\n",
            "array([[ 0.,  2.,  4.],\n",
            "       [ 3.,  5.,  7.],\n",
            "       [ 6.,  8., 10.]])\n"
          ]
        }
      ],
      "source": [
        "import numpy as np\n",
        "np.info(np.add)"
      ],
      "id": "593cd80f"
    },
    {
      "cell_type": "markdown",
      "metadata": {
        "id": "3add7101"
      },
      "source": [
        "#### 6. Create a null vector of size 10 but the fifth value which is 1 (★☆☆)"
      ],
      "id": "3add7101"
    },
    {
      "cell_type": "code",
      "execution_count": null,
      "metadata": {
        "colab": {
          "base_uri": "https://localhost:8080/"
        },
        "id": "2edf3c42",
        "outputId": "130f9ced-307c-4a1e-cf6e-027266fb3ddb"
      },
      "outputs": [
        {
          "output_type": "stream",
          "name": "stdout",
          "text": [
            "[0. 0. 0. 0. 1. 0. 0. 0. 0. 0.]\n"
          ]
        }
      ],
      "source": [
        "A=np.zeros(10)\n",
        "A[4]=1\n",
        "print(A)"
      ],
      "id": "2edf3c42"
    },
    {
      "cell_type": "markdown",
      "metadata": {
        "id": "cfc46304"
      },
      "source": [
        "#### 7. Create a vector with values ranging from 10 to 49 (★☆☆)"
      ],
      "id": "cfc46304"
    },
    {
      "cell_type": "code",
      "execution_count": null,
      "metadata": {
        "colab": {
          "base_uri": "https://localhost:8080/"
        },
        "id": "d8b86640",
        "outputId": "6429c430-1969-49ad-baeb-bb930e3342c9"
      },
      "outputs": [
        {
          "output_type": "stream",
          "name": "stdout",
          "text": [
            "[10 11 12 13 14 15 16 17 18 19 20 21 22 23 24 25 26 27 28 29 30 31 32 33\n",
            " 34 35 36 37 38 39 40 41 42 43 44 45 46 47 48 49]\n"
          ]
        }
      ],
      "source": [
        "A=np.arange(10,50)\n",
        "print(A)"
      ],
      "id": "d8b86640"
    },
    {
      "cell_type": "markdown",
      "metadata": {
        "id": "0cc200be"
      },
      "source": [
        "#### 8. Reverse a vector (first element becomes last) (★☆☆)"
      ],
      "id": "0cc200be"
    },
    {
      "cell_type": "code",
      "execution_count": null,
      "metadata": {
        "colab": {
          "base_uri": "https://localhost:8080/"
        },
        "id": "ec044bb5",
        "outputId": "ad2d9996-6d12-433e-e221-4f6563e71ea8"
      },
      "outputs": [
        {
          "output_type": "stream",
          "name": "stdout",
          "text": [
            "[49 48 47 46 45 44 43 42 41 40 39 38 37 36 35 34 33 32 31 30 29 28 27 26\n",
            " 25 24 23 22 21 20 19 18 17 16 15 14 13 12 11 10]\n"
          ]
        }
      ],
      "source": [
        "A=np.arange(10,50)\n",
        "A=A[::-1]\n",
        "print(A)"
      ],
      "id": "ec044bb5"
    },
    {
      "cell_type": "markdown",
      "metadata": {
        "id": "29d9ede4"
      },
      "source": [
        "#### 9. Create a 3x3 matrix with values ranging from 0 to 8 (★☆☆)"
      ],
      "id": "29d9ede4"
    },
    {
      "cell_type": "code",
      "execution_count": null,
      "metadata": {
        "colab": {
          "base_uri": "https://localhost:8080/"
        },
        "id": "d9e39043",
        "outputId": "80c39685-b84f-4756-b0db-9de0b1517c9b"
      },
      "outputs": [
        {
          "output_type": "stream",
          "name": "stdout",
          "text": [
            "[[0 1 2]\n",
            " [3 4 5]\n",
            " [6 7 8]]\n"
          ]
        }
      ],
      "source": [
        "A=np.arange(9).reshape(3,3)\n",
        "print(A)"
      ],
      "id": "d9e39043"
    },
    {
      "cell_type": "markdown",
      "metadata": {
        "id": "88905ceb"
      },
      "source": [
        "#### 10. Find indices of non-zero elements from [1,2,0,0,4,0] (★☆☆)"
      ],
      "id": "88905ceb"
    },
    {
      "cell_type": "code",
      "execution_count": null,
      "metadata": {
        "colab": {
          "base_uri": "https://localhost:8080/"
        },
        "id": "b2f3c90a",
        "outputId": "d7fc71af-f0af-4844-e445-d0fee16149a9"
      },
      "outputs": [
        {
          "output_type": "stream",
          "name": "stdout",
          "text": [
            "(array([0, 1, 4]),)\n"
          ]
        }
      ],
      "source": [
        "A=np.nonzero([1,2,0,0,4,0])\n",
        "print(A)"
      ],
      "id": "b2f3c90a"
    },
    {
      "cell_type": "markdown",
      "metadata": {
        "id": "49603e91"
      },
      "source": [
        "#### 11. Create a 3x3 identity matrix (★☆☆)"
      ],
      "id": "49603e91"
    },
    {
      "cell_type": "code",
      "execution_count": null,
      "metadata": {
        "colab": {
          "base_uri": "https://localhost:8080/"
        },
        "id": "5b607b5c",
        "outputId": "6984305d-4064-44d6-b1e8-299e748b77e4"
      },
      "outputs": [
        {
          "output_type": "stream",
          "name": "stdout",
          "text": [
            "[[1. 0. 0.]\n",
            " [0. 1. 0.]\n",
            " [0. 0. 1.]]\n"
          ]
        }
      ],
      "source": [
        "A=np.eye(3)\n",
        "print(A)"
      ],
      "id": "5b607b5c"
    },
    {
      "cell_type": "markdown",
      "metadata": {
        "id": "e15c249a"
      },
      "source": [
        "#### 12. Create a 3x3x3 array with random values (★☆☆)"
      ],
      "id": "e15c249a"
    },
    {
      "cell_type": "code",
      "execution_count": null,
      "metadata": {
        "colab": {
          "base_uri": "https://localhost:8080/"
        },
        "id": "ab21ed50",
        "outputId": "673ac98c-7afa-4738-b704-bd603938610b"
      },
      "outputs": [
        {
          "output_type": "stream",
          "name": "stdout",
          "text": [
            "[2.3731217  1.27097406 2.1826533 ]\n"
          ]
        }
      ],
      "source": [
        "A=np.random.uniform((3,3,3))\n",
        "print(A)"
      ],
      "id": "ab21ed50"
    },
    {
      "cell_type": "markdown",
      "metadata": {
        "id": "157a129c"
      },
      "source": [
        "#### 13. Create a 10x10 array with random values and find the minimum and maximum values (★☆☆)"
      ],
      "id": "157a129c"
    },
    {
      "cell_type": "code",
      "execution_count": null,
      "metadata": {
        "colab": {
          "base_uri": "https://localhost:8080/"
        },
        "id": "c0066de5",
        "outputId": "c5356fd2-5539-405e-e942-cb4e739c0e07"
      },
      "outputs": [
        {
          "output_type": "stream",
          "name": "stdout",
          "text": [
            "0.006728932078534755 0.9931899247829339\n"
          ]
        }
      ],
      "source": [
        "A=np.random.random((10,10))\n",
        "Amin,Amax=A.min(),A.max()\n",
        "print(Amin,Amax)"
      ],
      "id": "c0066de5"
    },
    {
      "cell_type": "markdown",
      "metadata": {
        "id": "d92d7b32"
      },
      "source": [
        "#### 14. Create a random vector of size 30 and find the mean value (★☆☆)"
      ],
      "id": "d92d7b32"
    },
    {
      "cell_type": "code",
      "execution_count": null,
      "metadata": {
        "colab": {
          "base_uri": "https://localhost:8080/"
        },
        "id": "9672d023",
        "outputId": "feb7755a-7ed7-426d-d819-75d27691ee4f"
      },
      "outputs": [
        {
          "output_type": "stream",
          "name": "stdout",
          "text": [
            "0.4932649206513919\n"
          ]
        }
      ],
      "source": [
        "A=np.random.random(30)\n",
        "Mean=A.mean()\n",
        "print(Mean)"
      ],
      "id": "9672d023"
    },
    {
      "cell_type": "markdown",
      "metadata": {
        "id": "f361efc0"
      },
      "source": [
        "#### 15. Create a 2d array with 1 on the border and 0 inside (★☆☆)"
      ],
      "id": "f361efc0"
    },
    {
      "cell_type": "code",
      "execution_count": null,
      "metadata": {
        "colab": {
          "base_uri": "https://localhost:8080/"
        },
        "id": "a55b6666",
        "outputId": "b44478b1-fc8b-4e11-fb87-a2bc5370aa46"
      },
      "outputs": [
        {
          "output_type": "stream",
          "name": "stdout",
          "text": [
            "[[1. 1. 1. 1. 1. 1. 1. 1. 1. 1.]\n",
            " [1. 0. 0. 0. 0. 0. 0. 0. 0. 1.]\n",
            " [1. 0. 0. 0. 0. 0. 0. 0. 0. 1.]\n",
            " [1. 0. 0. 0. 0. 0. 0. 0. 0. 1.]\n",
            " [1. 0. 0. 0. 0. 0. 0. 0. 0. 1.]\n",
            " [1. 0. 0. 0. 0. 0. 0. 0. 0. 1.]\n",
            " [1. 0. 0. 0. 0. 0. 0. 0. 0. 1.]\n",
            " [1. 0. 0. 0. 0. 0. 0. 0. 0. 1.]\n",
            " [1. 0. 0. 0. 0. 0. 0. 0. 0. 1.]\n",
            " [1. 1. 1. 1. 1. 1. 1. 1. 1. 1.]]\n"
          ]
        }
      ],
      "source": [
        "A=np.ones((10,10))\n",
        "A[1:-1,1:-1]=0\n",
        "print(A)"
      ],
      "id": "a55b6666"
    },
    {
      "cell_type": "markdown",
      "metadata": {
        "id": "475808cb"
      },
      "source": [
        "#### 16. How to add a border (filled with 0's) around an existing array? (★☆☆)"
      ],
      "id": "475808cb"
    },
    {
      "cell_type": "code",
      "execution_count": null,
      "metadata": {
        "id": "b2df3a8a"
      },
      "outputs": [],
      "source": [],
      "id": "b2df3a8a"
    },
    {
      "cell_type": "markdown",
      "metadata": {
        "id": "1af07d85"
      },
      "source": [
        "#### 17. What is the result of the following expression? (★☆☆)\n",
        "```python\n",
        "0 * np.nan\n",
        "np.nan == np.nan\n",
        "np.inf > np.nan\n",
        "np.nan - np.nan\n",
        "np.nan in set([np.nan])\n",
        "0.3 == 3 * 0.1\n",
        "```"
      ],
      "id": "1af07d85"
    },
    {
      "cell_type": "code",
      "execution_count": null,
      "metadata": {
        "colab": {
          "base_uri": "https://localhost:8080/"
        },
        "id": "109cf327",
        "outputId": "aece1607-f451-4e8e-b9bc-408d2ad70a77"
      },
      "outputs": [
        {
          "output_type": "stream",
          "name": "stdout",
          "text": [
            "nan\n",
            "False\n",
            "False\n",
            "nan\n",
            "False\n"
          ]
        }
      ],
      "source": [
        "print(0 * np.nan)\n",
        "print(np.nan == np.nan)\n",
        "print(np.inf > np.nan)\n",
        "print(np.nan - np.nan)\n",
        "print(0.3 == 3 * 0.1)"
      ],
      "id": "109cf327"
    },
    {
      "cell_type": "markdown",
      "metadata": {
        "id": "6a235316"
      },
      "source": [
        "#### 18. Create a 5x5 matrix with values 1,2,3,4 just below the diagonal (★☆☆)"
      ],
      "id": "6a235316"
    },
    {
      "cell_type": "code",
      "execution_count": null,
      "metadata": {
        "colab": {
          "base_uri": "https://localhost:8080/"
        },
        "id": "f2e6cfa6",
        "outputId": "28e37856-5497-489d-f974-42abddc05faa"
      },
      "outputs": [
        {
          "output_type": "stream",
          "name": "stdout",
          "text": [
            "[[0 0 0 0 0]\n",
            " [0 1 0 0 0]\n",
            " [0 0 2 0 0]\n",
            " [0 0 0 3 0]\n",
            " [0 0 0 0 4]]\n"
          ]
        }
      ],
      "source": [
        "A=np.diag(np.arange(5))\n",
        "print(A)"
      ],
      "id": "f2e6cfa6"
    },
    {
      "cell_type": "markdown",
      "metadata": {
        "id": "25362e98"
      },
      "source": [
        "#### 19. Create a 8x8 matrix and fill it with a checkerboard pattern (★☆☆)"
      ],
      "id": "25362e98"
    },
    {
      "cell_type": "code",
      "execution_count": null,
      "metadata": {
        "colab": {
          "base_uri": "https://localhost:8080/"
        },
        "id": "cabdf298",
        "outputId": "8b4206e7-6e43-4e51-da28-6998ac4026b6"
      },
      "outputs": [
        {
          "output_type": "stream",
          "name": "stdout",
          "text": [
            "[[0 1 0 1 0 1 0 1]\n",
            " [1 0 1 0 1 0 1 0]\n",
            " [0 1 0 1 0 1 0 1]\n",
            " [1 0 1 0 1 0 1 0]\n",
            " [0 1 0 1 0 1 0 1]\n",
            " [1 0 1 0 1 0 1 0]\n",
            " [0 1 0 1 0 1 0 1]\n",
            " [1 0 1 0 1 0 1 0]]\n"
          ]
        }
      ],
      "source": [
        "A=np.zeros((8,8),dtype=int)\n",
        "A[1::2,::2]=1\n",
        "A[::2,1::2]=1\n",
        "print(A)"
      ],
      "id": "cabdf298"
    },
    {
      "cell_type": "markdown",
      "metadata": {
        "id": "6431e977"
      },
      "source": [
        "#### 20. Consider a (6,7,8) shape array, what is the index (x,y,z) of the 100th element? (★☆☆)"
      ],
      "id": "6431e977"
    },
    {
      "cell_type": "code",
      "execution_count": null,
      "metadata": {
        "colab": {
          "base_uri": "https://localhost:8080/"
        },
        "id": "de8b0245",
        "outputId": "f6e2d482-fdc6-434b-ca63-05538b85ee80"
      },
      "outputs": [
        {
          "output_type": "stream",
          "name": "stdout",
          "text": [
            "(1, 5, 4)\n"
          ]
        }
      ],
      "source": [
        "print(np.unravel_index(100,[6,7,8]))"
      ],
      "id": "de8b0245"
    },
    {
      "cell_type": "markdown",
      "metadata": {
        "id": "31abe6fe"
      },
      "source": [
        "#### 21. Create a checkerboard 8x8 matrix using the tile function (★☆☆)"
      ],
      "id": "31abe6fe"
    },
    {
      "cell_type": "code",
      "execution_count": null,
      "metadata": {
        "colab": {
          "base_uri": "https://localhost:8080/"
        },
        "id": "6da26fd3",
        "outputId": "300148ef-7ccc-4279-8241-82bd4e1f8316"
      },
      "outputs": [
        {
          "output_type": "stream",
          "name": "stdout",
          "text": [
            "[[0 1 0 1 0 1 0 1]\n",
            " [1 0 1 0 1 0 1 0]\n",
            " [0 1 0 1 0 1 0 1]\n",
            " [1 0 1 0 1 0 1 0]\n",
            " [0 1 0 1 0 1 0 1]\n",
            " [1 0 1 0 1 0 1 0]\n",
            " [0 1 0 1 0 1 0 1]\n",
            " [1 0 1 0 1 0 1 0]]\n"
          ]
        }
      ],
      "source": [
        "arr=np.array([[0,1],[1,0]])\n",
        "A=np.tile(arr,(4,4))\n",
        "print(A)"
      ],
      "id": "6da26fd3"
    },
    {
      "cell_type": "markdown",
      "metadata": {
        "id": "fd88b3f4"
      },
      "source": [
        "#### 22. Normalize a 5x5 random matrix (★☆☆)"
      ],
      "id": "fd88b3f4"
    },
    {
      "cell_type": "code",
      "execution_count": null,
      "metadata": {
        "colab": {
          "base_uri": "https://localhost:8080/"
        },
        "id": "ee6ced60",
        "outputId": "a902357b-6770-4f89-9b89-675bdbd1f25d"
      },
      "outputs": [
        {
          "output_type": "stream",
          "name": "stdout",
          "text": [
            "[[0.11270535 0.54251233 0.21776043 0.06502146 0.63555311]\n",
            " [0.99740658 0.8165965  0.         0.59717994 0.51975924]\n",
            " [0.36424584 0.31802266 0.37186841 0.25061702 0.45066181]\n",
            " [0.75488724 0.03206882 0.13564589 0.44200528 0.10885197]\n",
            " [0.32331228 1.         0.21423891 0.18719562 0.17926558]]\n"
          ]
        }
      ],
      "source": [
        "A=np.random.random((5,5))\n",
        "Amin,Amax=A.min(),A.max()\n",
        "A=(A-Amin)/(Amax-Amin)\n",
        "print(A)"
      ],
      "id": "ee6ced60"
    },
    {
      "cell_type": "markdown",
      "metadata": {
        "id": "464d8590"
      },
      "source": [
        "#### 23. Create a custom dtype that describes a color as four unsigned bytes (RGBA) (★☆☆)"
      ],
      "id": "464d8590"
    },
    {
      "cell_type": "code",
      "execution_count": null,
      "metadata": {
        "colab": {
          "base_uri": "https://localhost:8080/"
        },
        "id": "e2f9cfc6",
        "outputId": "d7f28191-15fb-49f0-ce28-dbaaf76ed7f0"
      },
      "outputs": [
        {
          "output_type": "stream",
          "name": "stderr",
          "text": [
            "<ipython-input-22-b9f1a6f5df9c>:1: FutureWarning: Passing (type, 1) or '1type' as a synonym of type is deprecated; in a future version of numpy, it will be understood as (type, (1,)) / '(1,)type'.\n",
            "  color = np.dtype([(\"r\", np.ubyte, 1),\n"
          ]
        }
      ],
      "source": [
        "color = np.dtype([(\"r\", np.ubyte, 1),\n",
        "                  (\"g\", np.ubyte, 1),\n",
        "                  (\"b\", np.ubyte, 1),\n",
        "                  (\"a\", np.ubyte, 1)])"
      ],
      "id": "e2f9cfc6"
    },
    {
      "cell_type": "markdown",
      "metadata": {
        "id": "06c63bb3"
      },
      "source": [
        "#### 24. Multiply a 5x3 matrix by a 3x2 matrix (real matrix product) (★☆☆)"
      ],
      "id": "06c63bb3"
    },
    {
      "cell_type": "code",
      "execution_count": null,
      "metadata": {
        "colab": {
          "base_uri": "https://localhost:8080/"
        },
        "id": "9fc0d553",
        "outputId": "12333a5d-f134-4384-e291-ab701079e4ed"
      },
      "outputs": [
        {
          "output_type": "stream",
          "name": "stdout",
          "text": [
            "[[3. 3.]\n",
            " [3. 3.]\n",
            " [3. 3.]\n",
            " [3. 3.]\n",
            " [3. 3.]]\n"
          ]
        }
      ],
      "source": [
        "A=np.dot(np.ones((5,3)),np.ones((3,2)))\n",
        "print(A)"
      ],
      "id": "9fc0d553"
    },
    {
      "cell_type": "markdown",
      "metadata": {
        "id": "76fa6285"
      },
      "source": [
        "#### 25. Given a 1D array, negate all elements which are between 3 and 8, in place. (★☆☆)"
      ],
      "id": "76fa6285"
    },
    {
      "cell_type": "code",
      "execution_count": null,
      "metadata": {
        "colab": {
          "base_uri": "https://localhost:8080/"
        },
        "id": "0e25eca7",
        "outputId": "15f9e4de-ec79-412e-d7e3-7da1bcf6f123"
      },
      "outputs": [
        {
          "output_type": "stream",
          "name": "stdout",
          "text": [
            "[ 0  1  2  3 -4 -5 -6 -7 -8  9 10]\n"
          ]
        }
      ],
      "source": [
        "A= np.arange(11)\n",
        "A[(3 < A) & (A <= 8)] *= -1\n",
        "print(A)"
      ],
      "id": "0e25eca7"
    },
    {
      "cell_type": "markdown",
      "metadata": {
        "id": "930ed8bb"
      },
      "source": [
        "\n",
        "from numpy import *\n",
        "print(sum(range(5),-1))\n",
        "```"
      ],
      "id": "930ed8bb"
    },
    {
      "cell_type": "code",
      "execution_count": null,
      "metadata": {
        "colab": {
          "base_uri": "https://localhost:8080/"
        },
        "id": "f02eedba",
        "outputId": "49a50097-ed03-4311-a947-3d8d14a07a3c"
      },
      "outputs": [
        {
          "output_type": "stream",
          "name": "stdout",
          "text": [
            "9\n",
            "10\n"
          ]
        }
      ],
      "source": [
        "print(sum(range(5),-1))\n",
        "from numpy import *\n",
        "print(sum(range(5),-1))"
      ],
      "id": "f02eedba"
    },
    {
      "cell_type": "markdown",
      "metadata": {
        "id": "177120e7"
      },
      "source": [
        "#### 27. Consider an integer vector Z, which of these expressions are legal? (★☆☆)\n",
        "```python\n",
        "Z**Z\n",
        "2 << Z >> 2\n",
        "Z <- Z\n",
        "1j*Z\n",
        "Z/1/1\n",
        "Z<Z>Z\n",
        "```"
      ],
      "id": "177120e7"
    },
    {
      "cell_type": "code",
      "execution_count": null,
      "metadata": {
        "colab": {
          "base_uri": "https://localhost:8080/",
          "height": 245
        },
        "id": "86d6cbef",
        "outputId": "edbefaeb-6cc5-4889-a452-def3c4f8d850"
      },
      "outputs": [
        {
          "output_type": "error",
          "ename": "NameError",
          "evalue": "ignored",
          "traceback": [
            "\u001b[0;31m---------------------------------------------------------------------------\u001b[0m",
            "\u001b[0;31mNameError\u001b[0m                                 Traceback (most recent call last)",
            "\u001b[0;32m<ipython-input-26-de9635ef5c64>\u001b[0m in \u001b[0;36m<cell line: 1>\u001b[0;34m()\u001b[0m\n\u001b[0;32m----> 1\u001b[0;31m \u001b[0mprint\u001b[0m\u001b[0;34m(\u001b[0m\u001b[0mz\u001b[0m\u001b[0;34m**\u001b[0m\u001b[0mz\u001b[0m\u001b[0;34m)\u001b[0m\u001b[0;34m\u001b[0m\u001b[0;34m\u001b[0m\u001b[0m\n\u001b[0m\u001b[1;32m      2\u001b[0m \u001b[0mprint\u001b[0m\u001b[0;34m(\u001b[0m\u001b[0;36m2\u001b[0m \u001b[0;34m<<\u001b[0m \u001b[0mz\u001b[0m \u001b[0;34m>>\u001b[0m \u001b[0;36m2\u001b[0m\u001b[0;34m)\u001b[0m\u001b[0;34m\u001b[0m\u001b[0;34m\u001b[0m\u001b[0m\n\u001b[1;32m      3\u001b[0m \u001b[0mprint\u001b[0m\u001b[0;34m(\u001b[0m\u001b[0mz\u001b[0m \u001b[0;34m<\u001b[0m\u001b[0;34m-\u001b[0m \u001b[0mz\u001b[0m\u001b[0;34m)\u001b[0m\u001b[0;34m\u001b[0m\u001b[0;34m\u001b[0m\u001b[0m\n\u001b[1;32m      4\u001b[0m \u001b[0mprint\u001b[0m\u001b[0;34m(\u001b[0m\u001b[0;36m1j\u001b[0m\u001b[0;34m*\u001b[0m\u001b[0mz\u001b[0m\u001b[0;34m)\u001b[0m\u001b[0;34m\u001b[0m\u001b[0;34m\u001b[0m\u001b[0m\n\u001b[1;32m      5\u001b[0m \u001b[0mprint\u001b[0m\u001b[0;34m(\u001b[0m\u001b[0mz\u001b[0m\u001b[0;34m/\u001b[0m\u001b[0;36m1\u001b[0m\u001b[0;34m/\u001b[0m\u001b[0;36m1\u001b[0m\u001b[0;34m)\u001b[0m\u001b[0;34m\u001b[0m\u001b[0;34m\u001b[0m\u001b[0m\n",
            "\u001b[0;31mNameError\u001b[0m: name 'z' is not defined"
          ]
        }
      ],
      "source": [
        "print(z**z)\n",
        "print(2 << z >> 2)\n",
        "print(z <- z)\n",
        "print(1j*z)\n",
        "print(z/1/1)\n",
        "print(z<z>z)"
      ],
      "id": "86d6cbef"
    },
    {
      "cell_type": "markdown",
      "metadata": {
        "id": "a6eaf0e8"
      },
      "source": [
        "#### 28. What are the result of the following expressions? (★☆☆)\n",
        "```python\n",
        "np.array(0) / np.array(0)\n",
        "np.array(0) // np.array(0)\n",
        "np.array([np.nan]).astype(int).astype(float)\n",
        "```"
      ],
      "id": "a6eaf0e8"
    },
    {
      "cell_type": "code",
      "execution_count": null,
      "metadata": {
        "id": "93684068",
        "colab": {
          "base_uri": "https://localhost:8080/"
        },
        "outputId": "890a14fe-fae2-4f72-ae1d-1163605bfff9"
      },
      "outputs": [
        {
          "output_type": "stream",
          "name": "stdout",
          "text": [
            "nan\n",
            "0\n",
            "[-9.22337204e+18]\n"
          ]
        },
        {
          "output_type": "stream",
          "name": "stderr",
          "text": [
            "<ipython-input-27-2a10de0ee61b>:1: RuntimeWarning: invalid value encountered in divide\n",
            "  print(np.array(0) / np.array(0))\n",
            "<ipython-input-27-2a10de0ee61b>:2: RuntimeWarning: divide by zero encountered in floor_divide\n",
            "  print(np.array(0) // np.array(0))\n"
          ]
        }
      ],
      "source": [
        "print(np.array(0) / np.array(0))\n",
        "print(np.array(0) // np.array(0))\n",
        "print(np.array([np.nan]).astype(int).astype(float))"
      ],
      "id": "93684068"
    },
    {
      "cell_type": "markdown",
      "metadata": {
        "id": "524b65f8"
      },
      "source": [
        "#### 29. How to round away from zero a float array ? (★☆☆)"
      ],
      "id": "524b65f8"
    },
    {
      "cell_type": "code",
      "execution_count": null,
      "metadata": {
        "id": "61fbb78e",
        "colab": {
          "base_uri": "https://localhost:8080/"
        },
        "outputId": "b62aea7f-c944-4001-d23a-65de9a21d7f3"
      },
      "outputs": [
        {
          "output_type": "stream",
          "name": "stdout",
          "text": [
            "[32. 52.  0.]\n"
          ]
        }
      ],
      "source": [
        "import numpy as np\n",
        "A = np.array([32.11, 51.5, 0.112]).round(0)\n",
        "print(A)"
      ],
      "id": "61fbb78e"
    },
    {
      "cell_type": "markdown",
      "metadata": {
        "id": "8dc40752"
      },
      "source": [
        "#### 30. How to find common values between two arrays? (★☆☆)"
      ],
      "id": "8dc40752"
    },
    {
      "cell_type": "code",
      "execution_count": null,
      "metadata": {
        "id": "54399cbe",
        "colab": {
          "base_uri": "https://localhost:8080/"
        },
        "outputId": "077010e7-b940-4f4d-d213-75b26e7d5a02"
      },
      "outputs": [
        {
          "output_type": "stream",
          "name": "stdout",
          "text": [
            "[2 3 5 7]\n"
          ]
        }
      ],
      "source": [
        "X=np.array([2,4,5,7,2,3,6])\n",
        "Y=np.array([5,3,7,2,1,9,3])\n",
        "Z=np.intersect1d(X,Y)\n",
        "print(Z)"
      ],
      "id": "54399cbe"
    },
    {
      "cell_type": "markdown",
      "metadata": {
        "id": "b7f38e21"
      },
      "source": [
        "#### 31. How to ignore all numpy warnings (not recommended)? (★☆☆)"
      ],
      "id": "b7f38e21"
    },
    {
      "cell_type": "code",
      "execution_count": null,
      "metadata": {
        "id": "2ca3289c",
        "colab": {
          "base_uri": "https://localhost:8080/"
        },
        "outputId": "38f39565-1fca-4bce-e990-397da125150c"
      },
      "outputs": [
        {
          "output_type": "execute_result",
          "data": {
            "text/plain": [
              "{'divide': 'warn', 'over': 'warn', 'under': 'ignore', 'invalid': 'warn'}"
            ]
          },
          "metadata": {},
          "execution_count": 30
        }
      ],
      "source": [
        "import numpy as np\n",
        "np.random.random(1000).reshape(10,10,10)*np.nan\n",
        "np.seterr(all=\"ignore\")"
      ],
      "id": "2ca3289c"
    },
    {
      "cell_type": "markdown",
      "metadata": {
        "id": "2d850aab"
      },
      "source": [
        "#### 32. Is the following expressions true? (★☆☆)\n",
        "```python\n",
        "np.sqrt(-1) == np.emath.sqrt(-1)\n",
        "```"
      ],
      "id": "2d850aab"
    },
    {
      "cell_type": "code",
      "execution_count": null,
      "metadata": {
        "id": "5c83ffce",
        "colab": {
          "base_uri": "https://localhost:8080/"
        },
        "outputId": "e7293bf2-5371-47bd-da0d-96d0eab265aa"
      },
      "outputs": [
        {
          "output_type": "stream",
          "name": "stdout",
          "text": [
            "False\n"
          ]
        }
      ],
      "source": [
        "print(np.sqrt(-1) == np.emath.sqrt(-1))"
      ],
      "id": "5c83ffce"
    },
    {
      "cell_type": "markdown",
      "metadata": {
        "id": "5c4a556f"
      },
      "source": [
        "#### 33. How to get the dates of yesterday, today and tomorrow? (★☆☆)"
      ],
      "id": "5c4a556f"
    },
    {
      "cell_type": "code",
      "execution_count": null,
      "metadata": {
        "id": "c3b683a0",
        "colab": {
          "base_uri": "https://localhost:8080/"
        },
        "outputId": "5afafd7f-6f82-482c-d1e4-32353aae68ec"
      },
      "outputs": [
        {
          "output_type": "stream",
          "name": "stdout",
          "text": [
            "Today:  2023-11-22\n",
            "Yestraday:  2023-11-22\n",
            "Tomorrow:  2023-11-22\n"
          ]
        }
      ],
      "source": [
        "today = np.datetime64('today', 'D')\n",
        "print(\"Today: \", today)\n",
        "yesterday = np.datetime64('today', 'D')\n",
        "- np.timedelta64(1, 'D')\n",
        "print(\"Yestraday: \", yesterday)\n",
        "tomorrow = np.datetime64('today', 'D')\n",
        "+ np.timedelta64(1, 'D')\n",
        "print(\"Tomorrow: \", tomorrow)"
      ],
      "id": "c3b683a0"
    },
    {
      "cell_type": "markdown",
      "metadata": {
        "id": "453cdd64"
      },
      "source": [
        "#### 34. How to get all the dates corresponding to the month of July 2016? (★★☆)"
      ],
      "id": "453cdd64"
    },
    {
      "cell_type": "code",
      "execution_count": null,
      "metadata": {
        "id": "4ba4d37c",
        "colab": {
          "base_uri": "https://localhost:8080/"
        },
        "outputId": "feef7c11-324d-4732-99d5-0153364d1442"
      },
      "outputs": [
        {
          "output_type": "stream",
          "name": "stdout",
          "text": [
            "July,2016\n",
            "['2016-07-01' '2016-07-02' '2016-07-03' '2016-07-04' '2016-07-05'\n",
            " '2016-07-06' '2016-07-07' '2016-07-08' '2016-07-09' '2016-07-10'\n",
            " '2016-07-11' '2016-07-12' '2016-07-13' '2016-07-14' '2016-07-15'\n",
            " '2016-07-16' '2016-07-17' '2016-07-18' '2016-07-19' '2016-07-20'\n",
            " '2016-07-21' '2016-07-22' '2016-07-23' '2016-07-24' '2016-07-25'\n",
            " '2016-07-26' '2016-07-27' '2016-07-28' '2016-07-29' '2016-07-30'\n",
            " '2016-07-31']\n"
          ]
        }
      ],
      "source": [
        "print(\"July,2016\")\n",
        "print(np.arange('2016-07','2016-08',dtype='datetime64[D]'))\n"
      ],
      "id": "4ba4d37c"
    },
    {
      "cell_type": "markdown",
      "metadata": {
        "id": "52667b6e"
      },
      "source": [
        "#### 35. How to compute ((A+B)*(-A/2)) in place (without copy)? (★★☆)"
      ],
      "id": "52667b6e"
    },
    {
      "cell_type": "code",
      "execution_count": null,
      "metadata": {
        "id": "e6e7c030",
        "colab": {
          "base_uri": "https://localhost:8080/"
        },
        "outputId": "e7ce1e88-10a4-4140-cf25-bfc59c5801d6"
      },
      "outputs": [
        {
          "output_type": "execute_result",
          "data": {
            "text/plain": [
              "array([-1.5, -1.5, -1.5])"
            ]
          },
          "metadata": {},
          "execution_count": 34
        }
      ],
      "source": [
        "X = np.ones(3)*1\n",
        "Y = np.ones(3)*2\n",
        "Z = np.ones(3)*3\n",
        "np.add(X,Y,out=Y)\n",
        "np.divide(X,2,out=X)\n",
        "np.negative(X,out=X)\n",
        "np.multiply(X,Y,out=X)"
      ],
      "id": "e6e7c030"
    },
    {
      "cell_type": "markdown",
      "metadata": {
        "id": "9a8f3738"
      },
      "source": [
        "#### 36. Extract the integer part of a random array of positive numbers using 4 different methods (★★☆)"
      ],
      "id": "9a8f3738"
    },
    {
      "cell_type": "code",
      "execution_count": null,
      "metadata": {
        "id": "368a801a",
        "colab": {
          "base_uri": "https://localhost:8080/"
        },
        "outputId": "0229caa1-dde2-4e34-e7d2-19108fa93b9e"
      },
      "outputs": [
        {
          "output_type": "stream",
          "name": "stdout",
          "text": [
            "[2. 3. 2. 1. 4. 6. 9. 8. 3. 0.]\n",
            "[2. 3. 2. 1. 4. 6. 9. 8. 3. 0.]\n",
            "[2. 3. 2. 1. 4. 6. 9. 8. 3. 0.]\n",
            "[2 3 2 1 4 6 9 8 3 0]\n"
          ]
        }
      ],
      "source": [
        "A = np.random.uniform(0,10,10)\n",
        "print (A - A%1)\n",
        "print (np.floor(A))\n",
        "print (np.ceil(A)-1)\n",
        "print (A.astype(int))"
      ],
      "id": "368a801a"
    },
    {
      "cell_type": "markdown",
      "metadata": {
        "id": "cab1eed1"
      },
      "source": [
        "#### 37. Create a 5x5 matrix with row values ranging from 0 to 4 (★★☆)"
      ],
      "id": "cab1eed1"
    },
    {
      "cell_type": "code",
      "execution_count": null,
      "metadata": {
        "id": "f1b579ba",
        "colab": {
          "base_uri": "https://localhost:8080/"
        },
        "outputId": "38a16ad0-f275-436d-d145-7c2085a3faff"
      },
      "outputs": [
        {
          "output_type": "stream",
          "name": "stdout",
          "text": [
            "[[0. 1. 2. 3. 4.]\n",
            " [0. 1. 2. 3. 4.]\n",
            " [0. 1. 2. 3. 4.]\n",
            " [0. 1. 2. 3. 4.]\n",
            " [0. 1. 2. 3. 4.]]\n"
          ]
        }
      ],
      "source": [
        "A=np.zeros((5,5))\n",
        "A+=np.arange(5)\n",
        "print(A)"
      ],
      "id": "f1b579ba"
    },
    {
      "cell_type": "markdown",
      "metadata": {
        "id": "cd0ce6b1"
      },
      "source": [
        "#### 38. Consider a generator function that generates 10 integers and use it to build an array (★☆☆)"
      ],
      "id": "cd0ce6b1"
    },
    {
      "cell_type": "code",
      "execution_count": null,
      "metadata": {
        "id": "aab193a6",
        "colab": {
          "base_uri": "https://localhost:8080/"
        },
        "outputId": "a134eb62-6dde-4e6b-fe6e-0af8122f21aa"
      },
      "outputs": [
        {
          "output_type": "stream",
          "name": "stdout",
          "text": [
            "[0. 1. 2. 3. 4. 5. 6. 7. 8. 9.]\n"
          ]
        }
      ],
      "source": [
        "def generate():\n",
        "    for x in range(10):\n",
        "        yield x\n",
        "Z = np.fromiter(generate(),dtype=float,count=-1)\n",
        "print(Z)"
      ],
      "id": "aab193a6"
    },
    {
      "cell_type": "markdown",
      "metadata": {
        "id": "c4c942d1"
      },
      "source": [
        "#### 39. Create a vector of size 10 with values ranging from 0 to 1, both excluded (★★☆)"
      ],
      "id": "c4c942d1"
    },
    {
      "cell_type": "code",
      "execution_count": null,
      "metadata": {
        "id": "e42eaa4b",
        "colab": {
          "base_uri": "https://localhost:8080/"
        },
        "outputId": "3df6dce7-30e4-4e2e-d3e7-2eb06ea71a13"
      },
      "outputs": [
        {
          "output_type": "stream",
          "name": "stdout",
          "text": [
            "[0.09090909 0.18181818 0.27272727 0.36363636 0.45454545 0.54545455\n",
            " 0.63636364 0.72727273 0.81818182 0.90909091]\n"
          ]
        }
      ],
      "source": [
        "A = np.linspace(0,1,12,endpoint=True)[1:-1]\n",
        "print(A)"
      ],
      "id": "e42eaa4b"
    },
    {
      "cell_type": "markdown",
      "metadata": {
        "id": "9b3cb8d2"
      },
      "source": [
        "#### 40. Create a random vector of size 10 and sort it (★★☆)"
      ],
      "id": "9b3cb8d2"
    },
    {
      "cell_type": "code",
      "execution_count": null,
      "metadata": {
        "id": "37d2b341",
        "colab": {
          "base_uri": "https://localhost:8080/"
        },
        "outputId": "49f73e55-455f-478e-a438-b65ea4df7a0a"
      },
      "outputs": [
        {
          "output_type": "stream",
          "name": "stdout",
          "text": [
            "[0.09934584 0.19267464 0.24136886 0.26668504 0.54090628 0.59082899\n",
            " 0.70160118 0.71041345 0.80731302 0.819904  ]\n"
          ]
        }
      ],
      "source": [
        "A=np.random.random(10)\n",
        "A.sort()\n",
        "print(A)"
      ],
      "id": "37d2b341"
    },
    {
      "cell_type": "markdown",
      "metadata": {
        "id": "2facfddc"
      },
      "source": [
        "#### 41. How to sum a small array faster than np.sum? (★★☆)"
      ],
      "id": "2facfddc"
    },
    {
      "cell_type": "code",
      "execution_count": null,
      "metadata": {
        "id": "4bb8864f",
        "colab": {
          "base_uri": "https://localhost:8080/"
        },
        "outputId": "3dba238a-143e-43c1-bfdb-21c4c330661d"
      },
      "outputs": [
        {
          "output_type": "execute_result",
          "data": {
            "text/plain": [
              "45"
            ]
          },
          "metadata": {},
          "execution_count": 40
        }
      ],
      "source": [
        "A=np.arange(10)\n",
        "np.add.reduce(A)"
      ],
      "id": "4bb8864f"
    },
    {
      "cell_type": "markdown",
      "metadata": {
        "id": "539cd2a5"
      },
      "source": [
        "#### 42. Consider two random array A and B, check if they are equal (★★☆)"
      ],
      "id": "539cd2a5"
    },
    {
      "cell_type": "code",
      "execution_count": null,
      "metadata": {
        "id": "5246d7bf",
        "colab": {
          "base_uri": "https://localhost:8080/"
        },
        "outputId": "44f45578-b8c8-4b57-d78d-3a39ad91a3db"
      },
      "outputs": [
        {
          "output_type": "stream",
          "name": "stdout",
          "text": [
            "False\n",
            "False\n"
          ]
        }
      ],
      "source": [
        "A = np.random.randint(0,2,5)\n",
        "B = np.random.randint(0,2,5)\n",
        "equal = np.allclose(A,B)\n",
        "print(equal)\n",
        "equal = np.array_equal(A,B)\n",
        "print(equal)"
      ],
      "id": "5246d7bf"
    },
    {
      "cell_type": "markdown",
      "metadata": {
        "id": "448f8274"
      },
      "source": [
        "#### 43. Make an array immutable (read-only) (★★☆)"
      ],
      "id": "448f8274"
    },
    {
      "cell_type": "code",
      "execution_count": null,
      "metadata": {
        "id": "7cf2b3dd",
        "colab": {
          "base_uri": "https://localhost:8080/",
          "height": 210
        },
        "outputId": "dc60fbcc-85a4-44a9-96f2-4ef1795b185b"
      },
      "outputs": [
        {
          "output_type": "error",
          "ename": "ValueError",
          "evalue": "ignored",
          "traceback": [
            "\u001b[0;31m---------------------------------------------------------------------------\u001b[0m",
            "\u001b[0;31mValueError\u001b[0m                                Traceback (most recent call last)",
            "\u001b[0;32m<ipython-input-43-194a1409d1b8>\u001b[0m in \u001b[0;36m<cell line: 3>\u001b[0;34m()\u001b[0m\n\u001b[1;32m      1\u001b[0m \u001b[0mA\u001b[0m\u001b[0;34m=\u001b[0m \u001b[0mnp\u001b[0m\u001b[0;34m.\u001b[0m\u001b[0mzeros\u001b[0m\u001b[0;34m(\u001b[0m\u001b[0;36m10\u001b[0m\u001b[0;34m)\u001b[0m\u001b[0;34m\u001b[0m\u001b[0;34m\u001b[0m\u001b[0m\n\u001b[1;32m      2\u001b[0m \u001b[0mA\u001b[0m\u001b[0;34m.\u001b[0m\u001b[0mflags\u001b[0m\u001b[0;34m.\u001b[0m\u001b[0mwriteable\u001b[0m \u001b[0;34m=\u001b[0m \u001b[0;32mFalse\u001b[0m\u001b[0;34m\u001b[0m\u001b[0;34m\u001b[0m\u001b[0m\n\u001b[0;32m----> 3\u001b[0;31m \u001b[0mA\u001b[0m\u001b[0;34m[\u001b[0m\u001b[0;36m0\u001b[0m\u001b[0;34m]\u001b[0m\u001b[0;34m=\u001b[0m\u001b[0;36m1\u001b[0m\u001b[0;34m\u001b[0m\u001b[0;34m\u001b[0m\u001b[0m\n\u001b[0m",
            "\u001b[0;31mValueError\u001b[0m: assignment destination is read-only"
          ]
        }
      ],
      "source": [
        "A= np.zeros(10)\n",
        "A.flags.writeable = False\n",
        "A[0]=1"
      ],
      "id": "7cf2b3dd"
    },
    {
      "cell_type": "markdown",
      "metadata": {
        "id": "d7b7aaf3"
      },
      "source": [
        "#### 44. Consider a random 10x2 matrix representing cartesian coordinates, convert them to polar coordinates (★★☆)"
      ],
      "id": "d7b7aaf3"
    },
    {
      "cell_type": "code",
      "execution_count": null,
      "metadata": {
        "id": "e2337585",
        "colab": {
          "base_uri": "https://localhost:8080/"
        },
        "outputId": "c024468b-0438-4243-de38-9e1a6255be7a"
      },
      "outputs": [
        {
          "output_type": "stream",
          "name": "stdout",
          "text": [
            "[0.46664097 0.45025664 0.2413527  0.72808666 0.83418556 0.2528616\n",
            " 0.8324106  0.53235371 1.02621398 0.9586534 ]\n",
            "[0.06226721 0.71453044 0.57646567 0.09939689 0.22265833 0.23664004\n",
            " 0.81572924 0.4097535  1.25511118 0.20462344]\n"
          ]
        }
      ],
      "source": [
        "Z = np.random.random((10,2))\n",
        "X,Y = Z[:,0], Z[:,1]\n",
        "R = np.sqrt(X**2+Y**2)\n",
        "T = np.arctan2(Y,X)\n",
        "print(R)\n",
        "print(T)"
      ],
      "id": "e2337585"
    },
    {
      "cell_type": "markdown",
      "metadata": {
        "id": "a556027a"
      },
      "source": [
        "#### 45. Create random vector of size 10 and replace the maximum value by 0 (★★☆)"
      ],
      "id": "a556027a"
    },
    {
      "cell_type": "code",
      "execution_count": null,
      "metadata": {
        "id": "9e07cb87",
        "colab": {
          "base_uri": "https://localhost:8080/"
        },
        "outputId": "6ce699e7-1189-4a82-a504-10d717b2b5c2"
      },
      "outputs": [
        {
          "output_type": "stream",
          "name": "stdout",
          "text": [
            "[0.59851751 0.64776001 0.         0.24464345 0.96191609 0.09657755\n",
            " 0.01186745 0.43923577 0.20674701 0.49067399]\n"
          ]
        }
      ],
      "source": [
        "Z = np.random.random(10)\n",
        "Z[Z.argmax()] = 0\n",
        "print(Z)"
      ],
      "id": "9e07cb87"
    },
    {
      "cell_type": "markdown",
      "metadata": {
        "id": "004f3da1"
      },
      "source": [
        "#### 46. Create a structured array with `x` and `y` coordinates covering the [0,1]x[0,1] area (★★☆)"
      ],
      "id": "004f3da1"
    },
    {
      "cell_type": "code",
      "execution_count": null,
      "metadata": {
        "id": "b3824741",
        "colab": {
          "base_uri": "https://localhost:8080/"
        },
        "outputId": "7ad2de4e-6955-4edf-8544-f5f22e4a8bca"
      },
      "outputs": [
        {
          "output_type": "stream",
          "name": "stdout",
          "text": [
            "[[(0.  , 0.  ) (0.25, 0.  ) (0.5 , 0.  ) (0.75, 0.  ) (1.  , 0.  )]\n",
            " [(0.  , 0.25) (0.25, 0.25) (0.5 , 0.25) (0.75, 0.25) (1.  , 0.25)]\n",
            " [(0.  , 0.5 ) (0.25, 0.5 ) (0.5 , 0.5 ) (0.75, 0.5 ) (1.  , 0.5 )]\n",
            " [(0.  , 0.75) (0.25, 0.75) (0.5 , 0.75) (0.75, 0.75) (1.  , 0.75)]\n",
            " [(0.  , 1.  ) (0.25, 1.  ) (0.5 , 1.  ) (0.75, 1.  ) (1.  , 1.  )]]\n"
          ]
        }
      ],
      "source": [
        "Z = np.zeros((5,5), [('x',float),('y',float)])\n",
        "Z['x'], Z['y'] = np.meshgrid(np.linspace(0,1,5),\n",
        "                             np.linspace(0,1,5))\n",
        "print(Z)"
      ],
      "id": "b3824741"
    },
    {
      "cell_type": "markdown",
      "metadata": {
        "id": "1c0adc0d"
      },
      "source": [
        "#### 47. Given two arrays, X and Y, construct the Cauchy matrix C (Cij =1/(xi - yj)) (★★☆)"
      ],
      "id": "1c0adc0d"
    },
    {
      "cell_type": "code",
      "execution_count": null,
      "metadata": {
        "id": "01b3bbb7",
        "colab": {
          "base_uri": "https://localhost:8080/"
        },
        "outputId": "8da8b22c-1564-45cf-b38d-f7f6ec19259c"
      },
      "outputs": [
        {
          "output_type": "stream",
          "name": "stdout",
          "text": [
            "3638.163637117973\n"
          ]
        }
      ],
      "source": [
        "X = np.arange(8)\n",
        "Y = X + 0.5\n",
        "C = 1.0 / np.subtract.outer(X, Y)\n",
        "print(np.linalg.det(C))"
      ],
      "id": "01b3bbb7"
    },
    {
      "cell_type": "markdown",
      "metadata": {
        "id": "c8a2f65a"
      },
      "source": [
        "#### 48. Print the minimum and maximum representable value for each numpy scalar type (★★☆)"
      ],
      "id": "c8a2f65a"
    },
    {
      "cell_type": "code",
      "execution_count": null,
      "metadata": {
        "id": "35d844d6",
        "colab": {
          "base_uri": "https://localhost:8080/"
        },
        "outputId": "2e648942-78c5-4893-db6a-447cc5475807"
      },
      "outputs": [
        {
          "output_type": "stream",
          "name": "stdout",
          "text": [
            "-128\n",
            "127\n",
            "-2147483648\n",
            "2147483647\n",
            "-9223372036854775808\n",
            "9223372036854775807\n",
            "-3.4028235e+38\n",
            "3.4028235e+38\n",
            "1.1920929e-07\n",
            "-1.7976931348623157e+308\n",
            "1.7976931348623157e+308\n",
            "2.220446049250313e-16\n"
          ]
        }
      ],
      "source": [
        "for dtype in [np.int8, np.int32, np.int64]:\n",
        "   print(np.iinfo(dtype).min)\n",
        "   print(np.iinfo(dtype).max)\n",
        "for dtype in [np.float32, np.float64]:\n",
        "   print(np.finfo(dtype).min)\n",
        "   print(np.finfo(dtype).max)\n",
        "   print(np.finfo(dtype).eps)"
      ],
      "id": "35d844d6"
    },
    {
      "cell_type": "markdown",
      "metadata": {
        "id": "11727a69"
      },
      "source": [
        "#### 49. How to print all the values of an array? (★★☆)"
      ],
      "id": "11727a69"
    },
    {
      "cell_type": "code",
      "execution_count": null,
      "metadata": {
        "id": "47e98473",
        "colab": {
          "base_uri": "https://localhost:8080/",
          "height": 373
        },
        "outputId": "7602b47e-efac-42a4-817c-82dd92452d06"
      },
      "outputs": [
        {
          "output_type": "error",
          "ename": "ValueError",
          "evalue": "ignored",
          "traceback": [
            "\u001b[0;31m---------------------------------------------------------------------------\u001b[0m",
            "\u001b[0;31mValueError\u001b[0m                                Traceback (most recent call last)",
            "\u001b[0;32m<ipython-input-49-91455333cf1e>\u001b[0m in \u001b[0;36m<cell line: 1>\u001b[0;34m()\u001b[0m\n\u001b[0;32m----> 1\u001b[0;31m \u001b[0mnp\u001b[0m\u001b[0;34m.\u001b[0m\u001b[0mset_printoptions\u001b[0m\u001b[0;34m(\u001b[0m\u001b[0mthreshold\u001b[0m\u001b[0;34m=\u001b[0m\u001b[0mnp\u001b[0m\u001b[0;34m.\u001b[0m\u001b[0mnan\u001b[0m\u001b[0;34m)\u001b[0m\u001b[0;34m\u001b[0m\u001b[0;34m\u001b[0m\u001b[0m\n\u001b[0m\u001b[1;32m      2\u001b[0m \u001b[0mA\u001b[0m \u001b[0;34m=\u001b[0m \u001b[0mnp\u001b[0m\u001b[0;34m.\u001b[0m\u001b[0mzeros\u001b[0m\u001b[0;34m(\u001b[0m\u001b[0;34m(\u001b[0m\u001b[0;36m16\u001b[0m\u001b[0;34m,\u001b[0m\u001b[0;36m16\u001b[0m\u001b[0;34m)\u001b[0m\u001b[0;34m)\u001b[0m\u001b[0;34m\u001b[0m\u001b[0;34m\u001b[0m\u001b[0m\n\u001b[1;32m      3\u001b[0m \u001b[0mprint\u001b[0m\u001b[0;34m(\u001b[0m\u001b[0mA\u001b[0m\u001b[0;34m)\u001b[0m\u001b[0;34m\u001b[0m\u001b[0;34m\u001b[0m\u001b[0m\n",
            "\u001b[0;32m/usr/local/lib/python3.10/dist-packages/numpy/core/arrayprint.py\u001b[0m in \u001b[0;36mset_printoptions\u001b[0;34m(precision, threshold, edgeitems, linewidth, suppress, nanstr, infstr, formatter, sign, floatmode, legacy)\u001b[0m\n\u001b[1;32m    275\u001b[0m \u001b[0;34m\u001b[0m\u001b[0m\n\u001b[1;32m    276\u001b[0m     \"\"\"\n\u001b[0;32m--> 277\u001b[0;31m     opt = _make_options_dict(precision, threshold, edgeitems, linewidth,\n\u001b[0m\u001b[1;32m    278\u001b[0m                              \u001b[0msuppress\u001b[0m\u001b[0;34m,\u001b[0m \u001b[0mnanstr\u001b[0m\u001b[0;34m,\u001b[0m \u001b[0minfstr\u001b[0m\u001b[0;34m,\u001b[0m \u001b[0msign\u001b[0m\u001b[0;34m,\u001b[0m \u001b[0mformatter\u001b[0m\u001b[0;34m,\u001b[0m\u001b[0;34m\u001b[0m\u001b[0;34m\u001b[0m\u001b[0m\n\u001b[1;32m    279\u001b[0m                              floatmode, legacy)\n",
            "\u001b[0;32m/usr/local/lib/python3.10/dist-packages/numpy/core/arrayprint.py\u001b[0m in \u001b[0;36m_make_options_dict\u001b[0;34m(precision, threshold, edgeitems, linewidth, suppress, nanstr, infstr, sign, formatter, floatmode, legacy)\u001b[0m\n\u001b[1;32m    101\u001b[0m             \u001b[0;32mraise\u001b[0m \u001b[0mTypeError\u001b[0m\u001b[0;34m(\u001b[0m\u001b[0;34m\"threshold must be numeric\"\u001b[0m\u001b[0;34m)\u001b[0m\u001b[0;34m\u001b[0m\u001b[0;34m\u001b[0m\u001b[0m\n\u001b[1;32m    102\u001b[0m         \u001b[0;32mif\u001b[0m \u001b[0mnp\u001b[0m\u001b[0;34m.\u001b[0m\u001b[0misnan\u001b[0m\u001b[0;34m(\u001b[0m\u001b[0mthreshold\u001b[0m\u001b[0;34m)\u001b[0m\u001b[0;34m:\u001b[0m\u001b[0;34m\u001b[0m\u001b[0;34m\u001b[0m\u001b[0m\n\u001b[0;32m--> 103\u001b[0;31m             raise ValueError(\"threshold must be non-NAN, try \"\n\u001b[0m\u001b[1;32m    104\u001b[0m                              \"sys.maxsize for untruncated representation\")\n\u001b[1;32m    105\u001b[0m \u001b[0;34m\u001b[0m\u001b[0m\n",
            "\u001b[0;31mValueError\u001b[0m: threshold must be non-NAN, try sys.maxsize for untruncated representation"
          ]
        }
      ],
      "source": [
        "np.set_printoptions(threshold=np.nan)\n",
        "A = np.zeros((16,16))\n",
        "print(A)"
      ],
      "id": "47e98473"
    },
    {
      "cell_type": "markdown",
      "metadata": {
        "id": "e0e7d741"
      },
      "source": [
        "#### 50. How to find the closest value (to a given scalar) in a vector? (★★☆)"
      ],
      "id": "e0e7d741"
    },
    {
      "cell_type": "code",
      "execution_count": null,
      "metadata": {
        "id": "62cabf6f",
        "colab": {
          "base_uri": "https://localhost:8080/"
        },
        "outputId": "0566c107-2039-4bb9-82fe-746a18e5eb6f"
      },
      "outputs": [
        {
          "output_type": "stream",
          "name": "stdout",
          "text": [
            "9\n"
          ]
        }
      ],
      "source": [
        "A = np.arange(100)\n",
        "B = np.random.uniform(0,100)\n",
        "index = (np.abs(A-B)).argmin()\n",
        "print(A[index])"
      ],
      "id": "62cabf6f"
    },
    {
      "cell_type": "markdown",
      "metadata": {
        "id": "c5611b9e"
      },
      "source": [
        "#### 51. Create a structured array representing a position (x,y) and a color (r,g,b) (★★☆)"
      ],
      "id": "c5611b9e"
    },
    {
      "cell_type": "code",
      "execution_count": null,
      "metadata": {
        "id": "f622939d",
        "colab": {
          "base_uri": "https://localhost:8080/"
        },
        "outputId": "ea6af985-9f15-4f32-9336-6541bd98ac92"
      },
      "outputs": [
        {
          "output_type": "stream",
          "name": "stdout",
          "text": [
            "[((0., 0.), (0., 0., 0.)) ((0., 0.), (0., 0., 0.))\n",
            " ((0., 0.), (0., 0., 0.)) ((0., 0.), (0., 0., 0.))\n",
            " ((0., 0.), (0., 0., 0.)) ((0., 0.), (0., 0., 0.))\n",
            " ((0., 0.), (0., 0., 0.)) ((0., 0.), (0., 0., 0.))\n",
            " ((0., 0.), (0., 0., 0.)) ((0., 0.), (0., 0., 0.))]\n"
          ]
        },
        {
          "output_type": "stream",
          "name": "stderr",
          "text": [
            "<ipython-input-51-6f1aa4d7a2ff>:1: FutureWarning: Passing (type, 1) or '1type' as a synonym of type is deprecated; in a future version of numpy, it will be understood as (type, (1,)) / '(1,)type'.\n",
            "  Z = np.zeros(10, [ ('position', [ ('x', float, 1),\n"
          ]
        }
      ],
      "source": [
        "Z = np.zeros(10, [ ('position', [ ('x', float, 1),\n",
        "                                  ('y', float, 1)]),\n",
        "                   ('color',    [ ('r', float, 1),\n",
        "                                  ('g', float, 1),\n",
        "                                  ('b', float, 1)])])\n",
        "print(Z)"
      ],
      "id": "f622939d"
    },
    {
      "cell_type": "markdown",
      "metadata": {
        "id": "d22b8574"
      },
      "source": [
        "#### 52. Consider a random vector with shape (100,2) representing coordinates, find point by point distances (★★☆)"
      ],
      "id": "d22b8574"
    },
    {
      "cell_type": "code",
      "execution_count": null,
      "metadata": {
        "id": "d5c9cdf8",
        "colab": {
          "base_uri": "https://localhost:8080/"
        },
        "outputId": "a3a4821a-59d5-4d54-f758-184b536c83ba"
      },
      "outputs": [
        {
          "output_type": "stream",
          "name": "stdout",
          "text": [
            "[[0.         0.08290677 0.28258578 0.52798433 0.7801429  0.281553\n",
            "  0.40476141 0.54929412 0.85771589 0.92010039]\n",
            " [0.08290677 0.         0.32825202 0.57713541 0.839671   0.3630904\n",
            "  0.41858296 0.63044185 0.92675015 0.95420542]\n",
            " [0.28258578 0.32825202 0.         0.24888366 0.51689266 0.34421692\n",
            "  0.18113598 0.55371354 0.62319554 0.63888282]\n",
            " [0.52798433 0.57713541 0.24888366 0.         0.28054575 0.50169801\n",
            "  0.26200638 0.61710138 0.41833247 0.41369623]\n",
            " [0.7801429  0.839671   0.51689266 0.28054575 0.         0.67484195\n",
            "  0.53701226 0.68355858 0.17571316 0.35033538]\n",
            " [0.281553   0.3630904  0.34421692 0.50169801 0.67484195 0.\n",
            "  0.5242677  0.26780043 0.6967621  0.91377885]\n",
            " [0.40476141 0.41858296 0.18113598 0.26200638 0.53701226 0.5242677\n",
            "  0.         0.7306211  0.68024882 0.54997022]\n",
            " [0.54929412 0.63044185 0.55371354 0.61710138 0.68355858 0.26780043\n",
            "  0.7306211  0.         0.63605035 0.99263024]\n",
            " [0.85771589 0.92675015 0.62319554 0.41833247 0.17571316 0.6967621\n",
            "  0.68024882 0.63605035 0.         0.50715634]\n",
            " [0.92010039 0.95420542 0.63888282 0.41369623 0.35033538 0.91377885\n",
            "  0.54997022 0.99263024 0.50715634 0.        ]]\n",
            "[[0.         0.2521019  0.65884002 0.35732577 0.27681175 0.57239414\n",
            "  0.65747946 0.40742002 0.36066995 0.27483847]\n",
            " [0.2521019  0.         0.40676362 0.27683588 0.04872132 0.42504897\n",
            "  0.41071079 0.38294665 0.39961497 0.5054532 ]\n",
            " [0.65884002 0.40676362 0.         0.50815183 0.38720797 0.46618202\n",
            "  0.1139899  0.61476765 0.69329851 0.90086981]\n",
            " [0.35732577 0.27683588 0.50815183 0.         0.23638499 0.69384664\n",
            "  0.56883214 0.1156365  0.65004063 0.47528979]\n",
            " [0.27681175 0.04872132 0.38720797 0.23638499 0.         0.45865853\n",
            "  0.40440098 0.34647058 0.44831648 0.51503546]\n",
            " [0.57239414 0.42504897 0.46618202 0.69384664 0.45865853 0.\n",
            "  0.36732052 0.8051291  0.35218148 0.84424051]\n",
            " [0.65747946 0.41071079 0.1139899  0.56883214 0.40440098 0.36732052\n",
            "  0.         0.6812347  0.63225008 0.91600011]\n",
            " [0.40742002 0.38294665 0.61476765 0.1156365  0.34647058 0.8051291\n",
            "  0.6812347  0.         0.73355578 0.45412623]\n",
            " [0.36066995 0.39961497 0.69329851 0.65004063 0.44831648 0.35218148\n",
            "  0.63225008 0.73355578 0.         0.58515377]\n",
            " [0.27483847 0.5054532  0.90086981 0.47528979 0.51503546 0.84424051\n",
            "  0.91600011 0.45412623 0.58515377 0.        ]]\n"
          ]
        }
      ],
      "source": [
        "Z = np.random.random((10,2))\n",
        "X,Y = np.atleast_2d(Z[:,0], Z[:,1])\n",
        "D = np.sqrt( (X-X.T)**2 + (Y-Y.T)**2)\n",
        "print(D)\n",
        "import scipy\n",
        "import scipy.spatial\n",
        "Z = np.random.random((10,2))\n",
        "D = scipy.spatial.distance.cdist(Z,Z)\n",
        "print(D)"
      ],
      "id": "d5c9cdf8"
    },
    {
      "cell_type": "markdown",
      "metadata": {
        "id": "f5c164f2"
      },
      "source": [
        "#### 53. How to convert a float (32 bits) array into an integer (32 bits) in place?"
      ],
      "id": "f5c164f2"
    },
    {
      "cell_type": "code",
      "execution_count": null,
      "metadata": {
        "id": "ea262de8",
        "colab": {
          "base_uri": "https://localhost:8080/"
        },
        "outputId": "32265c6b-4026-4317-95e6-4bee9f741dc7"
      },
      "outputs": [
        {
          "output_type": "stream",
          "name": "stdout",
          "text": [
            "[0. 1. 2. 3. 4. 5. 6. 7. 8. 9.]\n"
          ]
        }
      ],
      "source": [
        "A = np.arange(10, dtype=np.int32)\n",
        "A = A.astype(np.float32, copy=False)\n",
        "print(A)"
      ],
      "id": "ea262de8"
    },
    {
      "cell_type": "markdown",
      "metadata": {
        "id": "a8b7e6f5"
      },
      "source": [
        "#### 54. How to read the following file? (★★☆)\n",
        "```\n",
        "1, 2, 3, 4, 5\n",
        "6,  ,  , 7, 8\n",
        " ,  , 9,10,11\n",
        "```"
      ],
      "id": "a8b7e6f5"
    },
    {
      "cell_type": "code",
      "execution_count": null,
      "metadata": {
        "id": "bde0538a",
        "colab": {
          "base_uri": "https://localhost:8080/"
        },
        "outputId": "7898040a-b67d-4edf-e8d2-22259d91d39c"
      },
      "outputs": [
        {
          "output_type": "stream",
          "name": "stdout",
          "text": [
            "[[ 1  2  3  4  5]\n",
            " [ 6 -1 -1  7  8]\n",
            " [-1 -1  9 10 11]]\n"
          ]
        },
        {
          "output_type": "stream",
          "name": "stderr",
          "text": [
            "<ipython-input-54-d89ba8f07978>:5: DeprecationWarning: `np.int` is a deprecated alias for the builtin `int`. To silence this warning, use `int` by itself. Doing this will not modify any behavior and is safe. When replacing `np.int`, you may wish to use e.g. `np.int64` or `np.int32` to specify the precision. If you wish to review your current use, check the release note link for additional information.\n",
            "Deprecated in NumPy 1.20; for more details and guidance: https://numpy.org/devdocs/release/1.20.0-notes.html#deprecations\n",
            "  Z = np.genfromtxt(s, delimiter=\",\", dtype=np.int)\n"
          ]
        }
      ],
      "source": [
        "from io import StringIO\n",
        "s = StringIO(\"\"\"1, 2, 3, 4, 5\\n\n",
        "                6,  ,  , 7, 8\\n\n",
        "                 ,  , 9,10,11\\n\"\"\")\n",
        "Z = np.genfromtxt(s, delimiter=\",\", dtype=np.int)\n",
        "print(Z)"
      ],
      "id": "bde0538a"
    },
    {
      "cell_type": "markdown",
      "metadata": {
        "id": "c6b32834"
      },
      "source": [
        "#### 55. What is the equivalent of enumerate for numpy arrays? (★★☆)"
      ],
      "id": "c6b32834"
    },
    {
      "cell_type": "code",
      "execution_count": null,
      "metadata": {
        "id": "ab02472a",
        "colab": {
          "base_uri": "https://localhost:8080/"
        },
        "outputId": "e36c2511-e072-430c-a1e6-79517b7a2160"
      },
      "outputs": [
        {
          "output_type": "stream",
          "name": "stdout",
          "text": [
            "(0, 0) 0\n",
            "(0, 1) 1\n",
            "(0, 2) 2\n",
            "(1, 0) 3\n",
            "(1, 1) 4\n",
            "(1, 2) 5\n",
            "(2, 0) 6\n",
            "(2, 1) 7\n",
            "(2, 2) 8\n",
            "(0, 0) 0\n",
            "(0, 1) 1\n",
            "(0, 2) 2\n",
            "(1, 0) 3\n",
            "(1, 1) 4\n",
            "(1, 2) 5\n",
            "(2, 0) 6\n",
            "(2, 1) 7\n",
            "(2, 2) 8\n"
          ]
        }
      ],
      "source": [
        "Z = np.arange(9).reshape(3,3)\n",
        "for index, value in np.ndenumerate(Z):\n",
        "    print(index, value)\n",
        "for index in np.ndindex(Z.shape):\n",
        "    print(index, Z[index])"
      ],
      "id": "ab02472a"
    },
    {
      "cell_type": "markdown",
      "metadata": {
        "id": "a2121a05"
      },
      "source": [
        "#### 56. Generate a generic 2D Gaussian-like array (★★☆)"
      ],
      "id": "a2121a05"
    },
    {
      "cell_type": "code",
      "execution_count": null,
      "metadata": {
        "id": "18507102",
        "colab": {
          "base_uri": "https://localhost:8080/"
        },
        "outputId": "45181dff-606b-4e9d-93a6-ff10b365eb3d"
      },
      "outputs": [
        {
          "output_type": "stream",
          "name": "stdout",
          "text": [
            "[[0.36787944 0.44822088 0.51979489 0.57375342 0.60279818 0.60279818\n",
            "  0.57375342 0.51979489 0.44822088 0.36787944]\n",
            " [0.44822088 0.54610814 0.63331324 0.69905581 0.73444367 0.73444367\n",
            "  0.69905581 0.63331324 0.54610814 0.44822088]\n",
            " [0.51979489 0.63331324 0.73444367 0.81068432 0.85172308 0.85172308\n",
            "  0.81068432 0.73444367 0.63331324 0.51979489]\n",
            " [0.57375342 0.69905581 0.81068432 0.89483932 0.9401382  0.9401382\n",
            "  0.89483932 0.81068432 0.69905581 0.57375342]\n",
            " [0.60279818 0.73444367 0.85172308 0.9401382  0.98773022 0.98773022\n",
            "  0.9401382  0.85172308 0.73444367 0.60279818]\n",
            " [0.60279818 0.73444367 0.85172308 0.9401382  0.98773022 0.98773022\n",
            "  0.9401382  0.85172308 0.73444367 0.60279818]\n",
            " [0.57375342 0.69905581 0.81068432 0.89483932 0.9401382  0.9401382\n",
            "  0.89483932 0.81068432 0.69905581 0.57375342]\n",
            " [0.51979489 0.63331324 0.73444367 0.81068432 0.85172308 0.85172308\n",
            "  0.81068432 0.73444367 0.63331324 0.51979489]\n",
            " [0.44822088 0.54610814 0.63331324 0.69905581 0.73444367 0.73444367\n",
            "  0.69905581 0.63331324 0.54610814 0.44822088]\n",
            " [0.36787944 0.44822088 0.51979489 0.57375342 0.60279818 0.60279818\n",
            "  0.57375342 0.51979489 0.44822088 0.36787944]]\n"
          ]
        }
      ],
      "source": [
        "A,B = np.meshgrid(np.linspace(-1,1,10), np.linspace(-1,1,10))\n",
        "D = np.sqrt(A*A+B*B)\n",
        "sigma, mu = 1.0, 0.0\n",
        "C = np.exp(-( (D-mu)**2 / ( 2.0 * sigma**2 ) ) )\n",
        "print(C)"
      ],
      "id": "18507102"
    },
    {
      "cell_type": "markdown",
      "metadata": {
        "id": "97055efa"
      },
      "source": [
        "#### 57. How to randomly place p elements in a 2D array? (★★☆)"
      ],
      "id": "97055efa"
    },
    {
      "cell_type": "code",
      "execution_count": null,
      "metadata": {
        "id": "292e842f",
        "colab": {
          "base_uri": "https://localhost:8080/"
        },
        "outputId": "81d4b969-f0f1-4b0b-b73a-896248b3a57e"
      },
      "outputs": [
        {
          "output_type": "stream",
          "name": "stdout",
          "text": [
            "[[0. 0. 0. 0. 0. 0. 0. 0. 0. 0.]\n",
            " [0. 0. 0. 0. 0. 0. 0. 0. 0. 0.]\n",
            " [0. 0. 0. 0. 0. 0. 0. 0. 0. 0.]\n",
            " [0. 0. 0. 0. 0. 0. 0. 0. 0. 0.]\n",
            " [0. 0. 0. 0. 0. 0. 0. 0. 0. 0.]\n",
            " [1. 0. 0. 0. 0. 0. 0. 0. 0. 0.]\n",
            " [0. 1. 0. 0. 0. 0. 0. 0. 0. 0.]\n",
            " [0. 0. 0. 0. 0. 0. 0. 0. 1. 0.]\n",
            " [0. 0. 0. 0. 0. 0. 0. 0. 0. 0.]\n",
            " [0. 0. 0. 0. 0. 0. 0. 0. 0. 0.]]\n"
          ]
        }
      ],
      "source": [
        "n = 10\n",
        "p = 3\n",
        "Z = np.zeros((n,n))\n",
        "np.put(Z, np.random.choice(range(n*n), p, replace=False),1)\n",
        "print(Z)"
      ],
      "id": "292e842f"
    },
    {
      "cell_type": "markdown",
      "metadata": {
        "id": "bfd2513c"
      },
      "source": [
        "#### 58. Subtract the mean of each row of a matrix (★★☆)"
      ],
      "id": "bfd2513c"
    },
    {
      "cell_type": "code",
      "execution_count": null,
      "metadata": {
        "id": "f306ab72",
        "colab": {
          "base_uri": "https://localhost:8080/"
        },
        "outputId": "7edf0585-2c5c-456a-f6b8-7ecbd73c6590"
      },
      "outputs": [
        {
          "output_type": "stream",
          "name": "stdout",
          "text": [
            "[[ 0.40437042 -0.19415432  0.10650882 -0.19251989 -0.34300062  0.13127911\n",
            "   0.15470743 -0.2466208   0.37974858 -0.20031872]\n",
            " [ 0.32424195 -0.07132614 -0.03800251  0.06007384 -0.2087172  -0.4258848\n",
            "   0.14530622  0.02918171  0.15345677  0.03167015]\n",
            " [-0.01433752  0.40445177 -0.05634307  0.23082729  0.08766456 -0.06892082\n",
            "  -0.44464898 -0.10514635 -0.36592144  0.33237456]\n",
            " [-0.01936517  0.25260512 -0.23664517 -0.0685588   0.10804815 -0.27523985\n",
            "   0.14085295 -0.18125994  0.53507305 -0.25551032]\n",
            " [ 0.26719484  0.16951756  0.2555739  -0.09864272 -0.08187411 -0.40458763\n",
            "  -0.0133977   0.31799371 -0.26105283 -0.15072502]]\n"
          ]
        }
      ],
      "source": [
        "X = np.random.rand(5, 10)\n",
        "Y = X - X.mean(axis=1, keepdims=True)\n",
        "Y = X - X.mean(axis=1).reshape(-1, 1)\n",
        "print(Y)"
      ],
      "id": "f306ab72"
    },
    {
      "cell_type": "markdown",
      "metadata": {
        "id": "da9f2f9b"
      },
      "source": [
        "#### 59. How to sort an array by the nth column? (★★☆)"
      ],
      "id": "da9f2f9b"
    },
    {
      "cell_type": "code",
      "execution_count": null,
      "metadata": {
        "id": "68cde57f",
        "colab": {
          "base_uri": "https://localhost:8080/"
        },
        "outputId": "dfd6ffd5-8e62-478f-d5bc-2a156c87d4bc"
      },
      "outputs": [
        {
          "output_type": "stream",
          "name": "stdout",
          "text": [
            "[[3 7 6]\n",
            " [0 9 7]\n",
            " [2 7 7]]\n",
            "[[3 7 6]\n",
            " [2 7 7]\n",
            " [0 9 7]]\n"
          ]
        }
      ],
      "source": [
        "A= np.random.randint(0,10,(3,3))\n",
        "print(A)\n",
        "print(A[A[:,1].argsort()])"
      ],
      "id": "68cde57f"
    },
    {
      "cell_type": "markdown",
      "metadata": {
        "id": "5b7be45c"
      },
      "source": [
        "#### 60. How to tell if a given 2D array has null columns? (★★☆)"
      ],
      "id": "5b7be45c"
    },
    {
      "cell_type": "code",
      "execution_count": null,
      "metadata": {
        "id": "7dbe2c27",
        "colab": {
          "base_uri": "https://localhost:8080/"
        },
        "outputId": "74ab3477-0479-4e7b-dd18-9967f1cf1187"
      },
      "outputs": [
        {
          "output_type": "stream",
          "name": "stdout",
          "text": [
            "False\n"
          ]
        }
      ],
      "source": [
        "A= np.random.randint(0,3,(3,10))\n",
        "print((~A.any(axis=0)).any())"
      ],
      "id": "7dbe2c27"
    },
    {
      "cell_type": "markdown",
      "metadata": {
        "id": "7c18c02e"
      },
      "source": [
        "#### 61. Find the nearest value from a given value in an array (★★☆)"
      ],
      "id": "7c18c02e"
    },
    {
      "cell_type": "code",
      "execution_count": null,
      "metadata": {
        "id": "b78ae9c4",
        "colab": {
          "base_uri": "https://localhost:8080/"
        },
        "outputId": "924f45ff-9826-4c4f-8e26-433692e9b3aa"
      },
      "outputs": [
        {
          "output_type": "stream",
          "name": "stdout",
          "text": [
            "0.49236308880078994\n"
          ]
        }
      ],
      "source": [
        "Z = np.random.uniform(0,1,10)\n",
        "z = 0.5\n",
        "m = Z.flat[np.abs(Z - z).argmin()]\n",
        "print(m)"
      ],
      "id": "b78ae9c4"
    },
    {
      "cell_type": "markdown",
      "metadata": {
        "id": "8174ba2c"
      },
      "source": [
        "#### 62. Considering two arrays with shape (1,3) and (3,1), how to compute their sum using an iterator? (★★☆)"
      ],
      "id": "8174ba2c"
    },
    {
      "cell_type": "code",
      "execution_count": null,
      "metadata": {
        "id": "8a18fe57",
        "colab": {
          "base_uri": "https://localhost:8080/"
        },
        "outputId": "cfbb9e72-71b5-4056-8aa3-a1950273d7b3"
      },
      "outputs": [
        {
          "output_type": "stream",
          "name": "stdout",
          "text": [
            "[[0 1 2]\n",
            " [1 2 3]\n",
            " [2 3 4]]\n"
          ]
        }
      ],
      "source": [
        "A = np.arange(3).reshape(3,1)\n",
        "B = np.arange(3).reshape(1,3)\n",
        "it = np.nditer([A,B,None])\n",
        "for x,y,z in it: z[...] = x + y\n",
        "print(it.operands[2])"
      ],
      "id": "8a18fe57"
    },
    {
      "cell_type": "markdown",
      "metadata": {
        "id": "9189bd7c"
      },
      "source": [
        "#### 63. Create an array class that has a name attribute (★★☆)"
      ],
      "id": "9189bd7c"
    },
    {
      "cell_type": "code",
      "execution_count": null,
      "metadata": {
        "id": "1c01ed42",
        "colab": {
          "base_uri": "https://localhost:8080/"
        },
        "outputId": "bf7f563c-b86b-416b-f34c-b6b38dc5d170"
      },
      "outputs": [
        {
          "output_type": "stream",
          "name": "stdout",
          "text": [
            "range_10\n"
          ]
        }
      ],
      "source": [
        "class NamedArray(np.ndarray):\n",
        "    def __new__(cls, array, name=\"no name\"):\n",
        "        obj = np.asarray(array).view(cls)\n",
        "        obj.name = name\n",
        "        return obj\n",
        "    def __array_finalize__(self, obj):\n",
        "        if obj is None: return\n",
        "        self.info = getattr(obj, 'name', \"no name\")\n",
        "\n",
        "Z = NamedArray(np.arange(10), \"range_10\")\n",
        "print (Z.name)"
      ],
      "id": "1c01ed42"
    },
    {
      "cell_type": "markdown",
      "metadata": {
        "id": "f30162d2"
      },
      "source": [
        "#### 64. Consider a given vector, how to add 1 to each element indexed by a second vector (be careful with repeated indices)? (★★★)"
      ],
      "id": "f30162d2"
    },
    {
      "cell_type": "code",
      "execution_count": null,
      "metadata": {
        "id": "093ba36f",
        "colab": {
          "base_uri": "https://localhost:8080/"
        },
        "outputId": "555964af-b1f9-49c0-ea90-71d1d214e790"
      },
      "outputs": [
        {
          "output_type": "stream",
          "name": "stdout",
          "text": [
            "[3. 4. 2. 4. 4. 2. 4. 2. 1. 4.]\n",
            "[5. 7. 3. 7. 7. 3. 7. 3. 1. 7.]\n"
          ]
        }
      ],
      "source": [
        "Z = np.ones(10)\n",
        "I = np.random.randint(0,len(Z),20)\n",
        "Z += np.bincount(I, minlength=len(Z))\n",
        "print(Z)\n",
        "np.add.at(Z, I, 1)\n",
        "print(Z)"
      ],
      "id": "093ba36f"
    },
    {
      "cell_type": "markdown",
      "metadata": {
        "id": "f5b1c584"
      },
      "source": [
        "#### 65. How to accumulate elements of a vector (X) to an array (F) based on an index list (I)? (★★★)"
      ],
      "id": "f5b1c584"
    },
    {
      "cell_type": "code",
      "execution_count": null,
      "metadata": {
        "id": "c9d92a75",
        "colab": {
          "base_uri": "https://localhost:8080/"
        },
        "outputId": "7e35066a-03e4-42a3-a1fd-29ee0fb9f6f3"
      },
      "outputs": [
        {
          "output_type": "stream",
          "name": "stdout",
          "text": [
            "[0. 7. 0. 6. 5. 0. 0. 0. 0. 3.]\n"
          ]
        }
      ],
      "source": [
        "X = [1,2,3,4,5,6]\n",
        "I = [1,3,9,3,4,1]\n",
        "F = np.bincount(I,X)\n",
        "print(F)"
      ],
      "id": "c9d92a75"
    },
    {
      "cell_type": "markdown",
      "metadata": {
        "id": "994c452d"
      },
      "source": [
        "#### 66. Considering a (w,h,3) image of (dtype=ubyte), compute the number of unique colors (★★☆)"
      ],
      "id": "994c452d"
    },
    {
      "cell_type": "code",
      "execution_count": null,
      "metadata": {
        "id": "269cdaea",
        "colab": {
          "base_uri": "https://localhost:8080/"
        },
        "outputId": "ed6d1659-ce7d-481a-c65c-692dd1ffd86a"
      },
      "outputs": [
        {
          "output_type": "stream",
          "name": "stdout",
          "text": [
            "[0 1]\n"
          ]
        }
      ],
      "source": [
        "w,h = 16,16\n",
        "I = np.random.randint(0,2,(h,w,3)).astype(np.ubyte)\n",
        "F = I[...,0]*256*256 + I[...,1]*256 +I[...,2]\n",
        "n = len(np.unique(F))\n",
        "print(np.unique(I))"
      ],
      "id": "269cdaea"
    },
    {
      "cell_type": "markdown",
      "metadata": {
        "id": "4bddeb31"
      },
      "source": [
        "#### 67. Considering a four dimensions array, how to get sum over the last two axis at once? (★★★)"
      ],
      "id": "4bddeb31"
    },
    {
      "cell_type": "code",
      "execution_count": null,
      "metadata": {
        "id": "32af15f5",
        "colab": {
          "base_uri": "https://localhost:8080/"
        },
        "outputId": "fa88382a-b7d6-41e6-9b42-efca771242d7"
      },
      "outputs": [
        {
          "output_type": "stream",
          "name": "stdout",
          "text": [
            "[[37 59 62 47]\n",
            " [57 49 67 41]\n",
            " [53 55 60 66]]\n",
            "[[37 59 62 47]\n",
            " [57 49 67 41]\n",
            " [53 55 60 66]]\n"
          ]
        }
      ],
      "source": [
        "A = np.random.randint(0,10,(3,4,3,4))\n",
        "sum = A.sum(axis=(-2,-1))\n",
        "print(sum)\n",
        "sum = A.reshape(A.shape[:-2] + (-1,)).sum(axis=-1)\n",
        "print(sum)"
      ],
      "id": "32af15f5"
    },
    {
      "cell_type": "markdown",
      "metadata": {
        "id": "c4cf083c"
      },
      "source": [
        "#### 68. Considering a one-dimensional vector D, how to compute means of subsets of D using a vector S of same size describing subset  indices? (★★★)"
      ],
      "id": "c4cf083c"
    },
    {
      "cell_type": "code",
      "execution_count": null,
      "metadata": {
        "id": "9600a2dd",
        "colab": {
          "base_uri": "https://localhost:8080/"
        },
        "outputId": "bb0e3ae5-2725-4760-f9dc-09bd25742dbc"
      },
      "outputs": [
        {
          "output_type": "stream",
          "name": "stdout",
          "text": [
            "[0.58309488 0.5403674  0.58416491 0.56222744 0.56003097 0.28995972\n",
            " 0.56574746 0.65397861 0.53032497 0.42426625]\n",
            "0    0.583095\n",
            "1    0.540367\n",
            "2    0.584165\n",
            "3    0.562227\n",
            "4    0.560031\n",
            "5    0.289960\n",
            "6    0.565747\n",
            "7    0.653979\n",
            "8    0.530325\n",
            "9    0.424266\n",
            "dtype: float64\n"
          ]
        }
      ],
      "source": [
        "D = np.random.uniform(0,1,100)\n",
        "S = np.random.randint(0,10,100)\n",
        "D_sums = np.bincount(S, weights=D)\n",
        "D_counts = np.bincount(S)\n",
        "D_means = D_sums / D_counts\n",
        "print(D_means)\n",
        "import pandas as pd\n",
        "print(pd.Series(D).groupby(S).mean())"
      ],
      "id": "9600a2dd"
    },
    {
      "cell_type": "markdown",
      "metadata": {
        "id": "a5e316db"
      },
      "source": [
        "#### 69. How to get the diagonal of a dot product? (★★★)"
      ],
      "id": "a5e316db"
    },
    {
      "cell_type": "code",
      "execution_count": null,
      "metadata": {
        "id": "94735dbd",
        "colab": {
          "base_uri": "https://localhost:8080/"
        },
        "outputId": "0ccd3217-179d-43de-b1b6-bfa3d84eb2dc"
      },
      "outputs": [
        {
          "output_type": "execute_result",
          "data": {
            "text/plain": [
              "array([2.66827373, 1.50458653, 1.03240424, 0.80055377, 0.79518457])"
            ]
          },
          "metadata": {},
          "execution_count": 69
        }
      ],
      "source": [
        "A = np.random.uniform(0,1,(5,5))\n",
        "B = np.random.uniform(0,1,(5,5))\n",
        "np.diag(np.dot(A, B))\n",
        "np.sum(A * B.T, axis=1)\n",
        "np.einsum(\"ij,ji->i\", A, B)"
      ],
      "id": "94735dbd"
    },
    {
      "cell_type": "markdown",
      "metadata": {
        "id": "de727a7b"
      },
      "source": [
        "#### 70. Consider the vector [1, 2, 3, 4, 5], how to build a new vector with 3 consecutive zeros interleaved between each value? (★★★)"
      ],
      "id": "de727a7b"
    },
    {
      "cell_type": "code",
      "execution_count": null,
      "metadata": {
        "id": "982be812",
        "colab": {
          "base_uri": "https://localhost:8080/"
        },
        "outputId": "c5592cc0-f3df-44bd-e2a4-c8aa797751f2"
      },
      "outputs": [
        {
          "output_type": "stream",
          "name": "stdout",
          "text": [
            "[1. 0. 0. 0. 2. 0. 0. 0. 3. 0. 0. 0. 4. 0. 0. 0. 5.]\n"
          ]
        }
      ],
      "source": [
        "Z = np.array([1,2,3,4,5])\n",
        "nz = 3\n",
        "Z0 = np.zeros(len(Z) + (len(Z)-1)*(nz))\n",
        "Z0[::nz+1] = Z\n",
        "print(Z0)"
      ],
      "id": "982be812"
    },
    {
      "cell_type": "markdown",
      "metadata": {
        "id": "a9a73d6b"
      },
      "source": [
        "#### 71. Consider an array of dimension (5,5,3), how to mulitply it by an array with dimensions (5,5)? (★★★)"
      ],
      "id": "a9a73d6b"
    },
    {
      "cell_type": "code",
      "execution_count": null,
      "metadata": {
        "id": "282a90cc",
        "colab": {
          "base_uri": "https://localhost:8080/"
        },
        "outputId": "9757550d-ed2d-4f0b-c6ce-4fbcafc03b11"
      },
      "outputs": [
        {
          "output_type": "stream",
          "name": "stdout",
          "text": [
            "[[[2. 2. 2.]\n",
            "  [2. 2. 2.]\n",
            "  [2. 2. 2.]\n",
            "  [2. 2. 2.]\n",
            "  [2. 2. 2.]]\n",
            "\n",
            " [[2. 2. 2.]\n",
            "  [2. 2. 2.]\n",
            "  [2. 2. 2.]\n",
            "  [2. 2. 2.]\n",
            "  [2. 2. 2.]]\n",
            "\n",
            " [[2. 2. 2.]\n",
            "  [2. 2. 2.]\n",
            "  [2. 2. 2.]\n",
            "  [2. 2. 2.]\n",
            "  [2. 2. 2.]]\n",
            "\n",
            " [[2. 2. 2.]\n",
            "  [2. 2. 2.]\n",
            "  [2. 2. 2.]\n",
            "  [2. 2. 2.]\n",
            "  [2. 2. 2.]]\n",
            "\n",
            " [[2. 2. 2.]\n",
            "  [2. 2. 2.]\n",
            "  [2. 2. 2.]\n",
            "  [2. 2. 2.]\n",
            "  [2. 2. 2.]]]\n"
          ]
        }
      ],
      "source": [
        "A = np.ones((5,5,3))\n",
        "B = 2*np.ones((5,5))\n",
        "print(A * B[:,:,None])"
      ],
      "id": "282a90cc"
    },
    {
      "cell_type": "markdown",
      "metadata": {
        "id": "a951c78f"
      },
      "source": [
        "#### 72. How to swap two rows of an array? (★★★)"
      ],
      "id": "a951c78f"
    },
    {
      "cell_type": "code",
      "execution_count": null,
      "metadata": {
        "id": "e29b3fde",
        "colab": {
          "base_uri": "https://localhost:8080/"
        },
        "outputId": "fd30aaba-189d-497e-cbc8-1ab09077bcaa"
      },
      "outputs": [
        {
          "output_type": "stream",
          "name": "stdout",
          "text": [
            "[[ 5  6  7  8  9]\n",
            " [ 0  1  2  3  4]\n",
            " [10 11 12 13 14]\n",
            " [15 16 17 18 19]\n",
            " [20 21 22 23 24]]\n"
          ]
        }
      ],
      "source": [
        "A = np.arange(25).reshape(5,5)\n",
        "A[[0,1]] = A[[1,0]]\n",
        "print(A)"
      ],
      "id": "e29b3fde"
    },
    {
      "cell_type": "markdown",
      "metadata": {
        "id": "43b639e8"
      },
      "source": [
        "#### 73. Consider a set of 10 triplets describing 10 triangles (with shared vertices), find the set of unique line segments composing all the  triangles (★★★)"
      ],
      "id": "43b639e8"
    },
    {
      "cell_type": "code",
      "execution_count": null,
      "metadata": {
        "id": "147e1034",
        "colab": {
          "base_uri": "https://localhost:8080/"
        },
        "outputId": "0f941b61-1466-443c-d1aa-3def7a65b0a5"
      },
      "outputs": [
        {
          "output_type": "stream",
          "name": "stdout",
          "text": [
            "[( 5,  9) ( 5, 54) ( 9, 54) (15, 82) (15, 94) (20, 41) (20, 42) (21, 23)\n",
            " (21, 73) (23, 73) (30, 77) (30, 93) (39, 49) (39, 95) (41, 42) (43, 84)\n",
            " (43, 99) (49, 95) (54, 59) (54, 67) (56, 87) (56, 99) (59, 67) (68, 69)\n",
            " (68, 92) (69, 92) (77, 93) (82, 94) (84, 99) (87, 99)]\n"
          ]
        }
      ],
      "source": [
        "faces = np.random.randint(0,100,(10,3))\n",
        "F = np.roll(faces.repeat(2,axis=1),-1,axis=1)\n",
        "F = F.reshape(len(F)*3,2)\n",
        "F = np.sort(F,axis=1)\n",
        "G = F.view( dtype=[('p0',F.dtype),('p1',F.dtype)] )\n",
        "G = np.unique(G)\n",
        "print(G)"
      ],
      "id": "147e1034"
    },
    {
      "cell_type": "markdown",
      "metadata": {
        "id": "d41de585"
      },
      "source": [
        "#### 74. Given a sorted array C that corresponds to a bincount, how to produce an array A such that np.bincount(A) == C? (★★★)"
      ],
      "id": "d41de585"
    },
    {
      "cell_type": "code",
      "execution_count": null,
      "metadata": {
        "id": "5f5d6e36",
        "colab": {
          "base_uri": "https://localhost:8080/"
        },
        "outputId": "11f6d773-3fca-4f87-a478-bb924c152dea"
      },
      "outputs": [
        {
          "output_type": "stream",
          "name": "stdout",
          "text": [
            "[1 1 2 3 4 4 6]\n"
          ]
        }
      ],
      "source": [
        "C = np.bincount([1,1,2,3,4,4,6])\n",
        "A = np.repeat(np.arange(len(C)), C)\n",
        "print(A)"
      ],
      "id": "5f5d6e36"
    },
    {
      "cell_type": "markdown",
      "metadata": {
        "id": "b50adf7c"
      },
      "source": [
        "#### 75. How to compute averages using a sliding window over an array? (★★★)"
      ],
      "id": "b50adf7c"
    },
    {
      "cell_type": "code",
      "execution_count": null,
      "metadata": {
        "id": "e631a9d2",
        "colab": {
          "base_uri": "https://localhost:8080/"
        },
        "outputId": "c222dc6e-b423-406f-ca94-dd38b35f7d52"
      },
      "outputs": [
        {
          "output_type": "stream",
          "name": "stdout",
          "text": [
            "[ 1.  2.  3.  4.  5.  6.  7.  8.  9. 10. 11. 12. 13. 14. 15. 16. 17. 18.]\n"
          ]
        }
      ],
      "source": [
        "def moving_average(a, n=3) :\n",
        "    ret = np.cumsum(a, dtype=float)\n",
        "    ret[n:] = ret[n:] - ret[:-n]\n",
        "    return ret[n - 1:] / n\n",
        "Z = np.arange(20)\n",
        "print(moving_average(Z, n=3))"
      ],
      "id": "e631a9d2"
    },
    {
      "cell_type": "markdown",
      "metadata": {
        "id": "1ab4c50d"
      },
      "source": [
        "#### 76. Consider a one-dimensional array Z, build a two-dimensional array whose first row is (Z[0],Z[1],Z[2]) and each subsequent row is  shifted by 1 (last row should be (Z[-3],Z[-2],Z[-1]) (★★★)"
      ],
      "id": "1ab4c50d"
    },
    {
      "cell_type": "code",
      "execution_count": null,
      "metadata": {
        "id": "3ccfe2c0",
        "colab": {
          "base_uri": "https://localhost:8080/"
        },
        "outputId": "8d68fe12-5055-4aca-9f1c-d51342dd014c"
      },
      "outputs": [
        {
          "output_type": "stream",
          "name": "stdout",
          "text": [
            "[[0 1 2]\n",
            " [1 2 3]\n",
            " [2 3 4]\n",
            " [3 4 5]\n",
            " [4 5 6]\n",
            " [5 6 7]\n",
            " [6 7 8]\n",
            " [7 8 9]]\n"
          ]
        }
      ],
      "source": [
        "from numpy.lib import stride_tricks\n",
        "def rolling(a, window):\n",
        "    shape = (a.size - window + 1, window)\n",
        "    strides = (a.itemsize, a.itemsize)\n",
        "    return stride_tricks.as_strided(a, shape=shape, strides=strides)\n",
        "Z = rolling(np.arange(10), 3)\n",
        "print(Z)"
      ],
      "id": "3ccfe2c0"
    },
    {
      "cell_type": "markdown",
      "metadata": {
        "id": "5b4fe59d"
      },
      "source": [
        "#### 77. How to negate a boolean, or to change the sign of a float inplace? (★★★)"
      ],
      "id": "5b4fe59d"
    },
    {
      "cell_type": "code",
      "execution_count": null,
      "metadata": {
        "id": "3c2373ff",
        "colab": {
          "base_uri": "https://localhost:8080/"
        },
        "outputId": "e86bc8e0-7443-4ade-a741-853e769d5785"
      },
      "outputs": [
        {
          "output_type": "execute_result",
          "data": {
            "text/plain": [
              "array([ 0.84077939, -0.87817617,  0.20537976, -0.1556085 ,  0.44136593,\n",
              "       -0.44511627,  0.06704568, -0.64488181, -0.30385011,  0.41971298,\n",
              "       -0.38921731,  0.85922661,  0.658114  , -0.71214187,  0.99897489,\n",
              "        0.09509211, -0.70116808, -0.42958403, -0.13341476, -0.77280501,\n",
              "        0.49222659, -0.35854799,  0.63181542,  0.67033326, -0.58274146,\n",
              "       -0.87079146,  0.42650265, -0.10253135,  0.55238478, -0.35872762,\n",
              "       -0.04743894, -0.02268938, -0.8206429 , -0.00916181,  0.42016768,\n",
              "        0.01027074, -0.24817408, -0.3385704 ,  0.92743814, -0.43082809,\n",
              "       -0.14542731,  0.47957668, -0.67041514,  0.8404007 , -0.83743701,\n",
              "        0.10723391,  0.38034718,  0.38168836,  0.66348628,  0.80258192,\n",
              "       -0.90186152,  0.29847993, -0.85154225,  0.22256181, -0.54722943,\n",
              "       -0.81571976,  0.22390126, -0.32044156,  0.39926906, -0.82220713,\n",
              "        0.57295167, -0.63691155,  0.93822208, -0.26621542, -0.38243194,\n",
              "       -0.94172582, -0.91072557,  0.58066746, -0.0407581 ,  0.44630933,\n",
              "       -0.40235089, -0.82164049, -0.29669758,  0.97228471,  0.08788923,\n",
              "        0.05890205,  0.10784271,  0.80754139, -0.38001908, -0.06803827,\n",
              "       -0.30075421,  0.17832478,  0.96452115, -0.90816448,  0.77453773,\n",
              "        0.35823058,  0.06565318,  0.08852449, -0.22231258,  0.11949054,\n",
              "       -0.18333044, -0.69449224,  0.39694208, -0.21516242, -0.82104096,\n",
              "       -0.53384363,  0.23706929,  0.62790433,  0.97157554,  0.16082652])"
            ]
          },
          "metadata": {},
          "execution_count": 77
        }
      ],
      "source": [
        "Z = np.random.randint(0,2,100)\n",
        "np.logical_not(Z, out=Z)\n",
        "\n",
        "Z = np.random.uniform(-1.0,1.0,100)\n",
        "np.negative(Z, out=Z)"
      ],
      "id": "3c2373ff"
    },
    {
      "cell_type": "markdown",
      "metadata": {
        "id": "119ab5af"
      },
      "source": [
        "#### 78. Consider 2 sets of points P0,P1 describing lines (2d) and a point p, how to compute distance from p to each line i (P0[i],P1[i])? (★★★)"
      ],
      "id": "119ab5af"
    },
    {
      "cell_type": "code",
      "execution_count": null,
      "metadata": {
        "id": "1d8d06dc",
        "colab": {
          "base_uri": "https://localhost:8080/"
        },
        "outputId": "2529f373-298b-40bd-b9a4-3e2d637d9c59"
      },
      "outputs": [
        {
          "output_type": "stream",
          "name": "stdout",
          "text": [
            "[ 8.50120866  2.78462565  2.94243958  3.60324381  7.72708138  1.66654874\n",
            "  7.90815032 11.63614157  8.68347092  2.3166643 ]\n"
          ]
        }
      ],
      "source": [
        "def distance(P0, P1, p):\n",
        "    T = P1 - P0\n",
        "    L = (T**2).sum(axis=1)\n",
        "    U = -((P0[:,0]-p[...,0])*T[:,0] + (P0[:,1]-p[...,1])*T[:,1]) / L\n",
        "    U = U.reshape(len(U),1)\n",
        "    D = P0 + U*T - p\n",
        "    return np.sqrt((D**2).sum(axis=1))\n",
        "\n",
        "P0 = np.random.uniform(-10,10,(10,2))\n",
        "P1 = np.random.uniform(-10,10,(10,2))\n",
        "p  = np.random.uniform(-10,10,( 1,2))\n",
        "print(distance(P0, P1, p))"
      ],
      "id": "1d8d06dc"
    },
    {
      "cell_type": "markdown",
      "metadata": {
        "id": "e5e7f323"
      },
      "source": [
        "#### 79. Consider 2 sets of points P0,P1 describing lines (2d) and a set of points P, how to compute distance from each point j (P[j]) to each line i (P0[i],P1[i])? (★★★)"
      ],
      "id": "e5e7f323"
    },
    {
      "cell_type": "code",
      "execution_count": null,
      "metadata": {
        "id": "d0ce77e2",
        "colab": {
          "base_uri": "https://localhost:8080/"
        },
        "outputId": "22c489d3-bbfe-43a3-de8c-561b63834b05"
      },
      "outputs": [
        {
          "output_type": "stream",
          "name": "stdout",
          "text": [
            "[[6.54495617e+00 1.08127571e+01 6.46332778e+00 8.15882004e-01\n",
            "  9.32414169e+00 1.18541013e+00 1.94065318e+00 6.80879000e-01\n",
            "  4.66558936e+00 5.85010852e+00]\n",
            " [1.83403331e-01 9.45141274e+00 1.31551077e+00 7.17627380e+00\n",
            "  4.38806965e-02 9.68693065e+00 4.32512288e+00 8.01451051e+00\n",
            "  6.51353695e+00 1.26551166e+01]\n",
            " [9.91810137e+00 6.17239537e+00 1.05158074e+01 9.94189243e+00\n",
            "  4.02629452e+00 5.89354484e-01 1.31111128e+01 7.25804387e+00\n",
            "  1.60078342e+00 4.23847146e+00]\n",
            " [8.08603337e+00 5.12071483e-01 7.60211328e+00 1.12220308e+00\n",
            "  5.59128133e+00 7.05719713e+00 5.49259290e+00 1.61791340e+00\n",
            "  5.30199276e+00 4.64157446e+00]\n",
            " [1.41732796e-01 5.51656532e+00 2.37435492e-03 3.13478106e-01\n",
            "  2.60495812e+00 2.33514576e+00 1.64645762e+00 1.09441617e-01\n",
            "  3.41691036e-01 5.04986052e+00]\n",
            " [3.74861237e+00 8.81300864e+00 3.81981815e+00 7.78470287e-01\n",
            "  6.34016135e+00 7.26907565e-01 7.79629209e-01 1.14264062e-01\n",
            "  2.44407739e+00 5.95802220e+00]\n",
            " [2.53532163e+00 1.04181071e+01 3.34458601e+00 5.76167836e+00\n",
            "  3.04459248e+00 6.61533653e+00 4.17408812e+00 5.80074557e+00\n",
            "  3.27087095e+00 1.10927146e+01]\n",
            " [9.84445930e+00 2.23896805e+00 9.39194736e+00 2.09475269e+00\n",
            "  7.08788243e+00 7.29944690e+00 6.96266170e+00 1.10397130e+00\n",
            "  5.79707047e+00 3.74362357e+00]\n",
            " [1.33626759e+01 3.76604453e+00 1.24492314e+01 1.42448109e-01\n",
            "  1.16423590e+01 1.17285017e+01 6.86443236e+00 4.24054243e+00\n",
            "  1.04921083e+01 5.91413398e+00]\n",
            " [3.83572752e+00 3.34210924e+00 3.36279826e+00 5.81747815e-01\n",
            "  1.71497079e+00 5.81717916e+00 2.44361158e+00 2.16910849e+00\n",
            "  3.49066286e+00 6.15377145e+00]]\n"
          ]
        }
      ],
      "source": [
        "P0 = np.random.uniform(-10, 10, (10,2))\n",
        "P1 = np.random.uniform(-10,10,(10,2))\n",
        "p = np.random.uniform(-10, 10, (10,2))\n",
        "print(np.array([distance(P0,P1,p_i) for p_i in p]))"
      ],
      "id": "d0ce77e2"
    },
    {
      "cell_type": "markdown",
      "metadata": {
        "id": "9b9d03eb"
      },
      "source": [
        "#### 80. Consider an arbitrary array, write a function that extract a subpart with a fixed shape and centered on a given element (pad with a `fill` value when necessary) (★★★)"
      ],
      "id": "9b9d03eb"
    },
    {
      "cell_type": "code",
      "execution_count": null,
      "metadata": {
        "id": "ec2b7ae3",
        "colab": {
          "base_uri": "https://localhost:8080/",
          "height": 245
        },
        "outputId": "a918cffc-526a-4f8f-922d-7c6c7b81f688"
      },
      "outputs": [
        {
          "output_type": "error",
          "ename": "IndexError",
          "evalue": "ignored",
          "traceback": [
            "\u001b[0;31m---------------------------------------------------------------------------\u001b[0m",
            "\u001b[0;31mIndexError\u001b[0m                                Traceback (most recent call last)",
            "\u001b[0;32m<ipython-input-80-f2b5781f38bf>\u001b[0m in \u001b[0;36m<cell line: 23>\u001b[0;34m()\u001b[0m\n\u001b[1;32m     21\u001b[0m \u001b[0mr\u001b[0m \u001b[0;34m=\u001b[0m \u001b[0;34m[\u001b[0m\u001b[0mslice\u001b[0m\u001b[0;34m(\u001b[0m\u001b[0mstart\u001b[0m\u001b[0;34m,\u001b[0m\u001b[0mstop\u001b[0m\u001b[0;34m)\u001b[0m \u001b[0;32mfor\u001b[0m \u001b[0mstart\u001b[0m\u001b[0;34m,\u001b[0m\u001b[0mstop\u001b[0m \u001b[0;32min\u001b[0m \u001b[0mzip\u001b[0m\u001b[0;34m(\u001b[0m\u001b[0mR_start\u001b[0m\u001b[0;34m,\u001b[0m\u001b[0mR_stop\u001b[0m\u001b[0;34m)\u001b[0m\u001b[0;34m]\u001b[0m\u001b[0;34m\u001b[0m\u001b[0;34m\u001b[0m\u001b[0m\n\u001b[1;32m     22\u001b[0m \u001b[0mz\u001b[0m \u001b[0;34m=\u001b[0m \u001b[0;34m[\u001b[0m\u001b[0mslice\u001b[0m\u001b[0;34m(\u001b[0m\u001b[0mstart\u001b[0m\u001b[0;34m,\u001b[0m\u001b[0mstop\u001b[0m\u001b[0;34m)\u001b[0m \u001b[0;32mfor\u001b[0m \u001b[0mstart\u001b[0m\u001b[0;34m,\u001b[0m\u001b[0mstop\u001b[0m \u001b[0;32min\u001b[0m \u001b[0mzip\u001b[0m\u001b[0;34m(\u001b[0m\u001b[0mZ_start\u001b[0m\u001b[0;34m,\u001b[0m\u001b[0mZ_stop\u001b[0m\u001b[0;34m)\u001b[0m\u001b[0;34m]\u001b[0m\u001b[0;34m\u001b[0m\u001b[0;34m\u001b[0m\u001b[0m\n\u001b[0;32m---> 23\u001b[0;31m \u001b[0mR\u001b[0m\u001b[0;34m[\u001b[0m\u001b[0mr\u001b[0m\u001b[0;34m]\u001b[0m \u001b[0;34m=\u001b[0m \u001b[0mZ\u001b[0m\u001b[0;34m[\u001b[0m\u001b[0mz\u001b[0m\u001b[0;34m]\u001b[0m\u001b[0;34m\u001b[0m\u001b[0;34m\u001b[0m\u001b[0m\n\u001b[0m\u001b[1;32m     24\u001b[0m \u001b[0mprint\u001b[0m\u001b[0;34m(\u001b[0m\u001b[0mZ\u001b[0m\u001b[0;34m)\u001b[0m\u001b[0;34m\u001b[0m\u001b[0;34m\u001b[0m\u001b[0m\n\u001b[1;32m     25\u001b[0m \u001b[0mprint\u001b[0m\u001b[0;34m(\u001b[0m\u001b[0mR\u001b[0m\u001b[0;34m)\u001b[0m\u001b[0;34m\u001b[0m\u001b[0;34m\u001b[0m\u001b[0m\n",
            "\u001b[0;31mIndexError\u001b[0m: only integers, slices (`:`), ellipsis (`...`), numpy.newaxis (`None`) and integer or boolean arrays are valid indices"
          ]
        }
      ],
      "source": [
        "Z = np.random.randint(0,10,(10,10))\n",
        "shape = (5,5)\n",
        "fill  = 0\n",
        "position = (1,1)\n",
        "\n",
        "R = np.ones(shape, dtype=Z.dtype)*fill\n",
        "P  = np.array(list(position)).astype(int)\n",
        "Rs = np.array(list(R.shape)).astype(int)\n",
        "Zs = np.array(list(Z.shape)).astype(int)\n",
        "\n",
        "R_start = np.zeros((len(shape),)).astype(int)\n",
        "R_stop  = np.array(list(shape)).astype(int)\n",
        "Z_start = (P-Rs//2)\n",
        "Z_stop  = (P+Rs//2)+Rs%2\n",
        "\n",
        "R_start = (R_start - np.minimum(Z_start,0)).tolist()\n",
        "Z_start = (np.maximum(Z_start,0)).tolist()\n",
        "R_stop = np.maximum(R_start, (R_stop - np.maximum(Z_stop-Zs,0))).tolist()\n",
        "Z_stop = (np.minimum(Z_stop,Zs)).tolist()\n",
        "\n",
        "r = [slice(start,stop) for start,stop in zip(R_start,R_stop)]\n",
        "z = [slice(start,stop) for start,stop in zip(Z_start,Z_stop)]\n",
        "R[r] = Z[z]\n",
        "print(Z)\n",
        "print(R)"
      ],
      "id": "ec2b7ae3"
    },
    {
      "cell_type": "markdown",
      "metadata": {
        "id": "27794913"
      },
      "source": [
        "#### 81. Consider an array Z = [1,2,3,4,5,6,7,8,9,10,11,12,13,14], how to generate an array R = [[1,2,3,4], [2,3,4,5], [3,4,5,6], ..., [11,12,13,14]]? (★★★)"
      ],
      "id": "27794913"
    },
    {
      "cell_type": "code",
      "execution_count": null,
      "metadata": {
        "id": "f3e7878b",
        "colab": {
          "base_uri": "https://localhost:8080/"
        },
        "outputId": "85dc6361-517a-4463-ce53-b9a5b6318339"
      },
      "outputs": [
        {
          "output_type": "stream",
          "name": "stdout",
          "text": [
            "[[ 1  2  3  4]\n",
            " [ 2  3  4  5]\n",
            " [ 3  4  5  6]\n",
            " [ 4  5  6  7]\n",
            " [ 5  6  7  8]\n",
            " [ 6  7  8  9]\n",
            " [ 7  8  9 10]\n",
            " [ 8  9 10 11]\n",
            " [ 9 10 11 12]\n",
            " [10 11 12 13]\n",
            " [11 12 13 14]]\n"
          ]
        }
      ],
      "source": [
        "Z = np.arange(1,15,dtype=np.uint32)\n",
        "R = stride_tricks.as_strided(Z,(11,4),(4,4))\n",
        "print(R)"
      ],
      "id": "f3e7878b"
    },
    {
      "cell_type": "markdown",
      "metadata": {
        "id": "fae786f5"
      },
      "source": [
        "#### 82. Compute a matrix rank (★★★)"
      ],
      "id": "fae786f5"
    },
    {
      "cell_type": "code",
      "execution_count": null,
      "metadata": {
        "id": "64b9615b",
        "colab": {
          "base_uri": "https://localhost:8080/"
        },
        "outputId": "9e433f61-bb5a-462e-ffff-55d13cfcb25c"
      },
      "outputs": [
        {
          "output_type": "stream",
          "name": "stdout",
          "text": [
            "10\n"
          ]
        }
      ],
      "source": [
        "Z = np.random.uniform(0,1,(10,10))\n",
        "U, S, V = np.linalg.svd(Z) # Singular Value Decomposition\n",
        "rank = np.sum(S > 1e-10)\n",
        "print(rank)"
      ],
      "id": "64b9615b"
    },
    {
      "cell_type": "markdown",
      "metadata": {
        "id": "c85aa0b9"
      },
      "source": [
        "#### 83. How to find the most frequent value in an array?"
      ],
      "id": "c85aa0b9"
    },
    {
      "cell_type": "code",
      "execution_count": null,
      "metadata": {
        "id": "056be85b",
        "colab": {
          "base_uri": "https://localhost:8080/"
        },
        "outputId": "1fce3080-7b5e-4b44-81f8-5c572f8f122d"
      },
      "outputs": [
        {
          "output_type": "stream",
          "name": "stdout",
          "text": [
            "8\n"
          ]
        }
      ],
      "source": [
        "Z = np.random.randint(0,10,50)\n",
        "print(np.bincount(Z).argmax())"
      ],
      "id": "056be85b"
    },
    {
      "cell_type": "markdown",
      "metadata": {
        "id": "0ff2344d"
      },
      "source": [
        "#### 84. Extract all the contiguous 3x3 blocks from a random 10x10 matrix (★★★)"
      ],
      "id": "0ff2344d"
    },
    {
      "cell_type": "code",
      "execution_count": null,
      "metadata": {
        "id": "d58b1318",
        "colab": {
          "base_uri": "https://localhost:8080/"
        },
        "outputId": "872f81ad-3bda-4a2c-fd0a-5d5484ad4b4f"
      },
      "outputs": [
        {
          "output_type": "stream",
          "name": "stdout",
          "text": [
            "[[[[3 2 0]\n",
            "   [3 2 1]\n",
            "   [2 0 4]]\n",
            "\n",
            "  [[2 0 3]\n",
            "   [2 1 4]\n",
            "   [0 4 2]]\n",
            "\n",
            "  [[0 3 1]\n",
            "   [1 4 4]\n",
            "   [4 2 2]]\n",
            "\n",
            "  [[3 1 0]\n",
            "   [4 4 3]\n",
            "   [2 2 2]]\n",
            "\n",
            "  [[1 0 4]\n",
            "   [4 3 2]\n",
            "   [2 2 1]]\n",
            "\n",
            "  [[0 4 4]\n",
            "   [3 2 0]\n",
            "   [2 1 3]]\n",
            "\n",
            "  [[4 4 0]\n",
            "   [2 0 3]\n",
            "   [1 3 4]]\n",
            "\n",
            "  [[4 0 2]\n",
            "   [0 3 4]\n",
            "   [3 4 2]]]\n",
            "\n",
            "\n",
            " [[[3 2 1]\n",
            "   [2 0 4]\n",
            "   [1 1 4]]\n",
            "\n",
            "  [[2 1 4]\n",
            "   [0 4 2]\n",
            "   [1 4 4]]\n",
            "\n",
            "  [[1 4 4]\n",
            "   [4 2 2]\n",
            "   [4 4 0]]\n",
            "\n",
            "  [[4 4 3]\n",
            "   [2 2 2]\n",
            "   [4 0 1]]\n",
            "\n",
            "  [[4 3 2]\n",
            "   [2 2 1]\n",
            "   [0 1 3]]\n",
            "\n",
            "  [[3 2 0]\n",
            "   [2 1 3]\n",
            "   [1 3 4]]\n",
            "\n",
            "  [[2 0 3]\n",
            "   [1 3 4]\n",
            "   [3 4 0]]\n",
            "\n",
            "  [[0 3 4]\n",
            "   [3 4 2]\n",
            "   [4 0 0]]]\n",
            "\n",
            "\n",
            " [[[2 0 4]\n",
            "   [1 1 4]\n",
            "   [3 0 1]]\n",
            "\n",
            "  [[0 4 2]\n",
            "   [1 4 4]\n",
            "   [0 1 4]]\n",
            "\n",
            "  [[4 2 2]\n",
            "   [4 4 0]\n",
            "   [1 4 2]]\n",
            "\n",
            "  [[2 2 2]\n",
            "   [4 0 1]\n",
            "   [4 2 1]]\n",
            "\n",
            "  [[2 2 1]\n",
            "   [0 1 3]\n",
            "   [2 1 3]]\n",
            "\n",
            "  [[2 1 3]\n",
            "   [1 3 4]\n",
            "   [1 3 2]]\n",
            "\n",
            "  [[1 3 4]\n",
            "   [3 4 0]\n",
            "   [3 2 1]]\n",
            "\n",
            "  [[3 4 2]\n",
            "   [4 0 0]\n",
            "   [2 1 2]]]\n",
            "\n",
            "\n",
            " [[[1 1 4]\n",
            "   [3 0 1]\n",
            "   [0 2 1]]\n",
            "\n",
            "  [[1 4 4]\n",
            "   [0 1 4]\n",
            "   [2 1 1]]\n",
            "\n",
            "  [[4 4 0]\n",
            "   [1 4 2]\n",
            "   [1 1 3]]\n",
            "\n",
            "  [[4 0 1]\n",
            "   [4 2 1]\n",
            "   [1 3 4]]\n",
            "\n",
            "  [[0 1 3]\n",
            "   [2 1 3]\n",
            "   [3 4 4]]\n",
            "\n",
            "  [[1 3 4]\n",
            "   [1 3 2]\n",
            "   [4 4 2]]\n",
            "\n",
            "  [[3 4 0]\n",
            "   [3 2 1]\n",
            "   [4 2 0]]\n",
            "\n",
            "  [[4 0 0]\n",
            "   [2 1 2]\n",
            "   [2 0 1]]]\n",
            "\n",
            "\n",
            " [[[3 0 1]\n",
            "   [0 2 1]\n",
            "   [2 0 0]]\n",
            "\n",
            "  [[0 1 4]\n",
            "   [2 1 1]\n",
            "   [0 0 2]]\n",
            "\n",
            "  [[1 4 2]\n",
            "   [1 1 3]\n",
            "   [0 2 1]]\n",
            "\n",
            "  [[4 2 1]\n",
            "   [1 3 4]\n",
            "   [2 1 3]]\n",
            "\n",
            "  [[2 1 3]\n",
            "   [3 4 4]\n",
            "   [1 3 3]]\n",
            "\n",
            "  [[1 3 2]\n",
            "   [4 4 2]\n",
            "   [3 3 4]]\n",
            "\n",
            "  [[3 2 1]\n",
            "   [4 2 0]\n",
            "   [3 4 3]]\n",
            "\n",
            "  [[2 1 2]\n",
            "   [2 0 1]\n",
            "   [4 3 0]]]\n",
            "\n",
            "\n",
            " [[[0 2 1]\n",
            "   [2 0 0]\n",
            "   [0 1 1]]\n",
            "\n",
            "  [[2 1 1]\n",
            "   [0 0 2]\n",
            "   [1 1 4]]\n",
            "\n",
            "  [[1 1 3]\n",
            "   [0 2 1]\n",
            "   [1 4 4]]\n",
            "\n",
            "  [[1 3 4]\n",
            "   [2 1 3]\n",
            "   [4 4 1]]\n",
            "\n",
            "  [[3 4 4]\n",
            "   [1 3 3]\n",
            "   [4 1 1]]\n",
            "\n",
            "  [[4 4 2]\n",
            "   [3 3 4]\n",
            "   [1 1 4]]\n",
            "\n",
            "  [[4 2 0]\n",
            "   [3 4 3]\n",
            "   [1 4 2]]\n",
            "\n",
            "  [[2 0 1]\n",
            "   [4 3 0]\n",
            "   [4 2 3]]]\n",
            "\n",
            "\n",
            " [[[2 0 0]\n",
            "   [0 1 1]\n",
            "   [1 1 4]]\n",
            "\n",
            "  [[0 0 2]\n",
            "   [1 1 4]\n",
            "   [1 4 4]]\n",
            "\n",
            "  [[0 2 1]\n",
            "   [1 4 4]\n",
            "   [4 4 0]]\n",
            "\n",
            "  [[2 1 3]\n",
            "   [4 4 1]\n",
            "   [4 0 0]]\n",
            "\n",
            "  [[1 3 3]\n",
            "   [4 1 1]\n",
            "   [0 0 0]]\n",
            "\n",
            "  [[3 3 4]\n",
            "   [1 1 4]\n",
            "   [0 0 1]]\n",
            "\n",
            "  [[3 4 3]\n",
            "   [1 4 2]\n",
            "   [0 1 2]]\n",
            "\n",
            "  [[4 3 0]\n",
            "   [4 2 3]\n",
            "   [1 2 1]]]\n",
            "\n",
            "\n",
            " [[[0 1 1]\n",
            "   [1 1 4]\n",
            "   [0 0 0]]\n",
            "\n",
            "  [[1 1 4]\n",
            "   [1 4 4]\n",
            "   [0 0 4]]\n",
            "\n",
            "  [[1 4 4]\n",
            "   [4 4 0]\n",
            "   [0 4 0]]\n",
            "\n",
            "  [[4 4 1]\n",
            "   [4 0 0]\n",
            "   [4 0 1]]\n",
            "\n",
            "  [[4 1 1]\n",
            "   [0 0 0]\n",
            "   [0 1 0]]\n",
            "\n",
            "  [[1 1 4]\n",
            "   [0 0 1]\n",
            "   [1 0 4]]\n",
            "\n",
            "  [[1 4 2]\n",
            "   [0 1 2]\n",
            "   [0 4 2]]\n",
            "\n",
            "  [[4 2 3]\n",
            "   [1 2 1]\n",
            "   [4 2 1]]]]\n"
          ]
        }
      ],
      "source": [
        "Z = np.random.randint(0,5,(10,10))\n",
        "n = 3\n",
        "i = 1 + (Z.shape[0]-3)\n",
        "j = 1 + (Z.shape[1]-3)\n",
        "C = stride_tricks.as_strided(Z, shape=(i, j, n, n), strides=Z.strides + Z.strides)\n",
        "print(C)"
      ],
      "id": "d58b1318"
    },
    {
      "cell_type": "markdown",
      "metadata": {
        "id": "1a18b263"
      },
      "source": [
        "#### 85. Create a 2D array subclass such that Z[i,j] == Z[j,i] (★★★)"
      ],
      "id": "1a18b263"
    },
    {
      "cell_type": "code",
      "execution_count": null,
      "metadata": {
        "id": "87f17adc",
        "colab": {
          "base_uri": "https://localhost:8080/"
        },
        "outputId": "0ee6a34b-c72e-4b43-a3b4-bcd690f2f51d"
      },
      "outputs": [
        {
          "output_type": "stream",
          "name": "stdout",
          "text": [
            "[[ 4 13  1 12  2]\n",
            " [13  6 12 12 10]\n",
            " [ 1 12  4 42  3]\n",
            " [12 12 42  1  9]\n",
            " [ 2 10  3  9  3]]\n"
          ]
        }
      ],
      "source": [
        "class Symetric(np.ndarray):\n",
        "    def __setitem__(self, index, value):\n",
        "        i,j = index\n",
        "        super(Symetric, self).__setitem__((i,j), value)\n",
        "        super(Symetric, self).__setitem__((j,i), value)\n",
        "\n",
        "def symetric(Z):\n",
        "    return np.asarray(Z + Z.T - np.diag(Z.diagonal())).view(Symetric)\n",
        "\n",
        "S = symetric(np.random.randint(0,10,(5,5)))\n",
        "S[2,3] = 42\n",
        "print(S)"
      ],
      "id": "87f17adc"
    },
    {
      "cell_type": "markdown",
      "metadata": {
        "id": "f85f2cad"
      },
      "source": [
        "#### 86. Consider a set of p matrices wich shape (n,n) and a set of p vectors with shape (n,1). How to compute the sum of of the p matrix products at once? (result has shape (n,1)) (★★★)"
      ],
      "id": "f85f2cad"
    },
    {
      "cell_type": "code",
      "execution_count": null,
      "metadata": {
        "id": "8d230557",
        "colab": {
          "base_uri": "https://localhost:8080/"
        },
        "outputId": "3fe4dcbf-bf6f-41a4-d694-7da6aca88977"
      },
      "outputs": [
        {
          "output_type": "stream",
          "name": "stdout",
          "text": [
            "[[200.]\n",
            " [200.]\n",
            " [200.]\n",
            " [200.]\n",
            " [200.]\n",
            " [200.]\n",
            " [200.]\n",
            " [200.]\n",
            " [200.]\n",
            " [200.]\n",
            " [200.]\n",
            " [200.]\n",
            " [200.]\n",
            " [200.]\n",
            " [200.]\n",
            " [200.]\n",
            " [200.]\n",
            " [200.]\n",
            " [200.]\n",
            " [200.]]\n"
          ]
        }
      ],
      "source": [
        "p, n = 10, 20\n",
        "M = np.ones((p,n,n))\n",
        "V = np.ones((p,n,1))\n",
        "S = np.tensordot(M, V, axes=[[0, 2], [0, 1]])\n",
        "print(S)"
      ],
      "id": "8d230557"
    },
    {
      "cell_type": "markdown",
      "metadata": {
        "id": "5afb72c8"
      },
      "source": [
        "#### 87. Consider a 16x16 array, how to get the block-sum (block size is 4x4)? (★★★)"
      ],
      "id": "5afb72c8"
    },
    {
      "cell_type": "code",
      "execution_count": null,
      "metadata": {
        "id": "e86f47a9",
        "colab": {
          "base_uri": "https://localhost:8080/"
        },
        "outputId": "301c4d3a-8233-42d6-9bf0-804bfd475284"
      },
      "outputs": [
        {
          "output_type": "stream",
          "name": "stdout",
          "text": [
            "[[16. 16. 16. 16.]\n",
            " [16. 16. 16. 16.]\n",
            " [16. 16. 16. 16.]\n",
            " [16. 16. 16. 16.]]\n"
          ]
        }
      ],
      "source": [
        "Z = np.ones((16,16))\n",
        "k = 4\n",
        "S = np.add.reduceat(np.add.reduceat(Z, np.arange(0, Z.shape[0], k), axis=0),\n",
        "                                       np.arange(0, Z.shape[1], k), axis=1)\n",
        "print(S)"
      ],
      "id": "e86f47a9"
    },
    {
      "cell_type": "markdown",
      "metadata": {
        "id": "6094d37c"
      },
      "source": [
        "#### 88. How to implement the Game of Life using numpy arrays? (★★★)"
      ],
      "id": "6094d37c"
    },
    {
      "cell_type": "code",
      "execution_count": null,
      "metadata": {
        "id": "a93e715f",
        "colab": {
          "base_uri": "https://localhost:8080/"
        },
        "outputId": "46c5870c-fc59-47f6-c822-e832e5e5bff5"
      },
      "outputs": [
        {
          "output_type": "stream",
          "name": "stdout",
          "text": [
            "[[0 0 0 ... 0 0 0]\n",
            " [0 0 0 ... 0 0 0]\n",
            " [0 0 0 ... 0 0 0]\n",
            " ...\n",
            " [0 0 0 ... 0 0 0]\n",
            " [0 0 0 ... 0 0 0]\n",
            " [0 0 0 ... 0 0 0]]\n"
          ]
        }
      ],
      "source": [
        "def iterate(Z):\n",
        "    N = (Z[0:-2,0:-2] + Z[0:-2,1:-1] + Z[0:-2,2:] +\n",
        "         Z[1:-1,0:-2]                + Z[1:-1,2:] +\n",
        "         Z[2:  ,0:-2] + Z[2:  ,1:-1] + Z[2:  ,2:])\n",
        "    birth = (N==3) & (Z[1:-1,1:-1]==0)\n",
        "    survive = ((N==2) | (N==3)) & (Z[1:-1,1:-1]==1)\n",
        "    Z[...] = 0\n",
        "    Z[1:-1,1:-1][birth | survive] = 1\n",
        "    return Z\n",
        "Z = np.random.randint(0,2,(50,50))\n",
        "for i in range(100): Z = iterate(Z)\n",
        "print(Z)"
      ],
      "id": "a93e715f"
    },
    {
      "cell_type": "markdown",
      "metadata": {
        "id": "a173cf96"
      },
      "source": [
        "#### 89. How to get the n largest values of an array (★★★)"
      ],
      "id": "a173cf96"
    },
    {
      "cell_type": "code",
      "execution_count": null,
      "metadata": {
        "id": "b7c2ff35",
        "colab": {
          "base_uri": "https://localhost:8080/"
        },
        "outputId": "46487adb-fa3b-43fd-e9c0-512c496235df"
      },
      "outputs": [
        {
          "output_type": "stream",
          "name": "stdout",
          "text": [
            "[9995 9996 9997 9998 9999]\n",
            "[9996 9997 9999 9998 9995]\n"
          ]
        }
      ],
      "source": [
        "Z = np.arange(10000)\n",
        "np.random.shuffle(Z)\n",
        "n = 5\n",
        "print (Z[np.argsort(Z)[-n:]])\n",
        "print (Z[np.argpartition(-Z,n)[:n]])"
      ],
      "id": "b7c2ff35"
    },
    {
      "cell_type": "markdown",
      "metadata": {
        "id": "15db2d01"
      },
      "source": [
        "#### 90. Given an arbitrary number of vectors, build the cartesian product (every combinations of every item) (★★★)"
      ],
      "id": "15db2d01"
    },
    {
      "cell_type": "code",
      "execution_count": null,
      "metadata": {
        "id": "a9a4633d",
        "colab": {
          "base_uri": "https://localhost:8080/"
        },
        "outputId": "5e4256fb-80c3-4434-9fd5-34e697b39adb"
      },
      "outputs": [
        {
          "output_type": "stream",
          "name": "stdout",
          "text": [
            "[[1 4 6]\n",
            " [1 4 7]\n",
            " [1 5 6]\n",
            " [1 5 7]\n",
            " [2 4 6]\n",
            " [2 4 7]\n",
            " [2 5 6]\n",
            " [2 5 7]\n",
            " [3 4 6]\n",
            " [3 4 7]\n",
            " [3 5 6]\n",
            " [3 5 7]]\n"
          ]
        }
      ],
      "source": [
        "def cartesian(arrays):\n",
        "    arrays = [np.asarray(a) for a in arrays]\n",
        "    shape = (len(x) for x in arrays)\n",
        "\n",
        "    ix = np.indices(shape, dtype=int)\n",
        "    ix = ix.reshape(len(arrays), -1).T\n",
        "\n",
        "    for n, arr in enumerate(arrays):\n",
        "        ix[:, n] = arrays[n][ix[:, n]]\n",
        "\n",
        "    return ix\n",
        "\n",
        "print (cartesian(([1, 2, 3], [4, 5], [6, 7])))"
      ],
      "id": "a9a4633d"
    },
    {
      "cell_type": "markdown",
      "metadata": {
        "id": "5d94d1ef"
      },
      "source": [
        "#### 91. How to create a record array from a regular array? (★★★)"
      ],
      "id": "5d94d1ef"
    },
    {
      "cell_type": "code",
      "execution_count": null,
      "metadata": {
        "id": "b1dae380",
        "colab": {
          "base_uri": "https://localhost:8080/"
        },
        "outputId": "1a2282cb-39bb-41b6-b066-a7979bfadab3"
      },
      "outputs": [
        {
          "output_type": "stream",
          "name": "stdout",
          "text": [
            "[(b'Hello', 2.5, 3) (b'World', 3.6, 2)]\n"
          ]
        }
      ],
      "source": [
        "Z = np.array([(\"Hello\", 2.5, 3),\n",
        "              (\"World\", 3.6, 2)])\n",
        "R = np.core.records.fromarrays(Z.T,\n",
        "                               names='col1, col2, col3',\n",
        "                               formats = 'S8, f8, i8')\n",
        "print(R)\n"
      ],
      "id": "b1dae380"
    },
    {
      "cell_type": "markdown",
      "metadata": {
        "id": "114ccc36"
      },
      "source": [
        "#### 92. Consider a large vector Z, compute Z to the power of 3 using 3 different methods (★★★)"
      ],
      "id": "114ccc36"
    },
    {
      "cell_type": "code",
      "execution_count": null,
      "metadata": {
        "id": "877c65d6",
        "colab": {
          "base_uri": "https://localhost:8080/",
          "height": 349
        },
        "outputId": "13f7148a-4bbd-4214-fa3b-a3066671c10e"
      },
      "outputs": [
        {
          "output_type": "error",
          "ename": "TypeError",
          "evalue": "ignored",
          "traceback": [
            "\u001b[0;31m---------------------------------------------------------------------------\u001b[0m",
            "\u001b[0;31mTypeError\u001b[0m                                 Traceback (most recent call last)",
            "\u001b[0;32m<ipython-input-92-a370807230cb>\u001b[0m in \u001b[0;36m<cell line: 1>\u001b[0;34m()\u001b[0m\n\u001b[0;32m----> 1\u001b[0;31m \u001b[0mx\u001b[0m \u001b[0;34m=\u001b[0m \u001b[0mnp\u001b[0m\u001b[0;34m.\u001b[0m\u001b[0mrandom\u001b[0m\u001b[0;34m.\u001b[0m\u001b[0mrand\u001b[0m\u001b[0;34m(\u001b[0m\u001b[0;36m5e7\u001b[0m\u001b[0;34m)\u001b[0m\u001b[0;34m\u001b[0m\u001b[0;34m\u001b[0m\u001b[0m\n\u001b[0m\u001b[1;32m      2\u001b[0m \u001b[0;34m\u001b[0m\u001b[0m\n\u001b[1;32m      3\u001b[0m \u001b[0mget_ipython\u001b[0m\u001b[0;34m(\u001b[0m\u001b[0;34m)\u001b[0m\u001b[0;34m.\u001b[0m\u001b[0mrun_line_magic\u001b[0m\u001b[0;34m(\u001b[0m\u001b[0;34m'timeit'\u001b[0m\u001b[0;34m,\u001b[0m \u001b[0;34m'np.power(x,3)'\u001b[0m\u001b[0;34m)\u001b[0m\u001b[0;34m\u001b[0m\u001b[0;34m\u001b[0m\u001b[0m\n\u001b[1;32m      4\u001b[0m \u001b[0mget_ipython\u001b[0m\u001b[0;34m(\u001b[0m\u001b[0;34m)\u001b[0m\u001b[0;34m.\u001b[0m\u001b[0mrun_line_magic\u001b[0m\u001b[0;34m(\u001b[0m\u001b[0;34m'timeit'\u001b[0m\u001b[0;34m,\u001b[0m \u001b[0;34m'x*x*x'\u001b[0m\u001b[0;34m)\u001b[0m\u001b[0;34m\u001b[0m\u001b[0;34m\u001b[0m\u001b[0m\n\u001b[1;32m      5\u001b[0m \u001b[0mget_ipython\u001b[0m\u001b[0;34m(\u001b[0m\u001b[0;34m)\u001b[0m\u001b[0;34m.\u001b[0m\u001b[0mrun_line_magic\u001b[0m\u001b[0;34m(\u001b[0m\u001b[0;34m'timeit'\u001b[0m\u001b[0;34m,\u001b[0m \u001b[0;34m\"np.einsum('i,i,i->i',x,x,x)\"\u001b[0m\u001b[0;34m)\u001b[0m\u001b[0;34m\u001b[0m\u001b[0;34m\u001b[0m\u001b[0m\n",
            "\u001b[0;32mmtrand.pyx\u001b[0m in \u001b[0;36mnumpy.random.mtrand.RandomState.rand\u001b[0;34m()\u001b[0m\n",
            "\u001b[0;32mmtrand.pyx\u001b[0m in \u001b[0;36mnumpy.random.mtrand.RandomState.random_sample\u001b[0;34m()\u001b[0m\n",
            "\u001b[0;32m_common.pyx\u001b[0m in \u001b[0;36mnumpy.random._common.double_fill\u001b[0;34m()\u001b[0m\n",
            "\u001b[0;31mTypeError\u001b[0m: 'float' object cannot be interpreted as an integer"
          ]
        }
      ],
      "source": [
        "x = np.random.rand(5e7)\n",
        "\n",
        "%timeit np.power(x,3)\n",
        "%timeit x*x*x\n",
        "%timeit np.einsum('i,i,i->i',x,x,x)"
      ],
      "id": "877c65d6"
    },
    {
      "cell_type": "markdown",
      "metadata": {
        "id": "d614fee4"
      },
      "source": [
        "#### 93. Consider two arrays A and B of shape (8,3) and (2,2). How to find rows of A that contain elements of each row of B regardless of the order of the elements in B? (★★★)"
      ],
      "id": "d614fee4"
    },
    {
      "cell_type": "code",
      "execution_count": null,
      "metadata": {
        "id": "e6807a84",
        "colab": {
          "base_uri": "https://localhost:8080/"
        },
        "outputId": "9d05376e-3f44-4362-a258-98980e905a09"
      },
      "outputs": [
        {
          "output_type": "stream",
          "name": "stdout",
          "text": [
            "[0 7]\n"
          ]
        }
      ],
      "source": [
        "A = np.random.randint(0,5,(8,3))\n",
        "B = np.random.randint(0,5,(2,2))\n",
        "\n",
        "C = (A[..., np.newaxis, np.newaxis] == B)\n",
        "rows = np.where(C.any((3,1)).all(1))[0]\n",
        "print(rows)"
      ],
      "id": "e6807a84"
    },
    {
      "cell_type": "markdown",
      "metadata": {
        "id": "b0eedca6"
      },
      "source": [
        "#### 94. Considering a 10x3 matrix, extract rows with unequal values (e.g. [2,2,3]) (★★★)"
      ],
      "id": "b0eedca6"
    },
    {
      "cell_type": "code",
      "execution_count": null,
      "metadata": {
        "id": "fc136ce2",
        "colab": {
          "base_uri": "https://localhost:8080/"
        },
        "outputId": "835b058a-28d8-451e-91a5-9e66372f2036"
      },
      "outputs": [
        {
          "output_type": "stream",
          "name": "stdout",
          "text": [
            "[[2 3 4]\n",
            " [1 3 4]\n",
            " [1 1 3]\n",
            " [3 4 1]\n",
            " [2 4 0]\n",
            " [3 2 0]\n",
            " [1 2 0]\n",
            " [4 4 3]\n",
            " [3 3 4]\n",
            " [3 1 4]]\n",
            "[[2 3 4]\n",
            " [1 3 4]\n",
            " [1 1 3]\n",
            " [3 4 1]\n",
            " [2 4 0]\n",
            " [3 2 0]\n",
            " [1 2 0]\n",
            " [4 4 3]\n",
            " [3 3 4]\n",
            " [3 1 4]]\n",
            "[[2 3 4]\n",
            " [1 3 4]\n",
            " [1 1 3]\n",
            " [3 4 1]\n",
            " [2 4 0]\n",
            " [3 2 0]\n",
            " [1 2 0]\n",
            " [4 4 3]\n",
            " [3 3 4]\n",
            " [3 1 4]]\n"
          ]
        }
      ],
      "source": [
        "Z = np.random.randint(0,5,(10,3))\n",
        "print(Z)\n",
        "# solution for arrays of all dtypes (including string arrays and record arrays)\n",
        "E = np.all(Z[:,1:] == Z[:,:-1], axis=1)\n",
        "U = Z[~E]\n",
        "print(U)\n",
        "# soluiton for numerical arrays only, will work for any number of columns in Z\n",
        "U = Z[Z.max(axis=1) != Z.min(axis=1),:]\n",
        "print(U)"
      ],
      "id": "fc136ce2"
    },
    {
      "cell_type": "markdown",
      "metadata": {
        "id": "a65ec1cf"
      },
      "source": [
        "#### 95. Convert a vector of ints into a matrix binary representation (★★★)"
      ],
      "id": "a65ec1cf"
    },
    {
      "cell_type": "code",
      "execution_count": null,
      "metadata": {
        "id": "323cdf4c",
        "colab": {
          "base_uri": "https://localhost:8080/"
        },
        "outputId": "0a6de2e7-79ad-4887-ea26-04cf3b99662b"
      },
      "outputs": [
        {
          "output_type": "stream",
          "name": "stdout",
          "text": [
            "[[0 0 0 0 0 0 0 0]\n",
            " [0 0 0 0 0 0 0 1]\n",
            " [0 0 0 0 0 0 1 0]\n",
            " [0 0 0 0 0 0 1 1]\n",
            " [0 0 0 0 1 1 1 1]\n",
            " [0 0 0 1 0 0 0 0]\n",
            " [0 0 1 0 0 0 0 0]\n",
            " [0 1 0 0 0 0 0 0]\n",
            " [1 0 0 0 0 0 0 0]]\n",
            "[[0 0 0 0 0 0 0 0]\n",
            " [0 0 0 0 0 0 0 1]\n",
            " [0 0 0 0 0 0 1 0]\n",
            " [0 0 0 0 0 0 1 1]\n",
            " [0 0 0 0 1 1 1 1]\n",
            " [0 0 0 1 0 0 0 0]\n",
            " [0 0 1 0 0 0 0 0]\n",
            " [0 1 0 0 0 0 0 0]\n",
            " [1 0 0 0 0 0 0 0]]\n"
          ]
        }
      ],
      "source": [
        "I = np.array([0, 1, 2, 3, 15, 16, 32, 64, 128])\n",
        "B = ((I.reshape(-1,1) & (2**np.arange(8))) != 0).astype(int)\n",
        "print(B[:,::-1])\n",
        "\n",
        "# Author: Daniel T. McDonald\n",
        "\n",
        "I = np.array([0, 1, 2, 3, 15, 16, 32, 64, 128], dtype=np.uint8)\n",
        "print(np.unpackbits(I[:, np.newaxis], axis=1))"
      ],
      "id": "323cdf4c"
    },
    {
      "cell_type": "markdown",
      "metadata": {
        "id": "75b9397f"
      },
      "source": [
        "#### 96. Given a two dimensional array, how to extract unique rows? (★★★)"
      ],
      "id": "75b9397f"
    },
    {
      "cell_type": "code",
      "execution_count": null,
      "metadata": {
        "id": "9bb56a47",
        "colab": {
          "base_uri": "https://localhost:8080/"
        },
        "outputId": "4321b049-754e-4cdc-e252-80fc860b8aa0"
      },
      "outputs": [
        {
          "output_type": "stream",
          "name": "stdout",
          "text": [
            "[[0 0 0]\n",
            " [0 1 0]\n",
            " [0 1 1]\n",
            " [1 0 1]\n",
            " [1 1 0]]\n",
            "[[0 0 0]\n",
            " [0 1 0]\n",
            " [0 1 1]\n",
            " [1 0 1]\n",
            " [1 1 0]]\n"
          ]
        }
      ],
      "source": [
        "Z = np.random.randint(0,2,(6,3))\n",
        "T = np.ascontiguousarray(Z).view(np.dtype((np.void, Z.dtype.itemsize * Z.shape[1])))\n",
        "_, idx = np.unique(T, return_index=True)\n",
        "uZ = Z[idx]\n",
        "print(uZ)\n",
        "\n",
        "# Author: Andreas Kouzelis\n",
        "# NumPy >= 1.13\n",
        "uZ = np.unique(Z, axis=0)\n",
        "print(uZ)"
      ],
      "id": "9bb56a47"
    },
    {
      "cell_type": "markdown",
      "metadata": {
        "id": "82aaf21b"
      },
      "source": [
        "#### 97. Considering 2 vectors A & B, write the einsum equivalent of inner, outer, sum, and mul function (★★★)"
      ],
      "id": "82aaf21b"
    },
    {
      "cell_type": "code",
      "execution_count": null,
      "metadata": {
        "id": "cedcefd9",
        "colab": {
          "base_uri": "https://localhost:8080/"
        },
        "outputId": "d4021ceb-b265-4ecc-b115-3f3f6d26e1fd"
      },
      "outputs": [
        {
          "output_type": "execute_result",
          "data": {
            "text/plain": [
              "array([[2.02254280e-03, 2.73802638e-01, 5.38289704e-01, 7.19143982e-01,\n",
              "        3.69623544e-01, 6.85765632e-01, 1.26573255e-01, 5.09601180e-01,\n",
              "        2.35967039e-01, 6.75671230e-01],\n",
              "       [2.09372428e-03, 2.83438863e-01, 5.57234301e-01, 7.44453575e-01,\n",
              "        3.82632095e-01, 7.09900506e-01, 1.31027881e-01, 5.27536112e-01,\n",
              "        2.44271676e-01, 6.99450841e-01],\n",
              "       [2.47384932e-03, 3.34898460e-01, 6.58402689e-01, 8.79612461e-01,\n",
              "        4.52100669e-01, 8.38786128e-01, 1.54816581e-01, 6.23312660e-01,\n",
              "        2.88620295e-01, 8.26439279e-01],\n",
              "       [9.22781594e-04, 1.24921972e-01, 2.45593731e-01, 3.28108177e-01,\n",
              "        1.68640092e-01, 3.12879364e-01, 5.77488252e-02, 2.32504642e-01,\n",
              "        1.07659547e-01, 3.08273811e-01],\n",
              "       [2.05544991e-03, 2.78257454e-01, 5.47047769e-01, 7.30844577e-01,\n",
              "        3.75637382e-01, 6.96923157e-01, 1.28632624e-01, 5.17892479e-01,\n",
              "        2.39806263e-01, 6.86664517e-01],\n",
              "       [2.34937307e-03, 3.18047433e-01, 6.25273955e-01, 8.35353154e-01,\n",
              "        4.29352398e-01, 7.96581072e-01, 1.47026702e-01, 5.91949546e-01,\n",
              "        2.74097838e-01, 7.84855478e-01],\n",
              "       [3.29440891e-04, 4.45982084e-02, 8.76790544e-02, 1.17137415e-01,\n",
              "        6.02059496e-02, 1.11700599e-01, 2.06168226e-02, 8.30061383e-02,\n",
              "        3.84353754e-02, 1.10056377e-01],\n",
              "       [9.89219136e-04, 1.33915984e-01, 2.63275752e-01, 3.51730994e-01,\n",
              "        1.80781679e-01, 3.35405751e-01, 6.19065696e-02, 2.49244288e-01,\n",
              "        1.15410715e-01, 3.30468612e-01],\n",
              "       [4.86190551e-04, 6.58182638e-02, 1.29397196e-01, 1.72871995e-01,\n",
              "        8.88522481e-02, 1.64848314e-01, 3.04264122e-02, 1.22500883e-01,\n",
              "        5.67231234e-02, 1.62421763e-01],\n",
              "       [2.47371386e-03, 3.34880123e-01, 6.58366638e-01, 8.79564298e-01,\n",
              "        4.52075914e-01, 8.38740200e-01, 1.54808104e-01, 6.23278531e-01,\n",
              "        2.88604491e-01, 8.26394027e-01]])"
            ]
          },
          "metadata": {},
          "execution_count": 97
        }
      ],
      "source": [
        "A = np.random.uniform(0,1,10)\n",
        "B = np.random.uniform(0,1,10)\n",
        "\n",
        "np.einsum('i->', A)       # np.sum(A)\n",
        "np.einsum('i,i->i', A, B) # A * B\n",
        "np.einsum('i,i', A, B)    # np.inner(A, B)\n",
        "np.einsum('i,j->ij', A, B)    # np.outer(A, B)"
      ],
      "id": "cedcefd9"
    },
    {
      "cell_type": "markdown",
      "metadata": {
        "id": "7741e17f"
      },
      "source": [
        "#### 98. Considering a path described by two vectors (X,Y), how to sample it using equidistant samples (★★★)?"
      ],
      "id": "7741e17f"
    },
    {
      "cell_type": "code",
      "execution_count": null,
      "metadata": {
        "id": "0b2432fe"
      },
      "outputs": [],
      "source": [
        "phi = np.arange(0, 10*np.pi, 0.1)\n",
        "a = 1\n",
        "x = a*phi*np.cos(phi)\n",
        "y = a*phi*np.sin(phi)\n",
        "\n",
        "dr = (np.diff(x)**2 + np.diff(y)**2)**.5 # segment lengths\n",
        "r = np.zeros_like(x)\n",
        "r[1:] = np.cumsum(dr)                # integrate path\n",
        "r_int = np.linspace(0, r.max(), 200) # regular spaced path\n",
        "x_int = np.interp(r_int, r, x)       # integrate path\n",
        "y_int = np.interp(r_int, r, y)"
      ],
      "id": "0b2432fe"
    },
    {
      "cell_type": "markdown",
      "metadata": {
        "id": "340d6f36"
      },
      "source": [
        "#### 99. Given an integer n and a 2D array X, select from X the rows which can be interpreted as draws from a multinomial distribution with n degrees, i.e., the rows which only contain integers and which sum to n. (★★★)"
      ],
      "id": "340d6f36"
    },
    {
      "cell_type": "code",
      "execution_count": null,
      "metadata": {
        "id": "a75323ae",
        "colab": {
          "base_uri": "https://localhost:8080/"
        },
        "outputId": "d98d67ac-8bbe-492e-9996-6e9d7f79c646"
      },
      "outputs": [
        {
          "output_type": "stream",
          "name": "stdout",
          "text": [
            "[[2. 0. 1. 1.]]\n"
          ]
        }
      ],
      "source": [
        "X = np.asarray([[1.0, 0.0, 3.0, 8.0],\n",
        "                [2.0, 0.0, 1.0, 1.0],\n",
        "                [1.5, 2.5, 1.0, 0.0]])\n",
        "n = 4\n",
        "M = np.logical_and.reduce(np.mod(X, 1) == 0, axis=-1)\n",
        "M &= (X.sum(axis=-1) == n)\n",
        "print(X[M])\n"
      ],
      "id": "a75323ae"
    },
    {
      "cell_type": "markdown",
      "metadata": {
        "id": "19721849"
      },
      "source": [
        "#### 100. Compute bootstrapped 95% confidence intervals for the mean of a 1D array X (i.e., resample the elements of an array with replacement N times, compute the mean of each sample, and then compute percentiles over the means). (★★★)"
      ],
      "id": "19721849"
    },
    {
      "cell_type": "code",
      "execution_count": null,
      "metadata": {
        "id": "87309c6f",
        "colab": {
          "base_uri": "https://localhost:8080/"
        },
        "outputId": "848ba77a-8f98-400b-a8b6-ba5b72c62714"
      },
      "outputs": [
        {
          "output_type": "stream",
          "name": "stdout",
          "text": [
            "[-0.17467315  0.22430412]\n"
          ]
        }
      ],
      "source": [
        "X = np.random.randn(100) # random 1D array\n",
        "N = 1000 # number of bootstrap samples\n",
        "idx = np.random.randint(0, X.size, (N, X.size))\n",
        "means = X[idx].mean(axis=1)\n",
        "confint = np.percentile(means, [2.5, 97.5])\n",
        "print(confint)"
      ],
      "id": "87309c6f"
    }
  ],
  "metadata": {
    "colab": {
      "provenance": [],
      "include_colab_link": true
    },
    "kernelspec": {
      "display_name": "Python 3",
      "name": "python3"
    },
    "language_info": {
      "name": "python"
    }
  },
  "nbformat": 4,
  "nbformat_minor": 5
}